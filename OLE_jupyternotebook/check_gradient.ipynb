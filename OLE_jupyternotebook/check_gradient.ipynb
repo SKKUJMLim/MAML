{
 "cells": [
  {
   "cell_type": "markdown",
   "id": "b209e912",
   "metadata": {},
   "source": [
    "# (목적)Gradient를 확인한다\n",
    "## 전체 Gradient에 3을 곱한것과 parameter 별로 gradient에 3을 곱한 것이 차이가 나는지 확인"
   ]
  },
  {
   "cell_type": "code",
   "execution_count": 181,
   "id": "3d4115e5",
   "metadata": {},
   "outputs": [
    {
     "name": "stdout",
     "output_type": "stream",
     "text": [
      "Cross Entropy Loss Gradient:\n",
      "tensor([[ 0.1462, -0.1110],\n",
      "        [-0.1462,  0.1110]])\n",
      "tensor([ 0.0093, -0.0093])\n",
      "\n",
      "KL Divergence Loss Gradient:\n",
      "tensor([[ 0.1462, -0.1110],\n",
      "        [-0.1462,  0.1110]])\n",
      "tensor([ 0.0093, -0.0093])\n"
     ]
    }
   ],
   "source": [
    "import torch\n",
    "import torch.nn as nn\n",
    "\n",
    "# 예제 데이터 생성\n",
    "X = torch.randn(100, 2)\n",
    "y = torch.randint(0, 2, (100,))\n",
    "\n",
    "# 모델 정의\n",
    "class ClassificationModel(nn.Module):\n",
    "    def __init__(self):\n",
    "        super(ClassificationModel, self).__init__()\n",
    "        self.fc1 = nn.Linear(2, 2)\n",
    "    \n",
    "    def forward(self, x):\n",
    "        x = self.fc1(x)\n",
    "        return x\n",
    "\n",
    "model = ClassificationModel()\n",
    "\n",
    "# Cross Entropy Loss와 KL Divergence Loss 정의\n",
    "cross_entropy_loss = nn.CrossEntropyLoss()\n",
    "kl_divergence_loss = nn.KLDivLoss(reduction='batchmean')\n",
    "\n",
    "# Forward Pass\n",
    "outputs = model(X)\n",
    "\n",
    "# Cross Entropy Loss 계산\n",
    "ce_loss = cross_entropy_loss(outputs, y)\n",
    "\n",
    "# KL Divergence Loss 계산\n",
    "p = torch.tensor([0.1, 0.2])  # 예시 분포\n",
    "kl_loss = kl_divergence_loss(torch.log(outputs), p)\n",
    "kl_loss = ce_loss\n",
    "\n",
    "# Gradient 계산 (torch.autograd.grad 사용)\n",
    "ce_gradient = grad(ce_loss, model.parameters(), retain_graph=True)\n",
    "kl_gradient = grad(kl_loss, model.parameters(), retain_graph=True)\n",
    "\n",
    "# Gradient 확인\n",
    "print(\"Cross Entropy Loss Gradient:\")\n",
    "for grad_param in ce_gradient:\n",
    "    print(grad_param)\n",
    "\n",
    "print(\"\\nKL Divergence Loss Gradient:\")\n",
    "for grad_param in kl_gradient:\n",
    "    print(grad_param)"
   ]
  },
  {
   "cell_type": "code",
   "execution_count": 182,
   "id": "6dd2a023",
   "metadata": {},
   "outputs": [
    {
     "data": {
      "text/plain": [
       "tensor(0.7601, grad_fn=<NllLossBackward>)"
      ]
     },
     "execution_count": 182,
     "metadata": {},
     "output_type": "execute_result"
    }
   ],
   "source": [
    "ce_loss"
   ]
  },
  {
   "cell_type": "code",
   "execution_count": 183,
   "id": "3bb44854",
   "metadata": {},
   "outputs": [
    {
     "data": {
      "text/plain": [
       "tensor(0.7601, grad_fn=<NllLossBackward>)"
      ]
     },
     "execution_count": 183,
     "metadata": {},
     "output_type": "execute_result"
    }
   ],
   "source": [
    "kl_loss"
   ]
  },
  {
   "cell_type": "code",
   "execution_count": 184,
   "id": "5698603e",
   "metadata": {},
   "outputs": [
    {
     "data": {
      "text/plain": [
       "tensor(2.2804, grad_fn=<AddBackward0>)"
      ]
     },
     "execution_count": 184,
     "metadata": {},
     "output_type": "execute_result"
    }
   ],
   "source": [
    "total_loss = ce_loss + 2 * kl_loss\n",
    "total_loss"
   ]
  },
  {
   "cell_type": "code",
   "execution_count": 185,
   "id": "b0e53d7c",
   "metadata": {},
   "outputs": [
    {
     "data": {
      "text/plain": [
       "(tensor([[ 0.4385, -0.3331],\n",
       "         [-0.4385,  0.3331]]),\n",
       " tensor([ 0.0278, -0.0278]))"
      ]
     },
     "execution_count": 185,
     "metadata": {},
     "output_type": "execute_result"
    }
   ],
   "source": [
    "ce_gradient = torch.autograd.grad(total_loss, model.parameters(), retain_graph=True)\n",
    "ce_gradient"
   ]
  },
  {
   "cell_type": "markdown",
   "id": "9fc7b737",
   "metadata": {},
   "source": [
    "## 1. Gradient를 추가적으로 구해도 retain_graph=True를 설정하면, 값이 변하지 않는다"
   ]
  },
  {
   "cell_type": "code",
   "execution_count": 186,
   "id": "77c1fe23",
   "metadata": {},
   "outputs": [
    {
     "name": "stdout",
     "output_type": "stream",
     "text": [
      "tensor([[ 0.1462, -0.1110],\n",
      "        [-0.1462,  0.1110]])\n",
      "tensor([ 0.0093, -0.0093])\n"
     ]
    }
   ],
   "source": [
    "ce_gradient = torch.autograd.grad(ce_loss, model.parameters(), retain_graph=True)\n",
    "for grad_param in ce_gradient:\n",
    "    print(grad_param)"
   ]
  },
  {
   "cell_type": "markdown",
   "id": "8fb38c70",
   "metadata": {},
   "source": [
    "# 2. 전체 gradient에 3을 곱한다\n",
    "## 1) 안된다"
   ]
  },
  {
   "cell_type": "code",
   "execution_count": 187,
   "id": "3bdede2c",
   "metadata": {},
   "outputs": [
    {
     "name": "stdout",
     "output_type": "stream",
     "text": [
      "tensor([[ 0.1462, -0.1110],\n",
      "        [-0.1462,  0.1110]])\n",
      "tensor([ 0.0093, -0.0093])\n",
      "tensor([[ 0.1462, -0.1110],\n",
      "        [-0.1462,  0.1110]])\n",
      "tensor([ 0.0093, -0.0093])\n",
      "tensor([[ 0.1462, -0.1110],\n",
      "        [-0.1462,  0.1110]])\n",
      "tensor([ 0.0093, -0.0093])\n"
     ]
    }
   ],
   "source": [
    "ce_gradient =  torch.tensor(3) * torch.autograd.grad(ce_loss, model.parameters(), retain_graph=True)\n",
    "for grad_param in ce_gradient:\n",
    "    print(grad_param)"
   ]
  },
  {
   "cell_type": "markdown",
   "id": "f48521e1",
   "metadata": {},
   "source": [
    "## 2) 덧셈 조차 하면 안된다"
   ]
  },
  {
   "cell_type": "code",
   "execution_count": 188,
   "id": "31ef3c09",
   "metadata": {},
   "outputs": [
    {
     "data": {
      "text/plain": [
       "(tensor([[ 0.1462, -0.1110],\n",
       "         [-0.1462,  0.1110]]),\n",
       " tensor([ 0.0093, -0.0093]),\n",
       " tensor([[ 0.1462, -0.1110],\n",
       "         [-0.1462,  0.1110]]),\n",
       " tensor([ 0.0093, -0.0093]),\n",
       " tensor([[ 0.1462, -0.1110],\n",
       "         [-0.1462,  0.1110]]),\n",
       " tensor([ 0.0093, -0.0093]),\n",
       " tensor([[ 0.1462, -0.1110],\n",
       "         [-0.1462,  0.1110]]),\n",
       " tensor([ 0.0093, -0.0093]))"
      ]
     },
     "execution_count": 188,
     "metadata": {},
     "output_type": "execute_result"
    }
   ],
   "source": [
    "total_gradient = ce_gradient + kl_gradient\n",
    "total_gradient"
   ]
  },
  {
   "cell_type": "markdown",
   "id": "98262982",
   "metadata": {},
   "source": [
    "## 3) loss에 3을 곱해줘야 내가 원하는 값을 얻을 수 있다"
   ]
  },
  {
   "cell_type": "code",
   "execution_count": 189,
   "id": "a85ef497",
   "metadata": {},
   "outputs": [
    {
     "name": "stdout",
     "output_type": "stream",
     "text": [
      "tensor([[ 0.4385, -0.3331],\n",
      "        [-0.4385,  0.3331]])\n",
      "tensor([ 0.0278, -0.0278])\n"
     ]
    }
   ],
   "source": [
    "ce_gradient =  torch.autograd.grad(torch.tensor(3) * ce_loss, model.parameters(), retain_graph=True)\n",
    "for grad_param in ce_gradient:\n",
    "    print(grad_param)"
   ]
  },
  {
   "cell_type": "markdown",
   "id": "3f6815cd",
   "metadata": {},
   "source": [
    "# 3. 각 parameter 별로 3을 곱해준다"
   ]
  },
  {
   "cell_type": "code",
   "execution_count": 190,
   "id": "5dab046a",
   "metadata": {},
   "outputs": [
    {
     "name": "stdout",
     "output_type": "stream",
     "text": [
      "Cross Entropy Loss Gradient:\n",
      "tensor([[ 0.4385, -0.3331],\n",
      "        [-0.4385,  0.3331]])\n",
      "tensor([ 0.0278, -0.0278])\n"
     ]
    }
   ],
   "source": [
    "# Gradient 확인\n",
    "print(\"Cross Entropy Loss Gradient:\")\n",
    "ce_gradient = torch.autograd.grad(ce_loss, model.parameters(), retain_graph=True)\n",
    "for grad_param in ce_gradient:\n",
    "    print(torch.tensor(3) * grad_param)"
   ]
  }
 ],
 "metadata": {
  "kernelspec": {
   "display_name": "Python 3 (ipykernel)",
   "language": "python",
   "name": "python3"
  },
  "language_info": {
   "codemirror_mode": {
    "name": "ipython",
    "version": 3
   },
   "file_extension": ".py",
   "mimetype": "text/x-python",
   "name": "python",
   "nbconvert_exporter": "python",
   "pygments_lexer": "ipython3",
   "version": "3.7.10"
  }
 },
 "nbformat": 4,
 "nbformat_minor": 5
}
