{
 "cells": [
  {
   "cell_type": "markdown",
   "id": "b209e912",
   "metadata": {},
   "source": [
    "# (목적)Gradient를 확인한다\n",
    "## 전체 Gradient에 3을 곱한것과 parameter 별로 gradient에 3을 곱한 것이 차이가 나는지 확인"
   ]
  },
  {
   "cell_type": "code",
   "execution_count": 41,
   "id": "3d4115e5",
   "metadata": {},
   "outputs": [
    {
     "name": "stdout",
     "output_type": "stream",
     "text": [
      "Cross Entropy Loss Gradient:\n",
      "tensor([[-0.0303,  0.0916],\n",
      "        [-0.0042,  0.0128]])\n",
      "tensor([0.3576, 0.0499])\n",
      "tensor([[-0.0640, -0.0393],\n",
      "        [ 0.0640,  0.0393]])\n",
      "tensor([-0.2848,  0.2848])\n"
     ]
    }
   ],
   "source": [
    "import torch\n",
    "import torch.nn as nn\n",
    "\n",
    "import torch.nn.functional as F\n",
    "\n",
    "# 예제 데이터 생성\n",
    "X = torch.randn(100, 2)\n",
    "y = torch.randint(0, 2, (100,))\n",
    "\n",
    "# 모델 정의\n",
    "class ClassificationModel(nn.Module):\n",
    "    def __init__(self):\n",
    "        super(ClassificationModel, self).__init__()\n",
    "        self.fc1 = nn.Linear(2, 2)\n",
    "        self.fc2 = nn.Linear(2, 2)\n",
    "    \n",
    "    def forward(self, x):\n",
    "        x = self.fc1(x)\n",
    "        x = self.fc2(x)\n",
    "        return x\n",
    "\n",
    "model = ClassificationModel()\n",
    "\n",
    "# Cross Entropy Loss와 KL Divergence Loss 정의\n",
    "cross_entropy_loss = nn.CrossEntropyLoss()\n",
    "kl_divergence_loss = nn.KLDivLoss(reduction='batchmean')\n",
    "\n",
    "# Forward Pass\n",
    "outputs = model(X)\n",
    "\n",
    "# Cross Entropy Loss 계산\n",
    "ce_loss = F.cross_entropy(outputs, y)\n",
    "\n",
    "# KL Divergence Loss 계산\n",
    "p = torch.tensor([0.1, 0.2])  # 예시 분포\n",
    "kl_loss = kl_divergence_loss(torch.log(outputs), p)\n",
    "# kl_loss = ce_loss\n",
    "\n",
    "# Gradient 계산 (torch.autograd.grad 사용)\n",
    "ce_gradient = torch.autograd.grad(ce_loss, model.parameters(), retain_graph=True)\n",
    "kl_gradient = torch.autograd.grad(kl_loss, model.parameters(), retain_graph=True)\n",
    "\n",
    "# Gradient 확인\n",
    "print(\"Cross Entropy Loss Gradient:\")\n",
    "for grad_param in ce_gradient:\n",
    "    print(grad_param)\n",
    "\n",
    "# print(\"\\nKL Divergence Loss Gradient:\")\n",
    "# for grad_param in kl_gradient:\n",
    "#     print(grad_param)"
   ]
  },
  {
   "cell_type": "code",
   "execution_count": 42,
   "id": "6dd2a023",
   "metadata": {},
   "outputs": [
    {
     "name": "stdout",
     "output_type": "stream",
     "text": [
      "Cross Entropy Loss Gradient:\n",
      "tensor([[-0.0607,  0.1832],\n",
      "        [-0.0085,  0.0256]])\n",
      "tensor([0.7153, 0.0998])\n",
      "tensor([[-0.1280, -0.0787],\n",
      "        [ 0.1280,  0.0787]])\n",
      "tensor([-0.5695,  0.5695])\n"
     ]
    }
   ],
   "source": [
    "ce_loss *= 2\n",
    "ce_gradient = torch.autograd.grad(ce_loss, model.parameters(), retain_graph=True)\n",
    "\n",
    "# Gradient 확인\n",
    "print(\"Cross Entropy Loss Gradient:\")\n",
    "for grad_param in ce_gradient:\n",
    "    print(grad_param)"
   ]
  },
  {
   "cell_type": "code",
   "execution_count": null,
   "id": "3bb44854",
   "metadata": {},
   "outputs": [],
   "source": [
    "kl_loss"
   ]
  },
  {
   "cell_type": "code",
   "execution_count": null,
   "id": "5698603e",
   "metadata": {},
   "outputs": [],
   "source": [
    "total_loss = 1 * ce_loss +  2* kl_loss\n",
    "total_loss\n",
    "total_gradient = torch.autograd.grad(total_loss, model.parameters(), retain_graph=True)\n",
    "print(total_gradient)"
   ]
  },
  {
   "cell_type": "code",
   "execution_count": null,
   "id": "42595cdd",
   "metadata": {},
   "outputs": [],
   "source": [
    "names_grads_copy = {}\n",
    "\n",
    "for param_name, ce_grad, kl_grad in zip(model.parameters(), ce_gradient, kl_gradient):\n",
    "    \n",
    "    #kl_grad = None\n",
    "    \n",
    "    if not kl_grad == None:\n",
    "        names_grads_copy[param_name] = torch.tensor(1) * ce_grad + torch.tensor(2) *  kl_grad\n",
    "    else:\n",
    "        names_grads_copy[param_name] = torch.tensor(1) * ce_grad \n",
    "    \n",
    "for key, value in names_grads_copy.items():\n",
    "    print(value)"
   ]
  },
  {
   "cell_type": "markdown",
   "id": "9fc7b737",
   "metadata": {},
   "source": [
    "## 1. Gradient를 추가적으로 구해도 retain_graph=True를 설정하면, 값이 변하지 않는다"
   ]
  },
  {
   "cell_type": "code",
   "execution_count": null,
   "id": "77c1fe23",
   "metadata": {},
   "outputs": [],
   "source": [
    "ce_gradient = torch.autograd.grad(ce_loss, model.parameters(), retain_graph=True)\n",
    "for grad_param in ce_gradient:\n",
    "    print(grad_param)"
   ]
  },
  {
   "cell_type": "markdown",
   "id": "8fb38c70",
   "metadata": {},
   "source": [
    "# 2. 전체 gradient에 3을 곱한다\n",
    "## 1) 안된다"
   ]
  },
  {
   "cell_type": "code",
   "execution_count": null,
   "id": "3bdede2c",
   "metadata": {},
   "outputs": [],
   "source": [
    "ce_gradient =  torch.tensor(3) * torch.autograd.grad(ce_loss, model.parameters(), retain_graph=True)\n",
    "for grad_param in ce_gradient:\n",
    "    print(grad_param)"
   ]
  },
  {
   "cell_type": "markdown",
   "id": "f48521e1",
   "metadata": {},
   "source": [
    "## 2) 덧셈 조차 하면 안된다"
   ]
  },
  {
   "cell_type": "code",
   "execution_count": null,
   "id": "31ef3c09",
   "metadata": {},
   "outputs": [],
   "source": [
    "total_gradient = ce_gradient + kl_gradient\n",
    "total_gradient"
   ]
  },
  {
   "cell_type": "markdown",
   "id": "98262982",
   "metadata": {},
   "source": [
    "## 3) loss에 3을 곱해줘야 내가 원하는 값을 얻을 수 있다"
   ]
  },
  {
   "cell_type": "code",
   "execution_count": null,
   "id": "a85ef497",
   "metadata": {},
   "outputs": [],
   "source": [
    "ce_gradient =  torch.autograd.grad(torch.tensor(3) * ce_loss, model.parameters(), retain_graph=True)\n",
    "for grad_param in ce_gradient:\n",
    "    print(grad_param)"
   ]
  },
  {
   "cell_type": "markdown",
   "id": "3f6815cd",
   "metadata": {},
   "source": [
    "# 3. 각 parameter 별로 3을 곱해준다"
   ]
  },
  {
   "cell_type": "code",
   "execution_count": null,
   "id": "5dab046a",
   "metadata": {},
   "outputs": [],
   "source": [
    "# Gradient 확인\n",
    "print(\"Cross Entropy Loss Gradient:\")\n",
    "ce_gradient = torch.autograd.grad(ce_loss, model.parameters(), retain_graph=True)\n",
    "for grad_param in ce_gradient:\n",
    "    print(torch.tensor(3) * grad_param)"
   ]
  },
  {
   "cell_type": "code",
   "execution_count": null,
   "id": "fbc6b756",
   "metadata": {},
   "outputs": [],
   "source": []
  }
 ],
 "metadata": {
  "kernelspec": {
   "display_name": "Python 3 (ipykernel)",
   "language": "python",
   "name": "python3"
  },
  "language_info": {
   "codemirror_mode": {
    "name": "ipython",
    "version": 3
   },
   "file_extension": ".py",
   "mimetype": "text/x-python",
   "name": "python",
   "nbconvert_exporter": "python",
   "pygments_lexer": "ipython3",
   "version": "3.7.16"
  }
 },
 "nbformat": 4,
 "nbformat_minor": 5
}
