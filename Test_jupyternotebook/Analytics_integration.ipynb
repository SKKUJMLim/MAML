{
 "cells": [
  {
   "cell_type": "code",
   "execution_count": 2,
   "id": "55d60abc",
   "metadata": {},
   "outputs": [],
   "source": [
    "import pandas as pd\n",
    "import matplotlib.pyplot as plt\n",
    "\n",
    "import torch\n",
    "\n",
    "import os\n",
    "os.environ['KMP_DUPLICATE_LIB_OK']='True'"
   ]
  },
  {
   "cell_type": "markdown",
   "id": "85a11b67",
   "metadata": {},
   "source": [
    "# 1. CSV 파일에 접근"
   ]
  },
  {
   "cell_type": "code",
   "execution_count": 4,
   "id": "85908860",
   "metadata": {},
   "outputs": [],
   "source": [
    "# CSV 파일에 접근\n",
    "maml_norm_info = pd.read_csv('../MAML_filter64/MAML_filter64_inner_loop.csv')\n",
    "arbiter_norm_info = pd.read_csv('../MAML+Arbiter_5way_5shot/MAML+Arbiter_5way_5shot_inner_loop.csv')\n",
    "\n",
    "# 훈련 정보만 가지고 온다\n",
    "maml_norm_info= maml_norm_info[maml_norm_info['phase']=='train']\n",
    "arbiter_norm_info_train= arbiter_norm_info[arbiter_norm_info['phase']=='train']"
   ]
  },
  {
   "cell_type": "markdown",
   "id": "2a1090ff",
   "metadata": {},
   "source": [
    "# 2. MAML과 Arbiter의 Step 별 정보"
   ]
  },
  {
   "cell_type": "code",
   "execution_count": 5,
   "id": "52f34c48",
   "metadata": {},
   "outputs": [],
   "source": [
    "maml_per_inner_loop_step = maml_norm_info.groupby('num_step').mean()\n",
    "arbiter_per_inner_loop_step = arbiter_norm_info.groupby('num_step').mean()"
   ]
  },
  {
   "cell_type": "markdown",
   "id": "0f6c9712",
   "metadata": {},
   "source": [
    "# 3. MAML과 Arbiter의 Iteration 별 정보"
   ]
  },
  {
   "cell_type": "code",
   "execution_count": 6,
   "id": "6f6ab2e4",
   "metadata": {},
   "outputs": [],
   "source": [
    "maml_gr = maml_norm_info.groupby('current_iter').mean()\n",
    "arbiter_gr = arbiter_norm_info.groupby('current_iter').mean()"
   ]
  }
 ],
 "metadata": {
  "kernelspec": {
   "display_name": "Python 3 (ipykernel)",
   "language": "python",
   "name": "python3"
  },
  "language_info": {
   "codemirror_mode": {
    "name": "ipython",
    "version": 3
   },
   "file_extension": ".py",
   "mimetype": "text/x-python",
   "name": "python",
   "nbconvert_exporter": "python",
   "pygments_lexer": "ipython3",
   "version": "3.7.16"
  }
 },
 "nbformat": 4,
 "nbformat_minor": 5
}
