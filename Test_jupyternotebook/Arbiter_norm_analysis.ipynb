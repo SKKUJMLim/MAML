{
 "cells": [
  {
   "cell_type": "code",
   "execution_count": 15,
   "id": "5519a5e0",
   "metadata": {},
   "outputs": [],
   "source": [
    "import pandas as pd\n",
    "import matplotlib.pyplot as plt"
   ]
  },
  {
   "cell_type": "code",
   "execution_count": 16,
   "id": "8dbec5f2",
   "metadata": {},
   "outputs": [
    {
     "name": "stderr",
     "output_type": "stream",
     "text": [
      "C:\\Users\\JM\\anaconda3\\envs\\maml\\lib\\site-packages\\IPython\\core\\interactiveshell.py:3553: DtypeWarning: Columns (0) have mixed types.Specify dtype option on import or set low_memory=False.\n",
      "  exec(code_obj, self.user_global_ns, self.user_ns)\n"
     ]
    }
   ],
   "source": [
    "norm_info = pd.read_csv('../MAML+Arbiter_5way_5shot/MAML+Arbiter_5way_5shot_inner_loop.csv')\n",
    "norm_info_train= norm_info[norm_info['phase']=='train']\n",
    "norm_info_val= norm_info[norm_info['phase']=='val']\n",
    "norm_info_test= norm_info[norm_info['current_iter']=='test']\n",
    "\n",
    "#norm_info_test.info()"
   ]
  },
  {
   "cell_type": "code",
   "execution_count": null,
   "id": "fcdc6b27",
   "metadata": {},
   "outputs": [],
   "source": [
    "column_means = norm_info_train.mean()"
   ]
  },
  {
   "cell_type": "code",
   "execution_count": null,
   "id": "652b98b0",
   "metadata": {},
   "outputs": [],
   "source": [
    " # 그래프를 그릴 컬럼들의 리스트\n",
    "columns_to_plot = ['layer_dict.conv0.conv.weight_grad_L2norm', 'layer_dict.conv1.conv.weight_grad_L2norm', 'layer_dict.conv2.conv.weight_grad_L2norm','layer_dict.conv3.conv.weight_grad_L2norm','layer_dict.linear.weights_grad_L2norm']\n",
    "columns_to_plot_label = ['conv1_w', 'conv2_w', 'conv3_w', 'conv4_w', 'classifier']\n",
    "\n",
    "# 여러 컬럼에 대한 박스 플롯을 한 번에 그리기\n",
    "plt.figure(figsize=(10, 6))  # 그래프 전체 크기 설정 (선택 사항)\n",
    "\n",
    "# 각 컬럼에 대한 박스 플롯 그리기\n",
    "plt.boxplot(norm_info_train[columns_to_plot].values, labels=columns_to_plot_label)\n",
    "plt.xlabel('layer')  # x축 라벨 설정\n",
    "plt.ylabel('Gradient L2 norm')# y축 라벨 설정\n",
    "plt.title('MAML+Arbiter')   # 그래프 제목 설정\n",
    "\n",
    "plt.show()"
   ]
  },
  {
   "cell_type": "code",
   "execution_count": null,
   "id": "0a0b27ca",
   "metadata": {},
   "outputs": [],
   "source": [
    " # 그래프를 그릴 컬럼들의 리스트\n",
    "columns_to_plot = ['layer_dict.conv0.conv.weight_alpha', \n",
    "                   'layer_dict.conv1.conv.weight_alpha',\n",
    "                   'layer_dict.conv2.conv.weight_alpha',\n",
    "                   'layer_dict.conv3.conv.weight_alpha',\n",
    "                   'layer_dict.linear.weights_alpha']\n",
    "columns_to_plot_label = ['conv1_w',\n",
    "                         'conv2_w',\n",
    "                         'conv3_w', \n",
    "                         'conv4_w',\n",
    "                         'classifier']\n",
    "\n",
    "# 여러 컬럼에 대한 박스 플롯을 한 번에 그리기\n",
    "plt.figure(figsize=(10, 6))  # 그래프 전체 크기 설정 (선택 사항)\n",
    "\n",
    "# 각 컬럼에 대한 박스 플롯 그리기\n",
    "plt.boxplot(norm_info_train[columns_to_plot].values, labels=columns_to_plot_label)\n",
    "plt.xlabel('layer')    # x축 라벨 설정\n",
    "plt.ylabel('gamma')    # y축 라벨 설정\n",
    "plt.title('MAML+Arbiter')   # 그래프 제목 설정\n",
    "\n",
    "plt.show()"
   ]
  },
  {
   "cell_type": "code",
   "execution_count": null,
   "id": "f836825d",
   "metadata": {},
   "outputs": [],
   "source": [
    " # 그래프를 그릴 컬럼들의 리스트\n",
    "columns_to_plot = ['layer_dict.conv0.conv.weight_alpha', \n",
    "                   'layer_dict.conv0.conv.bias_alpha' ,\n",
    "                   'layer_dict.conv1.conv.weight_alpha',\n",
    "                   'layer_dict.conv1.conv.bias_alpha' ,\n",
    "                   'layer_dict.conv2.conv.weight_alpha',\n",
    "                   'layer_dict.conv2.conv.bias_alpha' ,\n",
    "                   'layer_dict.conv3.conv.weight_alpha',\n",
    "                   'layer_dict.conv3.conv.bias_alpha' ,\n",
    "                   'layer_dict.linear.weights_alpha',\n",
    "                   'layer_dict.linear.bias_alpha']\n",
    "columns_to_plot_label = ['conv1_w', 'conv1_b',\n",
    "                         'conv2_w', 'conv2_b',\n",
    "                         'conv3_w', 'conv3_b',\n",
    "                         'conv4_w', 'conv4_b',\n",
    "                         'classifier', 'classifier_b']\n",
    "\n",
    "# 여러 컬럼에 대한 박스 플롯을 한 번에 그리기\n",
    "plt.figure(figsize=(10, 6))  # 그래프 전체 크기 설정 (선택 사항)\n",
    "\n",
    "# 각 컬럼에 대한 박스 플롯 그리기\n",
    "plt.boxplot(norm_info_train[columns_to_plot].values, labels=columns_to_plot_label)\n",
    "plt.xlabel('layer')    # x축 라벨 설정\n",
    "plt.ylabel('gamma')    # y축 라벨 설정\n",
    "plt.title('MAML+Arbiter')   # 그래프 제목 설정\n",
    "\n",
    "plt.show()"
   ]
  },
  {
   "cell_type": "code",
   "execution_count": null,
   "id": "9de1e562",
   "metadata": {},
   "outputs": [],
   "source": [
    "keyword = 'grad_mean'  # 추출하고 싶은 단어\n",
    "exclude_word = 'bias'  # 제외하고자 하는 단어\n",
    "columns_to_plot_label = ['conv1_w', 'conv2_w', 'conv3_w', 'conv4_w', 'classifier']\n",
    "\n",
    "grad_mean = {key: value for key, value in column_means.items() if keyword in key}\n",
    "grad_mean = {key: value for key, value in grad_mean.items() if exclude_word not in key}\n",
    "\n",
    "# 그래프 그리기\n",
    "plt.figure(figsize=(10, 6))\n",
    "plt.plot(columns_to_plot_label, grad_mean.values(), marker='o', color='skyblue', linestyle='-', linewidth=2, markersize=8)\n",
    "plt.title('Gradient Mean')\n",
    "# plt.xlabel('Column')\n",
    "# plt.ylabel('mean')\n",
    "plt.xticks(rotation=0)\n",
    "plt.show()"
   ]
  },
  {
   "cell_type": "code",
   "execution_count": null,
   "id": "8a24f255",
   "metadata": {},
   "outputs": [],
   "source": [
    "keyword = 'grad_L1norm'  # 추출하고 싶은 단어\n",
    "exclude_word = 'bias'  # 제외하고자 하는 단어\n",
    "columns_to_plot_label = ['conv1_w', 'conv2_w', 'conv3_w', 'conv4_w', 'classifier']\n",
    "\n",
    "grad_L1norm = {key: value for key, value in column_means.items() if keyword in key}\n",
    "grad_L1norm = {key: value for key, value in grad_L1norm.items() if exclude_word not in key}\n",
    "\n",
    "# 그래프 그리기\n",
    "plt.figure(figsize=(10, 6))\n",
    "plt.plot(columns_to_plot_label, grad_L1norm.values(), marker='o', color='skyblue', linestyle='-', linewidth=2, markersize=8)\n",
    "plt.title('Gradient L1 Norm')\n",
    "# plt.xlabel('Column')\n",
    "# plt.ylabel('mean')\n",
    "plt.xticks(rotation=0)\n",
    "plt.show()"
   ]
  },
  {
   "cell_type": "code",
   "execution_count": null,
   "id": "d60b8157",
   "metadata": {},
   "outputs": [],
   "source": [
    "keyword = 'grad_L2norm'  # 추출하고 싶은 단어\n",
    "exclude_word = 'bias'  # 제외하고자 하는 단어\n",
    "columns_to_plot_label = ['conv1_w', 'conv2_w', 'conv3_w', 'conv4_w', 'classifier']\n",
    "\n",
    "grad_L2norm = {key: value for key, value in column_means.items() if keyword in key}\n",
    "grad_L2norm = {key: value for key, value in grad_L2norm.items() if exclude_word not in key}\n",
    "\n",
    "# 그래프 그리기\n",
    "plt.figure(figsize=(10, 6))\n",
    "plt.plot(columns_to_plot_label, grad_L2norm.values(), marker='o', color='skyblue', linestyle='-', linewidth=2, markersize=8)\n",
    "plt.title('Gradient L2 Norm')\n",
    "# plt.xlabel('Column')\n",
    "# plt.ylabel('mean')\n",
    "plt.xticks(rotation=0)\n",
    "plt.show()"
   ]
  },
  {
   "cell_type": "code",
   "execution_count": null,
   "id": "7891c290",
   "metadata": {},
   "outputs": [],
   "source": [
    "keyword = 'weight_mean'  # 추출하고 싶은 단어\n",
    "exclude_word = 'bias'  # 제외하고자 하는 단어\n",
    "columns_to_plot_label = ['conv1_w', 'conv2_w', 'conv3_w', 'conv4_w', 'classifier']\n",
    "\n",
    "weight_mean = {key: value for key, value in column_means.items() if keyword in key}\n",
    "weight_mean = {key: value for key, value in weight_mean.items() if exclude_word not in key}\n",
    "\n",
    "# 그래프 그리기\n",
    "plt.figure(figsize=(10, 6))\n",
    "plt.plot(columns_to_plot_label, weight_mean.values(), marker='o', color='skyblue', linestyle='-', linewidth=2, markersize=8)\n",
    "plt.title('Weight Mean')\n",
    "# plt.xlabel('Column')\n",
    "# plt.ylabel('mean')\n",
    "plt.xticks(rotation=0)\n",
    "plt.show()"
   ]
  },
  {
   "cell_type": "code",
   "execution_count": null,
   "id": "23388752",
   "metadata": {},
   "outputs": [],
   "source": [
    "keyword = 'weight_L1norm'  # 추출하고 싶은 단어\n",
    "exclude_word = 'bias'  # 제외하고자 하는 단어\n",
    "columns_to_plot_label = ['conv1_w', 'conv2_w', 'conv3_w', 'conv4_w', 'classifier']\n",
    "\n",
    "weight_L1norm = {key: value for key, value in column_means.items() if keyword in key}\n",
    "weight_L1norm = {key: value for key, value in weight_L1norm.items() if exclude_word not in key}\n",
    "\n",
    "# 그래프 그리기\n",
    "plt.figure(figsize=(10, 6))\n",
    "plt.plot(columns_to_plot_label, weight_L1norm.values(), marker='o', color='skyblue', linestyle='-', linewidth=2, markersize=8)\n",
    "plt.title('Weight L1 Norm')\n",
    "plt.xlabel('Column')\n",
    "plt.ylabel('mean')\n",
    "plt.xticks(rotation=0)\n",
    "plt.show()"
   ]
  },
  {
   "cell_type": "code",
   "execution_count": null,
   "id": "843d019d",
   "metadata": {},
   "outputs": [],
   "source": [
    "keyword = 'weight_L2norm'  # 추출하고 싶은 단어\n",
    "exclude_word = 'bias'  # 제외하고자 하는 단어\n",
    "columns_to_plot_label = ['conv1_w', 'conv2_w', 'conv3_w', 'conv4_w', 'classifier']\n",
    "\n",
    "weight_L2norm = {key: value for key, value in column_means.items() if keyword in key}\n",
    "weight_L2norm = {key: value for key, value in weight_L2norm.items() if exclude_word not in key}\n",
    "\n",
    "# 그래프 그리기\n",
    "plt.figure(figsize=(10, 6))\n",
    "plt.plot(columns_to_plot_label, weight_L2norm.values(), marker='o', color='skyblue', linestyle='-', linewidth=2, markersize=8)\n",
    "plt.title('Weight L2 Norm')\n",
    "# plt.xlabel('Column')\n",
    "# plt.ylabel('mean')\n",
    "plt.xticks(rotation=0)\n",
    "plt.show()"
   ]
  },
  {
   "cell_type": "code",
   "execution_count": null,
   "id": "75db06b7",
   "metadata": {},
   "outputs": [],
   "source": [
    "keyword = 'feature_L2norm'  # 추출하고 싶은 단어\n",
    "exclude_word = 'bias'  # 제외하고자 하는 단어\n",
    "columns_to_plot_label = ['conv1_w', 'conv2_w', 'conv3_w', 'conv4_w', 'classifier']\n",
    "\n",
    "feature_L2norm = {key: value for key, value in column_means.items() if keyword in key}\n",
    "feature_L2norm = {key: value for key, value in feature_L2norm.items() if exclude_word not in key}\n",
    "\n",
    "# 그래프 그리기\n",
    "plt.figure(figsize=(10, 6))\n",
    "plt.plot(columns_to_plot_label, feature_L2norm.values(), marker='o', color='skyblue', linestyle='-', linewidth=2, markersize=8)\n",
    "plt.title('feature_L2norm')\n",
    "# plt.xlabel('Column')\n",
    "# plt.ylabel('mean')\n",
    "plt.xticks(rotation=0)\n",
    "plt.show()"
   ]
  },
  {
   "cell_type": "code",
   "execution_count": null,
   "id": "b3d9687a",
   "metadata": {},
   "outputs": [],
   "source": [
    " # 그래프를 그릴 컬럼들의 리스트\n",
    "columns_to_plot = ['layer_dict.conv0_feature_L2norm', 'layer_dict.conv1_feature_L2norm','layer_dict.conv2_feature_L2norm','layer_dict.conv3_feature_L2norm','layer_dict.linear_feature_L2norm']\n",
    "columns_to_plot_label = ['conv1_w', 'conv2_w', 'conv3_w', 'conv4_w', 'classifier']\n",
    "\n",
    "# 여러 컬럼에 대한 박스 플롯을 한 번에 그리기\n",
    "plt.figure(figsize=(10, 6))  # 그래프 전체 크기 설정 (선택 사항)\n",
    "\n",
    "# 각 컬럼에 대한 박스 플롯 그리기\n",
    "plt.boxplot(norm_info_train[columns_to_plot].values, labels=columns_to_plot_label)\n",
    "plt.xlabel('layer')    # x축 라벨 설정\n",
    "plt.ylabel('feature norm')    # y축 라벨 설정\n",
    "plt.title('MAML+Arbiter')   # 그래프 제목 설정\n",
    "\n",
    "plt.show()"
   ]
  }
 ],
 "metadata": {
  "kernelspec": {
   "display_name": "Python 3 (ipykernel)",
   "language": "python",
   "name": "python3"
  },
  "language_info": {
   "codemirror_mode": {
    "name": "ipython",
    "version": 3
   },
   "file_extension": ".py",
   "mimetype": "text/x-python",
   "name": "python",
   "nbconvert_exporter": "python",
   "pygments_lexer": "ipython3",
   "version": "3.7.16"
  }
 },
 "nbformat": 4,
 "nbformat_minor": 5
}
