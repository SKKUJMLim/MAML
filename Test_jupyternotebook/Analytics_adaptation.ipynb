{
 "cells": [
  {
   "cell_type": "code",
   "execution_count": 1,
   "id": "6e23a882",
   "metadata": {},
   "outputs": [],
   "source": [
    "import pandas as pd\n",
    "import matplotlib.pyplot as plt\n",
    "\n",
    "import torch\n",
    "\n",
    "import os\n",
    "os.environ['KMP_DUPLICATE_LIB_OK']='True'"
   ]
  },
  {
   "cell_type": "code",
   "execution_count": 5,
   "id": "53b47767",
   "metadata": {},
   "outputs": [
    {
     "name": "stderr",
     "output_type": "stream",
     "text": [
      "C:\\Users\\JM\\anaconda3\\envs\\maml\\lib\\site-packages\\IPython\\core\\interactiveshell.py:3553: DtypeWarning: Columns (0) have mixed types.Specify dtype option on import or set low_memory=False.\n",
      "  exec(code_obj, self.user_global_ns, self.user_ns)\n"
     ]
    }
   ],
   "source": [
    "# CSV 파일에 접근\n",
    "maml_norm_info = pd.read_csv('../MAML_filter64/MAML_filter64_inner_loop.csv')\n",
    "arbiter_norm_info = pd.read_csv('../MAML+Arbiter_5way_5shot_filter64/MAML+Arbiter_5way_5shot_filter64_inner_loop.csv')\n",
    "\n",
    "# 훈련 정보만 가지고 온다\n",
    "maml_norm_info_train = maml_norm_info[maml_norm_info['phase']=='train']\n",
    "arbiter_norm_info_train= arbiter_norm_info[arbiter_norm_info['phase']=='train']"
   ]
  },
  {
   "cell_type": "code",
   "execution_count": 22,
   "id": "a4d6b7a5",
   "metadata": {},
   "outputs": [],
   "source": [
    "arbiter_norm_info_mini_imagenet_full_size = arbiter_norm_info[arbiter_norm_info['current_iter']=='mini_imagenet_full_size']\n",
    "arbiter_norm_info_tiered_imagenet = arbiter_norm_info[arbiter_norm_info['current_iter']=='tiered_imagenet']\n",
    "arbiter_norm_info_CIFAR_FS = arbiter_norm_info[arbiter_norm_info['current_iter']=='CIFAR_FS']\n",
    "arbiter_norm_info_CUB = arbiter_norm_info[arbiter_norm_info['current_iter']=='CUB']"
   ]
  },
  {
   "cell_type": "code",
   "execution_count": 23,
   "id": "a38e8956",
   "metadata": {},
   "outputs": [],
   "source": [
    "arbiter_norm_info_mini_imagenet_full_size = arbiter_norm_info_mini_imagenet_full_size.groupby('num_step')\n",
    "arbiter_norm_info_tiered_imagenet = arbiter_norm_info_tiered_imagenet.groupby('num_step')\n",
    "arbiter_norm_info_CIFAR_FS = arbiter_norm_info_CIFAR_FS.groupby('num_step')\n",
    "arbiter_norm_info_CUB = arbiter_norm_info_CUB.groupby('num_step')"
   ]
  },
  {
   "cell_type": "code",
   "execution_count": 30,
   "id": "b4e5954f",
   "metadata": {},
   "outputs": [
    {
     "data": {
      "image/png": "[encoded data removed]",
      "text/plain": [
       "<Figure size 640x480 with 1 Axes>"
      ]
     },
     "metadata": {},
     "output_type": "display_data"
    }
   ],
   "source": [
    "# 이상치 제거 함수 정의\n",
    "def remove_outliers(group):\n",
    "    Q1 = group.quantile(0.25)\n",
    "    Q3 = group.quantile(0.75)\n",
    "    IQR = Q3 - Q1\n",
    "    lower_bound = Q1 - 1.5 * IQR\n",
    "    upper_bound = Q3 + 1.5 * IQR\n",
    "    return group[(group >= lower_bound) & (group <= upper_bound)]\n",
    "\n",
    "group_names = []\n",
    "filtered_values_1 = []\n",
    "filtered_values_2 = []\n",
    "\n",
    "for name, group in arbiter_norm_info_mini_imagenet_full_size:\n",
    "    group_values = group['gsnr']\n",
    "    #group_values = remove_outliers(group_values)\n",
    "    filtered_values_1.append(group_values)\n",
    "    \n",
    "    # 그룹 이름을 저장 (모든 그룹은 동일한 순서로 추가됨)\n",
    "    if name not in group_names:\n",
    "        group_names.append(name)\n",
    "        \n",
    "for name, group in arbiter_norm_info_CIFAR_FS:\n",
    "    group_values = group['gsnr']\n",
    "    #group_values = remove_outliers(group_values)\n",
    "    filtered_values_2.append(group_values)\n",
    "\n",
    "    \n",
    "# 두 개의 박스플롯을 같은 x축에 그리기 위해 위치 조정\n",
    "positions_1 = [i * 2.0 for i in range(len(filtered_values_1))]\n",
    "positions_2 = [i * 2.0 + 0.8 for i in range(len(filtered_values_2))]\n",
    "\n",
    "\n",
    "\n",
    "# 첫 번째 박스플롯\n",
    "plt.boxplot(filtered_values_1, positions=positions_1, widths=0.6, patch_artist=True,\n",
    "            boxprops=dict(facecolor='blue'), showfliers=False)\n",
    "\n",
    "# 두 번째 박스플롯\n",
    "plt.boxplot(filtered_values_2, positions=positions_2, widths=0.6, patch_artist=True,\n",
    "            boxprops=dict(facecolor='red'), showfliers=False)\n",
    "\n",
    "# x축 라벨 설정\n",
    "plt.xticks([i * 2.0 + 0.4 for i in range(len(group_names))], group_names)\n",
    "\n",
    "# 그래프 라벨 및 제목 설정\n",
    "plt.xlabel('Inner-loop step')\n",
    "plt.ylabel('Values')\n",
    "plt.title('gsnr')\n",
    "\n",
    "# 그래프를 표시합니다\n",
    "plt.show()"
   ]
  }
 ],
 "metadata": {
  "kernelspec": {
   "display_name": "Python 3 (ipykernel)",
   "language": "python",
   "name": "python3"
  },
  "language_info": {
   "codemirror_mode": {
    "name": "ipython",
    "version": 3
   },
   "file_extension": ".py",
   "mimetype": "text/x-python",
   "name": "python",
   "nbconvert_exporter": "python",
   "pygments_lexer": "ipython3",
   "version": "3.7.16"
  }
 },
 "nbformat": 4,
 "nbformat_minor": 5
}
