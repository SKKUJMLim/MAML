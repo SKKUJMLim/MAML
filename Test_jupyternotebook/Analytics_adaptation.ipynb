{
 "cells": [
  {
   "cell_type": "code",
   "execution_count": 1,
   "id": "f8ee65ae",
   "metadata": {},
   "outputs": [],
   "source": [
    "import pandas as pd\n",
    "import matplotlib.pyplot as plt\n",
    "\n",
    "import torch\n",
    "\n",
    "import os\n",
    "os.environ['KMP_DUPLICATE_LIB_OK']='True'"
   ]
  },
  {
   "cell_type": "code",
   "execution_count": 2,
   "id": "b69f8972",
   "metadata": {},
   "outputs": [
    {
     "name": "stderr",
     "output_type": "stream",
     "text": [
      "C:\\Users\\JM\\anaconda3\\envs\\maml\\lib\\site-packages\\IPython\\core\\interactiveshell.py:3553: DtypeWarning: Columns (0) have mixed types.Specify dtype option on import or set low_memory=False.\n",
      "  exec(code_obj, self.user_global_ns, self.user_ns)\n"
     ]
    }
   ],
   "source": [
    "# CSV 파일에 접근\n",
    "maml_info = pd.read_csv('../MAML_filter64/MAML_filter64_inner_loop.csv')\n",
    "arbiter_info = pd.read_csv('../MAML+Arbiter_5way_5shot_filter64_7108/MAML+Arbiter_5way_5shot_filter64_inner_loop.csv')\n",
    "\n",
    "# 훈련 정보만 가지고 온다\n",
    "maml_info_train = maml_info[maml_info['phase']=='train']\n",
    "arbiter_info_train= arbiter_info[arbiter_info['phase']=='train']"
   ]
  },
  {
   "cell_type": "markdown",
   "id": "f6e2fe73",
   "metadata": {},
   "source": [
    "# 1. 정보를 Domain 별로 압축"
   ]
  },
  {
   "cell_type": "code",
   "execution_count": 3,
   "id": "cf67dacf",
   "metadata": {},
   "outputs": [],
   "source": [
    "# mini-imagenet\n",
    "arbiter_info_mini_imagenet = arbiter_info[arbiter_info['current_iter']=='mini_imagenet_full_size']\n",
    "arbiter_info_mini_imagenet = arbiter_info_mini_imagenet.groupby('num_step')\n",
    "# tiered-imagenet\n",
    "arbiter_info_tiered_imagenet = arbiter_info[arbiter_info['current_iter']=='tiered_imagenet']\n",
    "arbiter_info_tiered_imagenet = arbiter_info_tiered_imagenet.groupby('num_step')\n",
    "# CIFAR_FS\n",
    "arbiter_info_CIFAR_FS = arbiter_info[arbiter_info['current_iter']=='CIFAR_FS']\n",
    "arbiter_info_CIFAR_FS = arbiter_info_CIFAR_FS.groupby('num_step')\n",
    "# CUB\n",
    "arbiter_info_CUB = arbiter_info[arbiter_info['current_iter']=='CUB']\n",
    "arbiter_info_CUB = arbiter_info_CUB.groupby('num_step')"
   ]
  },
  {
   "cell_type": "markdown",
   "id": "33aa314f",
   "metadata": {},
   "source": [
    "# 2. Box plot으로 Domain 별로 비교"
   ]
  },
  {
   "cell_type": "code",
   "execution_count": 4,
   "id": "5de5ba09",
   "metadata": {},
   "outputs": [
    {
     "ename": "ValueError",
     "evalue": "List of boxplot statistics and `positions` values must have same the length",
     "output_type": "error",
     "traceback": [
      "\u001b[1;31m---------------------------------------------------------------------------\u001b[0m",
      "\u001b[1;31mValueError\u001b[0m                                Traceback (most recent call last)",
      "\u001b[1;32m~\\AppData\\Local\\Temp\\ipykernel_39728\\3497008446.py\u001b[0m in \u001b[0;36m<module>\u001b[1;34m\u001b[0m\n\u001b[0;32m     39\u001b[0m \u001b[1;31m# 두 번째 박스플롯\u001b[0m\u001b[1;33m\u001b[0m\u001b[1;33m\u001b[0m\u001b[1;33m\u001b[0m\u001b[0m\n\u001b[0;32m     40\u001b[0m plt.boxplot(filtered_values_2, positions=positions_2, widths=0.6, patch_artist=True,\n\u001b[1;32m---> 41\u001b[1;33m             boxprops=dict(facecolor='red'), showfliers=False)\n\u001b[0m\u001b[0;32m     42\u001b[0m \u001b[1;33m\u001b[0m\u001b[0m\n\u001b[0;32m     43\u001b[0m \u001b[1;31m# x축 라벨 설정\u001b[0m\u001b[1;33m\u001b[0m\u001b[1;33m\u001b[0m\u001b[1;33m\u001b[0m\u001b[0m\n",
      "\u001b[1;32m~\\anaconda3\\envs\\maml\\lib\\site-packages\\matplotlib\\pyplot.py\u001b[0m in \u001b[0;36mboxplot\u001b[1;34m(x, notch, sym, vert, whis, positions, widths, patch_artist, bootstrap, usermedians, conf_intervals, meanline, showmeans, showcaps, showbox, showfliers, boxprops, labels, flierprops, medianprops, meanprops, capprops, whiskerprops, manage_ticks, autorange, zorder, data)\u001b[0m\n\u001b[0;32m   2447\u001b[0m         \u001b[0mwhiskerprops\u001b[0m\u001b[1;33m=\u001b[0m\u001b[0mwhiskerprops\u001b[0m\u001b[1;33m,\u001b[0m \u001b[0mmanage_ticks\u001b[0m\u001b[1;33m=\u001b[0m\u001b[0mmanage_ticks\u001b[0m\u001b[1;33m,\u001b[0m\u001b[1;33m\u001b[0m\u001b[1;33m\u001b[0m\u001b[0m\n\u001b[0;32m   2448\u001b[0m         \u001b[0mautorange\u001b[0m\u001b[1;33m=\u001b[0m\u001b[0mautorange\u001b[0m\u001b[1;33m,\u001b[0m \u001b[0mzorder\u001b[0m\u001b[1;33m=\u001b[0m\u001b[0mzorder\u001b[0m\u001b[1;33m,\u001b[0m\u001b[1;33m\u001b[0m\u001b[1;33m\u001b[0m\u001b[0m\n\u001b[1;32m-> 2449\u001b[1;33m         **({\"data\": data} if data is not None else {}))\n\u001b[0m\u001b[0;32m   2450\u001b[0m \u001b[1;33m\u001b[0m\u001b[0m\n\u001b[0;32m   2451\u001b[0m \u001b[1;33m\u001b[0m\u001b[0m\n",
      "\u001b[1;32m~\\anaconda3\\envs\\maml\\lib\\site-packages\\matplotlib\\__init__.py\u001b[0m in \u001b[0;36minner\u001b[1;34m(ax, data, *args, **kwargs)\u001b[0m\n\u001b[0;32m   1412\u001b[0m     \u001b[1;32mdef\u001b[0m \u001b[0minner\u001b[0m\u001b[1;33m(\u001b[0m\u001b[0max\u001b[0m\u001b[1;33m,\u001b[0m \u001b[1;33m*\u001b[0m\u001b[0margs\u001b[0m\u001b[1;33m,\u001b[0m \u001b[0mdata\u001b[0m\u001b[1;33m=\u001b[0m\u001b[1;32mNone\u001b[0m\u001b[1;33m,\u001b[0m \u001b[1;33m**\u001b[0m\u001b[0mkwargs\u001b[0m\u001b[1;33m)\u001b[0m\u001b[1;33m:\u001b[0m\u001b[1;33m\u001b[0m\u001b[1;33m\u001b[0m\u001b[0m\n\u001b[0;32m   1413\u001b[0m         \u001b[1;32mif\u001b[0m \u001b[0mdata\u001b[0m \u001b[1;32mis\u001b[0m \u001b[1;32mNone\u001b[0m\u001b[1;33m:\u001b[0m\u001b[1;33m\u001b[0m\u001b[1;33m\u001b[0m\u001b[0m\n\u001b[1;32m-> 1414\u001b[1;33m             \u001b[1;32mreturn\u001b[0m \u001b[0mfunc\u001b[0m\u001b[1;33m(\u001b[0m\u001b[0max\u001b[0m\u001b[1;33m,\u001b[0m \u001b[1;33m*\u001b[0m\u001b[0mmap\u001b[0m\u001b[1;33m(\u001b[0m\u001b[0msanitize_sequence\u001b[0m\u001b[1;33m,\u001b[0m \u001b[0margs\u001b[0m\u001b[1;33m)\u001b[0m\u001b[1;33m,\u001b[0m \u001b[1;33m**\u001b[0m\u001b[0mkwargs\u001b[0m\u001b[1;33m)\u001b[0m\u001b[1;33m\u001b[0m\u001b[1;33m\u001b[0m\u001b[0m\n\u001b[0m\u001b[0;32m   1415\u001b[0m \u001b[1;33m\u001b[0m\u001b[0m\n\u001b[0;32m   1416\u001b[0m         \u001b[0mbound\u001b[0m \u001b[1;33m=\u001b[0m \u001b[0mnew_sig\u001b[0m\u001b[1;33m.\u001b[0m\u001b[0mbind\u001b[0m\u001b[1;33m(\u001b[0m\u001b[0max\u001b[0m\u001b[1;33m,\u001b[0m \u001b[1;33m*\u001b[0m\u001b[0margs\u001b[0m\u001b[1;33m,\u001b[0m \u001b[1;33m**\u001b[0m\u001b[0mkwargs\u001b[0m\u001b[1;33m)\u001b[0m\u001b[1;33m\u001b[0m\u001b[1;33m\u001b[0m\u001b[0m\n",
      "\u001b[1;32m~\\anaconda3\\envs\\maml\\lib\\site-packages\\matplotlib\\axes\\_axes.py\u001b[0m in \u001b[0;36mboxplot\u001b[1;34m(self, x, notch, sym, vert, whis, positions, widths, patch_artist, bootstrap, usermedians, conf_intervals, meanline, showmeans, showcaps, showbox, showfliers, boxprops, labels, flierprops, medianprops, meanprops, capprops, whiskerprops, manage_ticks, autorange, zorder)\u001b[0m\n\u001b[0;32m   3812\u001b[0m                            \u001b[0mmeanline\u001b[0m\u001b[1;33m=\u001b[0m\u001b[0mmeanline\u001b[0m\u001b[1;33m,\u001b[0m \u001b[0mshowfliers\u001b[0m\u001b[1;33m=\u001b[0m\u001b[0mshowfliers\u001b[0m\u001b[1;33m,\u001b[0m\u001b[1;33m\u001b[0m\u001b[1;33m\u001b[0m\u001b[0m\n\u001b[0;32m   3813\u001b[0m                            \u001b[0mcapprops\u001b[0m\u001b[1;33m=\u001b[0m\u001b[0mcapprops\u001b[0m\u001b[1;33m,\u001b[0m \u001b[0mwhiskerprops\u001b[0m\u001b[1;33m=\u001b[0m\u001b[0mwhiskerprops\u001b[0m\u001b[1;33m,\u001b[0m\u001b[1;33m\u001b[0m\u001b[1;33m\u001b[0m\u001b[0m\n\u001b[1;32m-> 3814\u001b[1;33m                            manage_ticks=manage_ticks, zorder=zorder)\n\u001b[0m\u001b[0;32m   3815\u001b[0m         \u001b[1;32mreturn\u001b[0m \u001b[0martists\u001b[0m\u001b[1;33m\u001b[0m\u001b[1;33m\u001b[0m\u001b[0m\n\u001b[0;32m   3816\u001b[0m \u001b[1;33m\u001b[0m\u001b[0m\n",
      "\u001b[1;32m~\\anaconda3\\envs\\maml\\lib\\site-packages\\matplotlib\\axes\\_axes.py\u001b[0m in \u001b[0;36mbxp\u001b[1;34m(self, bxpstats, positions, widths, vert, patch_artist, shownotches, showmeans, showcaps, showbox, showfliers, boxprops, whiskerprops, flierprops, medianprops, capprops, meanprops, meanline, manage_ticks, zorder)\u001b[0m\n\u001b[0;32m   3976\u001b[0m             \u001b[0mpositions\u001b[0m \u001b[1;33m=\u001b[0m \u001b[0mlist\u001b[0m\u001b[1;33m(\u001b[0m\u001b[0mrange\u001b[0m\u001b[1;33m(\u001b[0m\u001b[1;36m1\u001b[0m\u001b[1;33m,\u001b[0m \u001b[0mN\u001b[0m \u001b[1;33m+\u001b[0m \u001b[1;36m1\u001b[0m\u001b[1;33m)\u001b[0m\u001b[1;33m)\u001b[0m\u001b[1;33m\u001b[0m\u001b[1;33m\u001b[0m\u001b[0m\n\u001b[0;32m   3977\u001b[0m         \u001b[1;32melif\u001b[0m \u001b[0mlen\u001b[0m\u001b[1;33m(\u001b[0m\u001b[0mpositions\u001b[0m\u001b[1;33m)\u001b[0m \u001b[1;33m!=\u001b[0m \u001b[0mN\u001b[0m\u001b[1;33m:\u001b[0m\u001b[1;33m\u001b[0m\u001b[1;33m\u001b[0m\u001b[0m\n\u001b[1;32m-> 3978\u001b[1;33m             \u001b[1;32mraise\u001b[0m \u001b[0mValueError\u001b[0m\u001b[1;33m(\u001b[0m\u001b[0mdatashape_message\u001b[0m\u001b[1;33m.\u001b[0m\u001b[0mformat\u001b[0m\u001b[1;33m(\u001b[0m\u001b[1;34m\"positions\"\u001b[0m\u001b[1;33m)\u001b[0m\u001b[1;33m)\u001b[0m\u001b[1;33m\u001b[0m\u001b[1;33m\u001b[0m\u001b[0m\n\u001b[0m\u001b[0;32m   3979\u001b[0m \u001b[1;33m\u001b[0m\u001b[0m\n\u001b[0;32m   3980\u001b[0m         \u001b[0mpositions\u001b[0m \u001b[1;33m=\u001b[0m \u001b[0mnp\u001b[0m\u001b[1;33m.\u001b[0m\u001b[0marray\u001b[0m\u001b[1;33m(\u001b[0m\u001b[0mpositions\u001b[0m\u001b[1;33m)\u001b[0m\u001b[1;33m\u001b[0m\u001b[1;33m\u001b[0m\u001b[0m\n",
      "\u001b[1;31mValueError\u001b[0m: List of boxplot statistics and `positions` values must have same the length"
     ]
    },
    {
     "data": {
      "image/png": "[encoded data removed]",
      "text/plain": [
       "<Figure size 640x480 with 1 Axes>"
      ]
     },
     "metadata": {},
     "output_type": "display_data"
    }
   ],
   "source": [
    "# 이상치 제거 함수 정의\n",
    "def remove_outliers(group):\n",
    "    Q1 = group.quantile(0.25)\n",
    "    Q3 = group.quantile(0.75)\n",
    "    IQR = Q3 - Q1\n",
    "    lower_bound = Q1 - 1.5 * IQR\n",
    "    upper_bound = Q3 + 1.5 * IQR\n",
    "    return group[(group >= lower_bound) & (group <= upper_bound)]\n",
    "\n",
    "group_names = []\n",
    "filtered_values_1 = []\n",
    "filtered_values_2 = []\n",
    "\n",
    "for name, group in arbiter_info_mini_imagenet:\n",
    "    group_values = group['layer_dict.conv3.conv.weight_alpha']\n",
    "    #group_values = remove_outliers(group_values)\n",
    "    filtered_values_1.append(group_values)\n",
    "    \n",
    "    # 그룹 이름을 저장 (모든 그룹은 동일한 순서로 추가됨)\n",
    "    if name not in group_names:\n",
    "        group_names.append(name)\n",
    "        \n",
    "for name, group in arbiter_info_CUB:\n",
    "    group_values = group['layer_dict.conv3.conv.weight_alpha']\n",
    "    #group_values = remove_outliers(group_values)\n",
    "    filtered_values_2.append(group_values)\n",
    "\n",
    "    \n",
    "# 두 개의 박스플롯을 같은 x축에 그리기 위해 위치 조정\n",
    "positions_1 = [i * 2.0 for i in range(len(filtered_values_1))]\n",
    "positions_2 = [i * 2.0 + 0.8 for i in range(len(filtered_values_2))]\n",
    "\n",
    "\n",
    "\n",
    "# 첫 번째 박스플롯\n",
    "plt.boxplot(filtered_values_1, positions=positions_1, widths=0.6, patch_artist=True,\n",
    "            boxprops=dict(facecolor='blue'), showfliers=False)\n",
    "\n",
    "# 두 번째 박스플롯\n",
    "plt.boxplot(filtered_values_2, positions=positions_2, widths=0.6, patch_artist=True,\n",
    "            boxprops=dict(facecolor='red'), showfliers=False)\n",
    "\n",
    "# x축 라벨 설정\n",
    "plt.xticks([i * 2.0 + 0.4 for i in range(len(group_names))], group_names)\n",
    "\n",
    "# 그래프 라벨 및 제목 설정\n",
    "plt.xlabel('Inner-loop step')\n",
    "plt.ylabel('Values')\n",
    "plt.title('Conv-3 Gradient Norm')\n",
    "\n",
    "# 그래프를 표시합니다\n",
    "plt.show()"
   ]
  },
  {
   "cell_type": "markdown",
   "id": "3c1ab0d6",
   "metadata": {},
   "source": [
    "# 2. 그래프로 비교"
   ]
  },
  {
   "cell_type": "code",
   "execution_count": 5,
   "id": "f27477e5",
   "metadata": {},
   "outputs": [
    {
     "ename": "NameError",
     "evalue": "name 'maml_std_dev_df' is not defined",
     "output_type": "error",
     "traceback": [
      "\u001b[1;31m---------------------------------------------------------------------------\u001b[0m",
      "\u001b[1;31mNameError\u001b[0m                                 Traceback (most recent call last)",
      "\u001b[1;32m~\\AppData\\Local\\Temp\\ipykernel_39728\\60427101.py\u001b[0m in \u001b[0;36m<module>\u001b[1;34m\u001b[0m\n\u001b[0;32m      6\u001b[0m \u001b[0marbiter_info_mini_imagene_group_names\u001b[0m \u001b[1;33m=\u001b[0m \u001b[0marbiter_info_mini_imagenet_mean_df\u001b[0m\u001b[1;33m.\u001b[0m\u001b[0mindex\u001b[0m\u001b[1;33m.\u001b[0m\u001b[0mtolist\u001b[0m\u001b[1;33m(\u001b[0m\u001b[1;33m)\u001b[0m\u001b[1;33m\u001b[0m\u001b[1;33m\u001b[0m\u001b[0m\n\u001b[0;32m      7\u001b[0m \u001b[0mmaml_means\u001b[0m \u001b[1;33m=\u001b[0m \u001b[0marbiter_info_mini_imagenet_mean_df\u001b[0m\u001b[1;33m.\u001b[0m\u001b[0mvalues\u001b[0m\u001b[1;33m\u001b[0m\u001b[1;33m\u001b[0m\u001b[0m\n\u001b[1;32m----> 8\u001b[1;33m \u001b[0mmaml_std_devs\u001b[0m \u001b[1;33m=\u001b[0m \u001b[0mmaml_std_dev_df\u001b[0m\u001b[1;33m.\u001b[0m\u001b[0mvalues\u001b[0m\u001b[1;33m\u001b[0m\u001b[1;33m\u001b[0m\u001b[0m\n\u001b[0m\u001b[0;32m      9\u001b[0m \u001b[1;33m\u001b[0m\u001b[0m\n\u001b[0;32m     10\u001b[0m \u001b[0marbiter_mean_df\u001b[0m \u001b[1;33m=\u001b[0m \u001b[0marbiter_per_inner_loop_step\u001b[0m\u001b[1;33m[\u001b[0m\u001b[1;34m'all_grads_l2norm'\u001b[0m\u001b[1;33m]\u001b[0m\u001b[1;33m.\u001b[0m\u001b[0mmean\u001b[0m\u001b[1;33m(\u001b[0m\u001b[1;33m)\u001b[0m\u001b[1;33m\u001b[0m\u001b[1;33m\u001b[0m\u001b[0m\n",
      "\u001b[1;31mNameError\u001b[0m: name 'maml_std_dev_df' is not defined"
     ]
    }
   ],
   "source": [
    "arbiter_info_mini_imagenet_mean_df = arbiter_info_mini_imagenet['all_grads_l2norm'].mean()\n",
    "arbiter_info_mini_imagenet_variance_df = arbiter_info_mini_imagenet['all_grads_l2norm'].var()\n",
    "arbiter_info_mini_imagenet_std_dev_df = arbiter_info_mini_imagenet_variance_df**0.5\n",
    "\n",
    "# 그룹 이름과 평균 및 표준 편차를 리스트로 추출합니다\n",
    "arbiter_info_mini_imagene_group_names = arbiter_info_mini_imagenet_mean_df.index.tolist()\n",
    "maml_means = arbiter_info_mini_imagenet_mean_df.values\n",
    "maml_std_devs = maml_std_dev_df.values\n",
    "\n",
    "arbiter_mean_df = arbiter_per_inner_loop_step['all_grads_l2norm'].mean()\n",
    "arbiter_variance_df = arbiter_per_inner_loop_step['all_grads_l2norm'].var()\n",
    "arbiter_std_dev_df = arbiter_variance_df**0.5\n",
    "\n",
    "# 그룹 이름과 평균 및 표준 편차를 리스트로 추출합니다\n",
    "arbiter_group_names = arbiter_mean_df.index.tolist()\n",
    "arbiter_means = arbiter_mean_df.values\n",
    "arbiter_std_devs = arbiter_std_dev_df.values\n",
    "\n",
    "\n",
    "# x축 값을 생성합니다\n",
    "x = range(len(maml_group_names))\n",
    "\n",
    "# 꺾은선 그래프를 그립니다\n",
    "plt.figure(figsize=(10, 6))\n",
    "plt.plot(x, maml_means, '-o', color='b', label='MAML')\n",
    "plt.plot(x, arbiter_means, '-o', color='r', label='Arbiter')\n",
    "\n",
    "# 표준 편차 범위를 그림자로 표시합니다\n",
    "plt.fill_between(x, maml_means - maml_std_devs, maml_means + maml_std_devs, color='b', alpha=0.2, label='Standard Deviation')\n",
    "plt.fill_between(x, arbiter_means - arbiter_std_devs, arbiter_means + arbiter_std_devs, color='r', alpha=0.2, label='Standard Deviation')\n",
    "\n",
    "plt.xticks(x, group_names)\n",
    "plt.xlabel('Inner-loop step')\n",
    "plt.ylabel('value')\n",
    "plt.title('Gradeitn norm')\n",
    "\n",
    "# 격자무늬 추가\n",
    "plt.grid(True)\n",
    "\n",
    "# # y축을 로그 스케일로 설정\n",
    "# plt.yscale('log')\n",
    "\n",
    "# 그래프를 표시합니다\n",
    "plt.show()"
   ]
  }
 ],
 "metadata": {
  "kernelspec": {
   "display_name": "Python 3 (ipykernel)",
   "language": "python",
   "name": "python3"
  },
  "language_info": {
   "codemirror_mode": {
    "name": "ipython",
    "version": 3
   },
   "file_extension": ".py",
   "mimetype": "text/x-python",
   "name": "python",
   "nbconvert_exporter": "python",
   "pygments_lexer": "ipython3",
   "version": "3.7.16"
  }
 },
 "nbformat": 4,
 "nbformat_minor": 5
}
