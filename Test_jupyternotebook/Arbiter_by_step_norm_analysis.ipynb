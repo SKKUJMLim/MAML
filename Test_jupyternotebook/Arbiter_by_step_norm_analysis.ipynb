{
 "cells": [
  {
   "cell_type": "code",
   "execution_count": 3,
   "id": "5519a5e0",
   "metadata": {},
   "outputs": [],
   "source": [
    "import pandas as pd\n",
    "import matplotlib.pyplot as plt"
   ]
  },
  {
   "cell_type": "code",
   "execution_count": 5,
   "id": "8dbec5f2",
   "metadata": {},
   "outputs": [
    {
     "ename": "FileNotFoundError",
     "evalue": "[Errno 2] No such file or directory: '../MAML+Arbiter_5way_5shot/MAML+Arbiter_5way_5shot_inner_loop.csv'",
     "output_type": "error",
     "traceback": [
      "\u001b[1;31m---------------------------------------------------------------------------\u001b[0m",
      "\u001b[1;31mFileNotFoundError\u001b[0m                         Traceback (most recent call last)",
      "\u001b[1;32m~\\AppData\\Local\\Temp\\ipykernel_18600\\2401694732.py\u001b[0m in \u001b[0;36m<module>\u001b[1;34m\u001b[0m\n\u001b[0;32m      1\u001b[0m \u001b[1;31m# norm_info = pd.read_csv('../MAML+Arbiter_5way_5shot/MAML+Arbiter_5way_5shot_inner_loop.csv')\u001b[0m\u001b[1;33m\u001b[0m\u001b[1;33m\u001b[0m\u001b[1;33m\u001b[0m\u001b[0m\n\u001b[1;32m----> 2\u001b[1;33m \u001b[0mnorm_info\u001b[0m \u001b[1;33m=\u001b[0m \u001b[0mpd\u001b[0m\u001b[1;33m.\u001b[0m\u001b[0mread_csv\u001b[0m\u001b[1;33m(\u001b[0m\u001b[1;34m'../MAML+Arbiter_5way_5shot/MAML+Arbiter_5way_5shot_inner_loop.csv'\u001b[0m\u001b[1;33m)\u001b[0m\u001b[1;33m\u001b[0m\u001b[1;33m\u001b[0m\u001b[0m\n\u001b[0m",
      "\u001b[1;32m~\\anaconda3\\envs\\maml\\lib\\site-packages\\pandas\\util\\_decorators.py\u001b[0m in \u001b[0;36mwrapper\u001b[1;34m(*args, **kwargs)\u001b[0m\n\u001b[0;32m    309\u001b[0m                     \u001b[0mstacklevel\u001b[0m\u001b[1;33m=\u001b[0m\u001b[0mstacklevel\u001b[0m\u001b[1;33m,\u001b[0m\u001b[1;33m\u001b[0m\u001b[1;33m\u001b[0m\u001b[0m\n\u001b[0;32m    310\u001b[0m                 )\n\u001b[1;32m--> 311\u001b[1;33m             \u001b[1;32mreturn\u001b[0m \u001b[0mfunc\u001b[0m\u001b[1;33m(\u001b[0m\u001b[1;33m*\u001b[0m\u001b[0margs\u001b[0m\u001b[1;33m,\u001b[0m \u001b[1;33m**\u001b[0m\u001b[0mkwargs\u001b[0m\u001b[1;33m)\u001b[0m\u001b[1;33m\u001b[0m\u001b[1;33m\u001b[0m\u001b[0m\n\u001b[0m\u001b[0;32m    312\u001b[0m \u001b[1;33m\u001b[0m\u001b[0m\n\u001b[0;32m    313\u001b[0m         \u001b[1;32mreturn\u001b[0m \u001b[0mwrapper\u001b[0m\u001b[1;33m\u001b[0m\u001b[1;33m\u001b[0m\u001b[0m\n",
      "\u001b[1;32m~\\anaconda3\\envs\\maml\\lib\\site-packages\\pandas\\io\\parsers\\readers.py\u001b[0m in \u001b[0;36mread_csv\u001b[1;34m(filepath_or_buffer, sep, delimiter, header, names, index_col, usecols, squeeze, prefix, mangle_dupe_cols, dtype, engine, converters, true_values, false_values, skipinitialspace, skiprows, skipfooter, nrows, na_values, keep_default_na, na_filter, verbose, skip_blank_lines, parse_dates, infer_datetime_format, keep_date_col, date_parser, dayfirst, cache_dates, iterator, chunksize, compression, thousands, decimal, lineterminator, quotechar, quoting, doublequote, escapechar, comment, encoding, encoding_errors, dialect, error_bad_lines, warn_bad_lines, on_bad_lines, delim_whitespace, low_memory, memory_map, float_precision, storage_options)\u001b[0m\n\u001b[0;32m    584\u001b[0m     \u001b[0mkwds\u001b[0m\u001b[1;33m.\u001b[0m\u001b[0mupdate\u001b[0m\u001b[1;33m(\u001b[0m\u001b[0mkwds_defaults\u001b[0m\u001b[1;33m)\u001b[0m\u001b[1;33m\u001b[0m\u001b[1;33m\u001b[0m\u001b[0m\n\u001b[0;32m    585\u001b[0m \u001b[1;33m\u001b[0m\u001b[0m\n\u001b[1;32m--> 586\u001b[1;33m     \u001b[1;32mreturn\u001b[0m \u001b[0m_read\u001b[0m\u001b[1;33m(\u001b[0m\u001b[0mfilepath_or_buffer\u001b[0m\u001b[1;33m,\u001b[0m \u001b[0mkwds\u001b[0m\u001b[1;33m)\u001b[0m\u001b[1;33m\u001b[0m\u001b[1;33m\u001b[0m\u001b[0m\n\u001b[0m\u001b[0;32m    587\u001b[0m \u001b[1;33m\u001b[0m\u001b[0m\n\u001b[0;32m    588\u001b[0m \u001b[1;33m\u001b[0m\u001b[0m\n",
      "\u001b[1;32m~\\anaconda3\\envs\\maml\\lib\\site-packages\\pandas\\io\\parsers\\readers.py\u001b[0m in \u001b[0;36m_read\u001b[1;34m(filepath_or_buffer, kwds)\u001b[0m\n\u001b[0;32m    480\u001b[0m \u001b[1;33m\u001b[0m\u001b[0m\n\u001b[0;32m    481\u001b[0m     \u001b[1;31m# Create the parser.\u001b[0m\u001b[1;33m\u001b[0m\u001b[1;33m\u001b[0m\u001b[1;33m\u001b[0m\u001b[0m\n\u001b[1;32m--> 482\u001b[1;33m     \u001b[0mparser\u001b[0m \u001b[1;33m=\u001b[0m \u001b[0mTextFileReader\u001b[0m\u001b[1;33m(\u001b[0m\u001b[0mfilepath_or_buffer\u001b[0m\u001b[1;33m,\u001b[0m \u001b[1;33m**\u001b[0m\u001b[0mkwds\u001b[0m\u001b[1;33m)\u001b[0m\u001b[1;33m\u001b[0m\u001b[1;33m\u001b[0m\u001b[0m\n\u001b[0m\u001b[0;32m    483\u001b[0m \u001b[1;33m\u001b[0m\u001b[0m\n\u001b[0;32m    484\u001b[0m     \u001b[1;32mif\u001b[0m \u001b[0mchunksize\u001b[0m \u001b[1;32mor\u001b[0m \u001b[0miterator\u001b[0m\u001b[1;33m:\u001b[0m\u001b[1;33m\u001b[0m\u001b[1;33m\u001b[0m\u001b[0m\n",
      "\u001b[1;32m~\\anaconda3\\envs\\maml\\lib\\site-packages\\pandas\\io\\parsers\\readers.py\u001b[0m in \u001b[0;36m__init__\u001b[1;34m(self, f, engine, **kwds)\u001b[0m\n\u001b[0;32m    809\u001b[0m             \u001b[0mself\u001b[0m\u001b[1;33m.\u001b[0m\u001b[0moptions\u001b[0m\u001b[1;33m[\u001b[0m\u001b[1;34m\"has_index_names\"\u001b[0m\u001b[1;33m]\u001b[0m \u001b[1;33m=\u001b[0m \u001b[0mkwds\u001b[0m\u001b[1;33m[\u001b[0m\u001b[1;34m\"has_index_names\"\u001b[0m\u001b[1;33m]\u001b[0m\u001b[1;33m\u001b[0m\u001b[1;33m\u001b[0m\u001b[0m\n\u001b[0;32m    810\u001b[0m \u001b[1;33m\u001b[0m\u001b[0m\n\u001b[1;32m--> 811\u001b[1;33m         \u001b[0mself\u001b[0m\u001b[1;33m.\u001b[0m\u001b[0m_engine\u001b[0m \u001b[1;33m=\u001b[0m \u001b[0mself\u001b[0m\u001b[1;33m.\u001b[0m\u001b[0m_make_engine\u001b[0m\u001b[1;33m(\u001b[0m\u001b[0mself\u001b[0m\u001b[1;33m.\u001b[0m\u001b[0mengine\u001b[0m\u001b[1;33m)\u001b[0m\u001b[1;33m\u001b[0m\u001b[1;33m\u001b[0m\u001b[0m\n\u001b[0m\u001b[0;32m    812\u001b[0m \u001b[1;33m\u001b[0m\u001b[0m\n\u001b[0;32m    813\u001b[0m     \u001b[1;32mdef\u001b[0m \u001b[0mclose\u001b[0m\u001b[1;33m(\u001b[0m\u001b[0mself\u001b[0m\u001b[1;33m)\u001b[0m\u001b[1;33m:\u001b[0m\u001b[1;33m\u001b[0m\u001b[1;33m\u001b[0m\u001b[0m\n",
      "\u001b[1;32m~\\anaconda3\\envs\\maml\\lib\\site-packages\\pandas\\io\\parsers\\readers.py\u001b[0m in \u001b[0;36m_make_engine\u001b[1;34m(self, engine)\u001b[0m\n\u001b[0;32m   1038\u001b[0m             )\n\u001b[0;32m   1039\u001b[0m         \u001b[1;31m# error: Too many arguments for \"ParserBase\"\u001b[0m\u001b[1;33m\u001b[0m\u001b[1;33m\u001b[0m\u001b[1;33m\u001b[0m\u001b[0m\n\u001b[1;32m-> 1040\u001b[1;33m         \u001b[1;32mreturn\u001b[0m \u001b[0mmapping\u001b[0m\u001b[1;33m[\u001b[0m\u001b[0mengine\u001b[0m\u001b[1;33m]\u001b[0m\u001b[1;33m(\u001b[0m\u001b[0mself\u001b[0m\u001b[1;33m.\u001b[0m\u001b[0mf\u001b[0m\u001b[1;33m,\u001b[0m \u001b[1;33m**\u001b[0m\u001b[0mself\u001b[0m\u001b[1;33m.\u001b[0m\u001b[0moptions\u001b[0m\u001b[1;33m)\u001b[0m  \u001b[1;31m# type: ignore[call-arg]\u001b[0m\u001b[1;33m\u001b[0m\u001b[1;33m\u001b[0m\u001b[0m\n\u001b[0m\u001b[0;32m   1041\u001b[0m \u001b[1;33m\u001b[0m\u001b[0m\n\u001b[0;32m   1042\u001b[0m     \u001b[1;32mdef\u001b[0m \u001b[0m_failover_to_python\u001b[0m\u001b[1;33m(\u001b[0m\u001b[0mself\u001b[0m\u001b[1;33m)\u001b[0m\u001b[1;33m:\u001b[0m\u001b[1;33m\u001b[0m\u001b[1;33m\u001b[0m\u001b[0m\n",
      "\u001b[1;32m~\\anaconda3\\envs\\maml\\lib\\site-packages\\pandas\\io\\parsers\\c_parser_wrapper.py\u001b[0m in \u001b[0;36m__init__\u001b[1;34m(self, src, **kwds)\u001b[0m\n\u001b[0;32m     49\u001b[0m \u001b[1;33m\u001b[0m\u001b[0m\n\u001b[0;32m     50\u001b[0m         \u001b[1;31m# open handles\u001b[0m\u001b[1;33m\u001b[0m\u001b[1;33m\u001b[0m\u001b[1;33m\u001b[0m\u001b[0m\n\u001b[1;32m---> 51\u001b[1;33m         \u001b[0mself\u001b[0m\u001b[1;33m.\u001b[0m\u001b[0m_open_handles\u001b[0m\u001b[1;33m(\u001b[0m\u001b[0msrc\u001b[0m\u001b[1;33m,\u001b[0m \u001b[0mkwds\u001b[0m\u001b[1;33m)\u001b[0m\u001b[1;33m\u001b[0m\u001b[1;33m\u001b[0m\u001b[0m\n\u001b[0m\u001b[0;32m     52\u001b[0m         \u001b[1;32massert\u001b[0m \u001b[0mself\u001b[0m\u001b[1;33m.\u001b[0m\u001b[0mhandles\u001b[0m \u001b[1;32mis\u001b[0m \u001b[1;32mnot\u001b[0m \u001b[1;32mNone\u001b[0m\u001b[1;33m\u001b[0m\u001b[1;33m\u001b[0m\u001b[0m\n\u001b[0;32m     53\u001b[0m \u001b[1;33m\u001b[0m\u001b[0m\n",
      "\u001b[1;32m~\\anaconda3\\envs\\maml\\lib\\site-packages\\pandas\\io\\parsers\\base_parser.py\u001b[0m in \u001b[0;36m_open_handles\u001b[1;34m(self, src, kwds)\u001b[0m\n\u001b[0;32m    227\u001b[0m             \u001b[0mmemory_map\u001b[0m\u001b[1;33m=\u001b[0m\u001b[0mkwds\u001b[0m\u001b[1;33m.\u001b[0m\u001b[0mget\u001b[0m\u001b[1;33m(\u001b[0m\u001b[1;34m\"memory_map\"\u001b[0m\u001b[1;33m,\u001b[0m \u001b[1;32mFalse\u001b[0m\u001b[1;33m)\u001b[0m\u001b[1;33m,\u001b[0m\u001b[1;33m\u001b[0m\u001b[1;33m\u001b[0m\u001b[0m\n\u001b[0;32m    228\u001b[0m             \u001b[0mstorage_options\u001b[0m\u001b[1;33m=\u001b[0m\u001b[0mkwds\u001b[0m\u001b[1;33m.\u001b[0m\u001b[0mget\u001b[0m\u001b[1;33m(\u001b[0m\u001b[1;34m\"storage_options\"\u001b[0m\u001b[1;33m,\u001b[0m \u001b[1;32mNone\u001b[0m\u001b[1;33m)\u001b[0m\u001b[1;33m,\u001b[0m\u001b[1;33m\u001b[0m\u001b[1;33m\u001b[0m\u001b[0m\n\u001b[1;32m--> 229\u001b[1;33m             \u001b[0merrors\u001b[0m\u001b[1;33m=\u001b[0m\u001b[0mkwds\u001b[0m\u001b[1;33m.\u001b[0m\u001b[0mget\u001b[0m\u001b[1;33m(\u001b[0m\u001b[1;34m\"encoding_errors\"\u001b[0m\u001b[1;33m,\u001b[0m \u001b[1;34m\"strict\"\u001b[0m\u001b[1;33m)\u001b[0m\u001b[1;33m,\u001b[0m\u001b[1;33m\u001b[0m\u001b[1;33m\u001b[0m\u001b[0m\n\u001b[0m\u001b[0;32m    230\u001b[0m         )\n\u001b[0;32m    231\u001b[0m \u001b[1;33m\u001b[0m\u001b[0m\n",
      "\u001b[1;32m~\\anaconda3\\envs\\maml\\lib\\site-packages\\pandas\\io\\common.py\u001b[0m in \u001b[0;36mget_handle\u001b[1;34m(path_or_buf, mode, encoding, compression, memory_map, is_text, errors, storage_options)\u001b[0m\n\u001b[0;32m    705\u001b[0m                 \u001b[0mencoding\u001b[0m\u001b[1;33m=\u001b[0m\u001b[0mioargs\u001b[0m\u001b[1;33m.\u001b[0m\u001b[0mencoding\u001b[0m\u001b[1;33m,\u001b[0m\u001b[1;33m\u001b[0m\u001b[1;33m\u001b[0m\u001b[0m\n\u001b[0;32m    706\u001b[0m                 \u001b[0merrors\u001b[0m\u001b[1;33m=\u001b[0m\u001b[0merrors\u001b[0m\u001b[1;33m,\u001b[0m\u001b[1;33m\u001b[0m\u001b[1;33m\u001b[0m\u001b[0m\n\u001b[1;32m--> 707\u001b[1;33m                 \u001b[0mnewline\u001b[0m\u001b[1;33m=\u001b[0m\u001b[1;34m\"\"\u001b[0m\u001b[1;33m,\u001b[0m\u001b[1;33m\u001b[0m\u001b[1;33m\u001b[0m\u001b[0m\n\u001b[0m\u001b[0;32m    708\u001b[0m             )\n\u001b[0;32m    709\u001b[0m         \u001b[1;32melse\u001b[0m\u001b[1;33m:\u001b[0m\u001b[1;33m\u001b[0m\u001b[1;33m\u001b[0m\u001b[0m\n",
      "\u001b[1;31mFileNotFoundError\u001b[0m: [Errno 2] No such file or directory: '../MAML+Arbiter_5way_5shot/MAML+Arbiter_5way_5shot_inner_loop.csv'"
     ]
    }
   ],
   "source": [
    "# norm_info = pd.read_csv('../MAML+Arbiter_5way_5shot/MAML+Arbiter_5way_5shot_inner_loop.csv')\n",
    "norm_info = pd.read_csv('../MAML+Arbiter_5way_5shot/MAML+Arbiter_5way_5shot_inner_loop.csv')"
   ]
  },
  {
   "cell_type": "code",
   "execution_count": null,
   "id": "b07e01d2",
   "metadata": {},
   "outputs": [],
   "source": [
    "norm_info_train= norm_info[norm_info['phase']=='train']\n",
    "norm_info_val= norm_info[norm_info['phase']=='val']\n",
    "norm_info_test= norm_info[norm_info['current_iter']=='test']"
   ]
  },
  {
   "cell_type": "code",
   "execution_count": null,
   "id": "fefe3a5e",
   "metadata": {},
   "outputs": [],
   "source": [
    "per_inner_loop_step = norm_info_train.groupby('num_step').mean()"
   ]
  },
  {
   "cell_type": "code",
   "execution_count": null,
   "id": "708636ee",
   "metadata": {},
   "outputs": [],
   "source": [
    "per_inner_loop_step['layer_dict.linear.weights_grad_L2norm']"
   ]
  },
  {
   "cell_type": "code",
   "execution_count": null,
   "id": "ec425a17",
   "metadata": {},
   "outputs": [],
   "source": [
    "specific_column_values = norm_info_train[norm_info_train['num_step'] == 0]\n",
    "specific_column_values"
   ]
  },
  {
   "cell_type": "markdown",
   "id": "7f4435af",
   "metadata": {},
   "source": [
    "## linear"
   ]
  },
  {
   "cell_type": "code",
   "execution_count": null,
   "id": "2797353d",
   "metadata": {},
   "outputs": [],
   "source": [
    "per_inner_loop_step['layer_dict.linear.weights_grad_L2norm']"
   ]
  },
  {
   "cell_type": "code",
   "execution_count": null,
   "id": "0fd01175",
   "metadata": {},
   "outputs": [],
   "source": [
    "per_inner_loop_step['layer_dict.linear.weights_alpha']"
   ]
  },
  {
   "cell_type": "code",
   "execution_count": null,
   "id": "84fd3ea2",
   "metadata": {},
   "outputs": [],
   "source": [
    "per_inner_loop_step['layer_dict.linear.weights_weight_L2norm']"
   ]
  },
  {
   "cell_type": "markdown",
   "id": "aad188c9",
   "metadata": {},
   "source": [
    "## conv3"
   ]
  },
  {
   "cell_type": "code",
   "execution_count": null,
   "id": "28171dd4",
   "metadata": {},
   "outputs": [],
   "source": [
    "per_inner_loop_step['layer_dict.conv3.conv.weight_grad_L2norm']"
   ]
  },
  {
   "cell_type": "code",
   "execution_count": null,
   "id": "8074afde",
   "metadata": {},
   "outputs": [],
   "source": [
    "per_inner_loop_step['layer_dict.conv3.conv.weight_alpha']"
   ]
  },
  {
   "cell_type": "code",
   "execution_count": null,
   "id": "614579de",
   "metadata": {},
   "outputs": [],
   "source": [
    "per_inner_loop_step['layer_dict.conv3.conv.weight_weight_L2norm']"
   ]
  },
  {
   "cell_type": "markdown",
   "id": "74730bdf",
   "metadata": {},
   "source": [
    "## conv2"
   ]
  },
  {
   "cell_type": "code",
   "execution_count": null,
   "id": "c1fa32dd",
   "metadata": {},
   "outputs": [],
   "source": [
    "per_inner_loop_step['layer_dict.conv2.conv.weight_grad_L2norm']"
   ]
  },
  {
   "cell_type": "code",
   "execution_count": null,
   "id": "265af829",
   "metadata": {},
   "outputs": [],
   "source": [
    "per_inner_loop_step['layer_dict.conv2.conv.weight_alpha']"
   ]
  },
  {
   "cell_type": "code",
   "execution_count": null,
   "id": "5cad572e",
   "metadata": {},
   "outputs": [],
   "source": [
    "per_inner_loop_step['layer_dict.conv2.conv.weight_weight_L2norm']"
   ]
  },
  {
   "cell_type": "code",
   "execution_count": null,
   "id": "f46c3796",
   "metadata": {},
   "outputs": [],
   "source": [
    "gr = specific_column_values.groupby('current_iter').mean()"
   ]
  },
  {
   "cell_type": "code",
   "execution_count": null,
   "id": "a6bec815",
   "metadata": {},
   "outputs": [],
   "source": [
    " # 그래프를 그릴 컬럼들의 리스트\n",
    "columns_to_plot = ['layer_dict.conv0.conv.weight_alpha', \n",
    "                   'layer_dict.conv1.conv.weight_alpha',\n",
    "                   'layer_dict.conv2.conv.weight_alpha',\n",
    "                   'layer_dict.conv3.conv.weight_alpha',\n",
    "                   'layer_dict.linear.weights_alpha']\n",
    "columns_to_plot_label = ['conv1_w', 'conv2_w', 'conv3_w', 'conv4_w', 'classifier']\n",
    "\n",
    "# 특정 열(Column)의 값을 그래프로 그리기\n",
    "plt.figure(figsize=(10, 6))  # 그래프의 크기 설정 \n",
    "\n",
    "plt.plot(gr[columns_to_plot].values, label=columns_to_plot_label)\n",
    "plt.legend(loc='upper center', bbox_to_anchor=(0.5, 1.1), shadow=False, ncol=len(columns_to_plot))  # 범례 추가\n",
    "plt.xlabel('Iteration')  # X 축 라벨 설정\n",
    "plt.ylabel('gamma')  \n",
    "\n",
    "\n",
    "#plt.ylim(0, 100)\n",
    "\n",
    "\n",
    "plt.show()  # 그래프 보여주기"
   ]
  },
  {
   "cell_type": "code",
   "execution_count": null,
   "id": "41ab51aa",
   "metadata": {},
   "outputs": [],
   "source": [
    " # 그래프를 그릴 컬럼들의 리스트\n",
    "columns_to_plot = [ 'layer_dict.conv0.conv.weight_grad_L2norm', \n",
    "                    'layer_dict.conv1.conv.weight_grad_L2norm', \n",
    "                    'layer_dict.conv2.conv.weight_grad_L2norm',\n",
    "                    'layer_dict.conv3.conv.weight_grad_L2norm',\n",
    "                    'layer_dict.linear.weights_grad_L2norm']\n",
    "columns_to_plot_label = ['conv1_w', 'conv2_w', 'conv3_w', 'conv4_w', 'classifier']\n",
    "\n",
    "# 특정 열(Column)의 값을 그래프로 그리기\n",
    "plt.figure(figsize=(10, 6))  # 그래프의 크기 설정 \n",
    "\n",
    "plt.plot(gr[columns_to_plot].values, label=columns_to_plot_label)\n",
    "plt.legend(loc='upper center', bbox_to_anchor=(0.5, 1.1), shadow=False, ncol=len(columns_to_plot))  # 범례 추가\n",
    "plt.xlabel('Iteration')  # X 축 라벨 설정\n",
    "plt.ylabel('Gradient Norm')  \n",
    "\n",
    "# plt.yscale('log')  # Y 축을 로그 스케일로 변경\n",
    "# plt.ylim(10 ** -5, 10 **2)\n",
    "\n",
    "plt.show()  # 그래프 보여주기"
   ]
  },
  {
   "cell_type": "code",
   "execution_count": null,
   "id": "885bfe6c",
   "metadata": {},
   "outputs": [],
   "source": [
    " # 그래프를 그릴 컬럼들의 리스트\n",
    "columns_to_plot = [ 'layer_dict.conv0.conv.weight_weight_L2norm', \n",
    "                    'layer_dict.conv1.conv.weight_weight_L2norm', \n",
    "                    'layer_dict.conv2.conv.weight_weight_L2norm',\n",
    "                    'layer_dict.conv3.conv.weight_weight_L2norm',\n",
    "                    'layer_dict.linear.weights_weight_L2norm']\n",
    "columns_to_plot_label = ['conv1_w', 'conv2_w', 'conv3_w', 'conv4_w', 'classifier']\n",
    "\n",
    "# 특정 열(Column)의 값을 그래프로 그리기\n",
    "plt.figure(figsize=(10, 6))  # 그래프의 크기 설정 \n",
    "\n",
    "plt.plot(gr[columns_to_plot].values, label=columns_to_plot_label)\n",
    "plt.legend(loc='upper center', bbox_to_anchor=(0.5, 1.1), shadow=False, ncol=len(columns_to_plot))  # 범례 추가\n",
    "plt.ylabel('weight l2_norm')  \n",
    "\n",
    "# plt.yscale('log')  # Y 축을 로그 스케일로 변경\n",
    "# plt.ylim(10 ** -5, 10 **2)\n",
    "\n",
    "plt.show()  # 그래프 보여주기"
   ]
  },
  {
   "cell_type": "code",
   "execution_count": null,
   "id": "b1b859c4",
   "metadata": {},
   "outputs": [],
   "source": [
    " # 그래프를 그릴 컬럼들의 리스트\n",
    "columns_to_plot = [ 'layer_dict.conv0.conv.weight_weight_mean', \n",
    "                    'layer_dict.conv1.conv.weight_weight_mean', \n",
    "                    'layer_dict.conv2.conv.weight_weight_mean',\n",
    "                    'layer_dict.conv3.conv.weight_weight_mean',\n",
    "                    'layer_dict.linear.weights_weight_mean']\n",
    "columns_to_plot_label = ['conv1_w', 'conv2_w', 'conv3_w', 'conv4_w', 'classifier']\n",
    "\n",
    "# 특정 열(Column)의 값을 그래프로 그리기\n",
    "plt.figure(figsize=(10, 6))  # 그래프의 크기 설정 \n",
    "\n",
    "plt.plot(gr[columns_to_plot].values, label=columns_to_plot_label)\n",
    "plt.legend(loc='upper center', bbox_to_anchor=(0.5, 1.1), shadow=False, ncol=len(columns_to_plot))  # 범례 추가\n",
    "plt.ylabel('Weight mean')  \n",
    "\n",
    "# plt.yscale('log')  # Y 축을 로그 스케일로 변경\n",
    "# plt.ylim(10 ** -5, 10 **2)\n",
    "\n",
    "plt.show()  # 그래프 보여주기"
   ]
  },
  {
   "cell_type": "code",
   "execution_count": null,
   "id": "e2c21aeb",
   "metadata": {},
   "outputs": [],
   "source": [
    " # 그래프를 그릴 컬럼들의 리스트\n",
    "columns_to_plot = [ 'layer_dict.conv0.conv.weight_grad_mean', \n",
    "                    'layer_dict.conv1.conv.weight_grad_mean', \n",
    "                    'layer_dict.conv2.conv.weight_grad_mean',\n",
    "                    'layer_dict.conv3.conv.weight_grad_mean',\n",
    "                    'layer_dict.linear.weights_grad_mean']\n",
    "columns_to_plot_label = ['conv1_w', \n",
    "                         'conv2_w', \n",
    "                         'conv3_w', \n",
    "                         'conv4_w', \n",
    "                         'classifier']\n",
    "\n",
    "# 특정 열(Column)의 값을 그래프로 그리기\n",
    "plt.figure(figsize=(10, 6))  # 그래프의 크기 설정 \n",
    "\n",
    "plt.plot(gr[columns_to_plot].values, label=columns_to_plot_label)\n",
    "plt.legend(loc='upper center', bbox_to_anchor=(0.5, 1.1), shadow=False, ncol=len(columns_to_plot))  # 범례 추가\n",
    "plt.ylabel('Grad mean')  \n",
    "\n",
    "# plt.yscale('log', base=10)\n",
    "\n",
    "\n",
    "plt.show()  # 그래프 보여주기"
   ]
  },
  {
   "cell_type": "code",
   "execution_count": null,
   "id": "eecc2e10",
   "metadata": {},
   "outputs": [],
   "source": [
    " # 그래프를 그릴 컬럼들의 리스트\n",
    "columns_to_plot = [ 'layer_dict.conv0.conv.weight_weight_mean', \n",
    "                    'layer_dict.conv1.conv.weight_weight_mean', \n",
    "                    'layer_dict.conv2.conv.weight_weight_mean',\n",
    "                    'layer_dict.conv3.conv.weight_weight_mean',\n",
    "                    'layer_dict.linear.weights_weight_mean']\n",
    "columns_to_plot_label = ['conv1_w', \n",
    "                         'conv2_w', \n",
    "                         'conv3_w', \n",
    "                         'conv4_w', \n",
    "                         'classifier']\n",
    "\n",
    "# 특정 열(Column)의 값을 그래프로 그리기\n",
    "plt.figure(figsize=(10, 6))  # 그래프의 크기 설정 \n",
    "\n",
    "plt.plot(gr[columns_to_plot].values, label=columns_to_plot_label)\n",
    "plt.legend(loc='upper center', bbox_to_anchor=(0.5, 1.1), shadow=False, ncol=len(columns_to_plot))  # 범례 추가\n",
    "plt.ylabel('weight mean')  \n",
    "\n",
    "# plt.yscale('log')  # Y 축을 로그 스케일로 변경\n",
    "# plt.ylim(10 ** -5, 10 **2)\n",
    "\n",
    "plt.show()  # 그래프 보여주기"
   ]
  }
 ],
 "metadata": {
  "kernelspec": {
   "display_name": "Python 3 (ipykernel)",
   "language": "python",
   "name": "python3"
  },
  "language_info": {
   "codemirror_mode": {
    "name": "ipython",
    "version": 3
   },
   "file_extension": ".py",
   "mimetype": "text/x-python",
   "name": "python",
   "nbconvert_exporter": "python",
   "pygments_lexer": "ipython3",
   "version": "3.7.16"
  }
 },
 "nbformat": 4,
 "nbformat_minor": 5
}
