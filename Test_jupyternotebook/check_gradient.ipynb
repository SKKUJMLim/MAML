{
 "cells": [
  {
   "cell_type": "markdown",
   "id": "b209e912",
   "metadata": {},
   "source": [
    "# (목적)Gradient를 확인한다\n",
    "## 전체 Gradient에 3을 곱한것과 parameter 별로 gradient에 3을 곱한 것이 차이가 나는지 확인"
   ]
  },
  {
   "cell_type": "code",
   "execution_count": 132,
   "id": "3d4115e5",
   "metadata": {},
   "outputs": [
    {
     "name": "stdout",
     "output_type": "stream",
     "text": [
      "Cross Entropy Loss Gradient:\n",
      "tensor([[ 0.0067, -0.0057],\n",
      "        [-0.1132,  0.0953]])\n",
      "tensor([ 0.0062, -0.1049])\n",
      "tensor([[ 0.0287, -0.0587],\n",
      "        [-0.0287,  0.0587]])\n",
      "tensor([ 0.0882, -0.0882])\n"
     ]
    }
   ],
   "source": [
    "import torch\n",
    "import torch.nn as nn\n",
    "\n",
    "import torch.nn.functional as F\n",
    "\n",
    "# 예제 데이터 생성\n",
    "X = torch.randn(100, 2)\n",
    "y = torch.randint(0, 2, (100,))\n",
    "\n",
    "# 모델 정의\n",
    "class ClassificationModel(nn.Module):\n",
    "    def __init__(self):\n",
    "        super(ClassificationModel, self).__init__()\n",
    "        self.fc1 = nn.Linear(2, 2)\n",
    "        self.fc2 = nn.Linear(2, 2)\n",
    "    \n",
    "    def forward(self, x):\n",
    "        x = self.fc1(x)\n",
    "        x = self.fc2(x)\n",
    "        return x\n",
    "\n",
    "model = ClassificationModel() # without gradient modifier\n",
    "model_with_modifier = ClassificationModel()\n",
    "\n",
    "# Cross Entropy Loss와 KL Divergence Loss 정의\n",
    "cross_entropy_loss = nn.CrossEntropyLoss()\n",
    "kl_divergence_loss = nn.KLDivLoss(reduction='batchmean')\n",
    "\n",
    "# Forward Pass\n",
    "outputs = model(X)\n",
    "output_with_modifier = model_with_modifier(X)\n",
    "\n",
    "# Cross Entropy Loss 계산\n",
    "ce_loss = F.cross_entropy(outputs, y)\n",
    "\n",
    "# KL Divergence Loss 계산\n",
    "p = torch.tensor([0.1, 0.2])  # 예시 분포\n",
    "kl_loss = kl_divergence_loss(torch.log(outputs), p)\n",
    "# kl_loss = ce_loss\n",
    "\n",
    "# Gradient 계산 (torch.autograd.grad 사용)\n",
    "ce_gradient = torch.autograd.grad(ce_loss, model.parameters(), retain_graph=True)\n",
    "kl_gradient = torch.autograd.grad(kl_loss, model.parameters(), retain_graph=True)\n",
    "\n",
    "# Gradient 확인\n",
    "print(\"Cross Entropy Loss Gradient:\")\n",
    "for grad_param in ce_gradient:\n",
    "    print(grad_param)\n",
    "\n",
    "# print(\"\\nKL Divergence Loss Gradient:\")\n",
    "# for grad_param in kl_gradient:\n",
    "#     print(grad_param)"
   ]
  },
  {
   "cell_type": "code",
   "execution_count": 118,
   "id": "6dd2a023",
   "metadata": {},
   "outputs": [
    {
     "name": "stdout",
     "output_type": "stream",
     "text": [
      "Cross Entropy Loss Gradient:\n",
      "tensor([[-0.0280, -0.0529],\n",
      "        [-0.0470, -0.0888]])\n",
      "tensor([0.0762, 0.1279])\n",
      "tensor([[ 0.0792, -0.1051],\n",
      "        [-0.0792,  0.1051]])\n",
      "tensor([-0.1973,  0.1973])\n"
     ]
    }
   ],
   "source": [
    "ce_loss *= 2\n",
    "ce_gradient = torch.autograd.grad(ce_loss, model.parameters(), retain_graph=True)\n",
    "\n",
    "# Gradient 확인\n",
    "print(\"Cross Entropy Loss Gradient:\")\n",
    "for grad_param in ce_gradient:\n",
    "    print(grad_param)"
   ]
  },
  {
   "cell_type": "code",
   "execution_count": 119,
   "id": "3bb44854",
   "metadata": {},
   "outputs": [
    {
     "data": {
      "text/plain": [
       "tensor(nan, grad_fn=<DivBackward0>)"
      ]
     },
     "execution_count": 119,
     "metadata": {},
     "output_type": "execute_result"
    }
   ],
   "source": [
    "kl_loss"
   ]
  },
  {
   "cell_type": "code",
   "execution_count": 120,
   "id": "5698603e",
   "metadata": {},
   "outputs": [
    {
     "name": "stdout",
     "output_type": "stream",
     "text": [
      "(tensor([[-0.5257,  0.0265],\n",
      "        [-0.8808,  0.0445]]), tensor([2.4115, 4.0392]), tensor([[-0.5026,  0.0906],\n",
      "        [-3.5980,  0.8394]]), tensor([0.8105, 5.8365]))\n"
     ]
    }
   ],
   "source": [
    "total_loss = 1 * ce_loss +  2* kl_loss\n",
    "total_loss\n",
    "total_gradient = torch.autograd.grad(total_loss, model.parameters(), retain_graph=True)\n",
    "print(total_gradient)"
   ]
  },
  {
   "cell_type": "code",
   "execution_count": 121,
   "id": "42595cdd",
   "metadata": {},
   "outputs": [
    {
     "name": "stdout",
     "output_type": "stream",
     "text": [
      "tensor([[-0.5257,  0.0265],\n",
      "        [-0.8808,  0.0445]])\n",
      "tensor([2.4115, 4.0392])\n",
      "tensor([[-0.5026,  0.0906],\n",
      "        [-3.5980,  0.8394]])\n",
      "tensor([0.8105, 5.8365])\n"
     ]
    }
   ],
   "source": [
    "names_grads_copy = {}\n",
    "\n",
    "for param_name, ce_grad, kl_grad in zip(model.parameters(), ce_gradient, kl_gradient):\n",
    "    \n",
    "    #kl_grad = None\n",
    "    \n",
    "    if not kl_grad == None:\n",
    "        names_grads_copy[param_name] = torch.tensor(1) * ce_grad + torch.tensor(2) *  kl_grad\n",
    "    else:\n",
    "        names_grads_copy[param_name] = torch.tensor(1) * ce_grad \n",
    "    \n",
    "for key, value in names_grads_copy.items():\n",
    "    print(value)"
   ]
  },
  {
   "cell_type": "markdown",
   "id": "9fc7b737",
   "metadata": {},
   "source": [
    "## 1. Gradient를 추가적으로 구해도 retain_graph=True를 설정하면, 값이 변하지 않는다"
   ]
  },
  {
   "cell_type": "code",
   "execution_count": 122,
   "id": "77c1fe23",
   "metadata": {},
   "outputs": [
    {
     "name": "stdout",
     "output_type": "stream",
     "text": [
      "tensor([[-0.0280, -0.0529],\n",
      "        [-0.0470, -0.0888]])\n",
      "tensor([0.0762, 0.1279])\n",
      "tensor([[ 0.0792, -0.1051],\n",
      "        [-0.0792,  0.1051]])\n",
      "tensor([-0.1973,  0.1973])\n"
     ]
    }
   ],
   "source": [
    "ce_gradient = torch.autograd.grad(ce_loss, model.parameters(), retain_graph=True)\n",
    "for grad_param in ce_gradient:\n",
    "    print(grad_param)"
   ]
  },
  {
   "cell_type": "markdown",
   "id": "8fb38c70",
   "metadata": {},
   "source": [
    "# 2. 전체 gradient에 3을 곱한다\n",
    "## 1) 안된다"
   ]
  },
  {
   "cell_type": "code",
   "execution_count": 123,
   "id": "3bdede2c",
   "metadata": {},
   "outputs": [
    {
     "name": "stdout",
     "output_type": "stream",
     "text": [
      "tensor([[-0.0280, -0.0529],\n",
      "        [-0.0470, -0.0888]])\n",
      "tensor([0.0762, 0.1279])\n",
      "tensor([[ 0.0792, -0.1051],\n",
      "        [-0.0792,  0.1051]])\n",
      "tensor([-0.1973,  0.1973])\n",
      "tensor([[-0.0280, -0.0529],\n",
      "        [-0.0470, -0.0888]])\n",
      "tensor([0.0762, 0.1279])\n",
      "tensor([[ 0.0792, -0.1051],\n",
      "        [-0.0792,  0.1051]])\n",
      "tensor([-0.1973,  0.1973])\n",
      "tensor([[-0.0280, -0.0529],\n",
      "        [-0.0470, -0.0888]])\n",
      "tensor([0.0762, 0.1279])\n",
      "tensor([[ 0.0792, -0.1051],\n",
      "        [-0.0792,  0.1051]])\n",
      "tensor([-0.1973,  0.1973])\n"
     ]
    }
   ],
   "source": [
    "ce_gradient =  torch.tensor(3) * torch.autograd.grad(ce_loss, model.parameters(), retain_graph=True)\n",
    "for grad_param in ce_gradient:\n",
    "    print(grad_param)"
   ]
  },
  {
   "cell_type": "markdown",
   "id": "f48521e1",
   "metadata": {},
   "source": [
    "## 2) 덧셈 조차 하면 안된다"
   ]
  },
  {
   "cell_type": "code",
   "execution_count": 124,
   "id": "31ef3c09",
   "metadata": {},
   "outputs": [
    {
     "data": {
      "text/plain": [
       "(tensor([[-0.0280, -0.0529],\n",
       "         [-0.0470, -0.0888]]),\n",
       " tensor([0.0762, 0.1279]),\n",
       " tensor([[ 0.0792, -0.1051],\n",
       "         [-0.0792,  0.1051]]),\n",
       " tensor([-0.1973,  0.1973]),\n",
       " tensor([[-0.0280, -0.0529],\n",
       "         [-0.0470, -0.0888]]),\n",
       " tensor([0.0762, 0.1279]),\n",
       " tensor([[ 0.0792, -0.1051],\n",
       "         [-0.0792,  0.1051]]),\n",
       " tensor([-0.1973,  0.1973]),\n",
       " tensor([[-0.0280, -0.0529],\n",
       "         [-0.0470, -0.0888]]),\n",
       " tensor([0.0762, 0.1279]),\n",
       " tensor([[ 0.0792, -0.1051],\n",
       "         [-0.0792,  0.1051]]),\n",
       " tensor([-0.1973,  0.1973]),\n",
       " tensor([[-0.2488,  0.0397],\n",
       "         [-0.4169,  0.0667]]),\n",
       " tensor([1.1676, 1.9556]),\n",
       " tensor([[-0.2909,  0.0979],\n",
       "         [-1.7594,  0.3671]]),\n",
       " tensor([0.5039, 2.8196]))"
      ]
     },
     "execution_count": 124,
     "metadata": {},
     "output_type": "execute_result"
    }
   ],
   "source": [
    "total_gradient = ce_gradient + kl_gradient\n",
    "total_gradient"
   ]
  },
  {
   "cell_type": "markdown",
   "id": "98262982",
   "metadata": {},
   "source": [
    "## 3) loss에 3을 곱해줘야 내가 원하는 값을 얻을 수 있다"
   ]
  },
  {
   "cell_type": "code",
   "execution_count": 125,
   "id": "a85ef497",
   "metadata": {},
   "outputs": [
    {
     "name": "stdout",
     "output_type": "stream",
     "text": [
      "tensor([[-0.0840, -0.1587],\n",
      "        [-0.1410, -0.2665]])\n",
      "tensor([0.2286, 0.3838])\n",
      "tensor([[ 0.2376, -0.3153],\n",
      "        [-0.2376,  0.3153]])\n",
      "tensor([-0.5920,  0.5920])\n"
     ]
    }
   ],
   "source": [
    "ce_gradient =  torch.autograd.grad(torch.tensor(3) * ce_loss, model.parameters(), retain_graph=True)\n",
    "for grad_param in ce_gradient:\n",
    "    print(grad_param)"
   ]
  },
  {
   "cell_type": "markdown",
   "id": "3f6815cd",
   "metadata": {},
   "source": [
    "# 3. 각 parameter 별로 3을 곱해준다"
   ]
  },
  {
   "cell_type": "code",
   "execution_count": 126,
   "id": "5dab046a",
   "metadata": {},
   "outputs": [
    {
     "name": "stdout",
     "output_type": "stream",
     "text": [
      "Cross Entropy Loss Gradient:\n",
      "tensor([[-0.0840, -0.1587],\n",
      "        [-0.1410, -0.2665]])\n",
      "tensor([0.2286, 0.3838])\n",
      "tensor([[ 0.2376, -0.3153],\n",
      "        [-0.2376,  0.3153]])\n",
      "tensor([-0.5920,  0.5920])\n"
     ]
    }
   ],
   "source": [
    "# Gradient 확인\n",
    "print(\"Cross Entropy Loss Gradient:\")\n",
    "ce_gradient = torch.autograd.grad(ce_loss, model.parameters(), retain_graph=True)\n",
    "for grad_param in ce_gradient:\n",
    "    print(torch.tensor(3) * grad_param)"
   ]
  },
  {
   "cell_type": "markdown",
   "id": "096327dc",
   "metadata": {},
   "source": [
    "## 4. weight에 2를 곱하고 gradient를 구하면 값이 달라진다"
   ]
  },
  {
   "cell_type": "code",
   "execution_count": 127,
   "id": "fbc6b756",
   "metadata": {},
   "outputs": [
    {
     "name": "stdout",
     "output_type": "stream",
     "text": [
      "tensor([[-0.0280, -0.0529],\n",
      "        [-0.0470, -0.0888]])\n",
      "tensor([0.0762, 0.1279])\n",
      "tensor([[ 0.0792, -0.1051],\n",
      "        [-0.0792,  0.1051]])\n",
      "tensor([-0.1973,  0.1973])\n"
     ]
    }
   ],
   "source": [
    "# 각 레이어의 가중치에 2를 곱함\n",
    "for param in model.parameters():\n",
    "    param.data = param.data * 2\n",
    "\n",
    "ce_gradient = torch.autograd.grad(ce_loss, model.parameters(), retain_graph=True)\n",
    "for grad_param in ce_gradient:\n",
    "    print(grad_param)"
   ]
  },
  {
   "cell_type": "markdown",
   "id": "8a3effb1",
   "metadata": {},
   "source": [
    "# 5. 각 parameter 별로 3을 더해준다"
   ]
  },
  {
   "cell_type": "code",
   "execution_count": 128,
   "id": "748e11fe",
   "metadata": {},
   "outputs": [
    {
     "name": "stdout",
     "output_type": "stream",
     "text": [
      "Cross Entropy Loss Gradient:\n",
      "tensor([[-0.0280, -0.0529],\n",
      "        [-0.0470, -0.0888]])\n",
      "tensor([0.0762, 0.1279])\n",
      "tensor([[ 0.0792, -0.1051],\n",
      "        [-0.0792,  0.1051]])\n",
      "tensor([-0.1973,  0.1973])\n"
     ]
    }
   ],
   "source": [
    "# Gradient 확인\n",
    "print(\"Cross Entropy Loss Gradient:\")\n",
    "ce_gradient = torch.autograd.grad(ce_loss, model.parameters(), retain_graph=True)\n",
    "for grad_param in ce_gradient:\n",
    "    print(grad_param)"
   ]
  },
  {
   "cell_type": "code",
   "execution_count": 129,
   "id": "17e6215f",
   "metadata": {},
   "outputs": [
    {
     "name": "stdout",
     "output_type": "stream",
     "text": [
      "Cross Entropy Loss Gradient:\n",
      "tensor([[2.9720, 2.9471],\n",
      "        [2.9530, 2.9112]])\n",
      "tensor([3.0762, 3.1279])\n",
      "tensor([[3.0792, 2.8949],\n",
      "        [2.9208, 3.1051]])\n",
      "tensor([2.8027, 3.1973])\n"
     ]
    }
   ],
   "source": [
    "# Gradient 확인\n",
    "print(\"Cross Entropy Loss Gradient:\")\n",
    "ce_gradient = torch.autograd.grad(ce_loss, model.parameters(), retain_graph=True)\n",
    "for grad_param in ce_gradient:\n",
    "    print(torch.tensor(3) + grad_param)"
   ]
  },
  {
   "cell_type": "markdown",
   "id": "6248c442",
   "metadata": {},
   "source": [
    "## 6. Gradient를 조작했을 떄 뭐가 달라지나?"
   ]
  },
  {
   "cell_type": "code",
   "execution_count": 130,
   "id": "86dcf456",
   "metadata": {},
   "outputs": [
    {
     "name": "stdout",
     "output_type": "stream",
     "text": [
      "Parameter containing:\n",
      "tensor([[-0.2732, -0.5517],\n",
      "        [-0.7075, -0.9522]], requires_grad=True)\n",
      "Parameter containing:\n",
      "tensor([-1.2873,  0.1420], requires_grad=True)\n",
      "Parameter containing:\n",
      "tensor([[0.0468, 0.0778],\n",
      "        [0.8205, 1.3724]], requires_grad=True)\n",
      "Parameter containing:\n",
      "tensor([-0.3823,  0.1888], requires_grad=True)\n"
     ]
    }
   ],
   "source": [
    "learning_rate = 0.01\n",
    "with torch.no_grad():\n",
    "    for param, grad in zip(model.parameters(), ce_gradient):\n",
    "        param -= learning_rate * grad\n",
    "        print(param)"
   ]
  },
  {
   "cell_type": "code",
   "execution_count": 131,
   "id": "dce046b3",
   "metadata": {},
   "outputs": [
    {
     "name": "stdout",
     "output_type": "stream",
     "text": [
      "Cross Entropy Loss Gradient:\n"
     ]
    },
    {
     "ename": "RuntimeError",
     "evalue": "one of the variables needed for gradient computation has been modified by an inplace operation: [torch.FloatTensor [2, 2]], which is output 0 of TBackward, is at version 2; expected version 1 instead. Hint: enable anomaly detection to find the operation that failed to compute its gradient, with torch.autograd.set_detect_anomaly(True).",
     "output_type": "error",
     "traceback": [
      "\u001b[1;31m---------------------------------------------------------------------------\u001b[0m",
      "\u001b[1;31mRuntimeError\u001b[0m                              Traceback (most recent call last)",
      "\u001b[1;32m~\\AppData\\Local\\Temp\\ipykernel_22812\\207602838.py\u001b[0m in \u001b[0;36m<module>\u001b[1;34m\u001b[0m\n\u001b[0;32m      1\u001b[0m \u001b[1;31m# Gradient 확인\u001b[0m\u001b[1;33m\u001b[0m\u001b[1;33m\u001b[0m\u001b[1;33m\u001b[0m\u001b[0m\n\u001b[0;32m      2\u001b[0m \u001b[0mprint\u001b[0m\u001b[1;33m(\u001b[0m\u001b[1;34m\"Cross Entropy Loss Gradient:\"\u001b[0m\u001b[1;33m)\u001b[0m\u001b[1;33m\u001b[0m\u001b[1;33m\u001b[0m\u001b[0m\n\u001b[1;32m----> 3\u001b[1;33m \u001b[0mce_gradient\u001b[0m \u001b[1;33m=\u001b[0m \u001b[0mtorch\u001b[0m\u001b[1;33m.\u001b[0m\u001b[0mautograd\u001b[0m\u001b[1;33m.\u001b[0m\u001b[0mgrad\u001b[0m\u001b[1;33m(\u001b[0m\u001b[0mce_loss\u001b[0m\u001b[1;33m,\u001b[0m \u001b[0mmodel\u001b[0m\u001b[1;33m.\u001b[0m\u001b[0mparameters\u001b[0m\u001b[1;33m(\u001b[0m\u001b[1;33m)\u001b[0m\u001b[1;33m,\u001b[0m \u001b[0mretain_graph\u001b[0m\u001b[1;33m=\u001b[0m\u001b[1;32mTrue\u001b[0m\u001b[1;33m)\u001b[0m\u001b[1;33m\u001b[0m\u001b[1;33m\u001b[0m\u001b[0m\n\u001b[0m\u001b[0;32m      4\u001b[0m \u001b[1;32mfor\u001b[0m \u001b[0mgrad_param\u001b[0m \u001b[1;32min\u001b[0m \u001b[0mce_gradient\u001b[0m\u001b[1;33m:\u001b[0m\u001b[1;33m\u001b[0m\u001b[1;33m\u001b[0m\u001b[0m\n\u001b[0;32m      5\u001b[0m     \u001b[0mprint\u001b[0m\u001b[1;33m(\u001b[0m\u001b[0mtorch\u001b[0m\u001b[1;33m.\u001b[0m\u001b[0mtensor\u001b[0m\u001b[1;33m(\u001b[0m\u001b[1;36m3\u001b[0m\u001b[1;33m)\u001b[0m \u001b[1;33m+\u001b[0m \u001b[0mgrad_param\u001b[0m\u001b[1;33m)\u001b[0m\u001b[1;33m\u001b[0m\u001b[1;33m\u001b[0m\u001b[0m\n",
      "\u001b[1;32m~\\anaconda3\\envs\\metal\\lib\\site-packages\\torch\\autograd\\__init__.py\u001b[0m in \u001b[0;36mgrad\u001b[1;34m(outputs, inputs, grad_outputs, retain_graph, create_graph, only_inputs, allow_unused)\u001b[0m\n\u001b[0;32m    226\u001b[0m     return Variable._execution_engine.run_backward(\n\u001b[0;32m    227\u001b[0m         \u001b[0moutputs\u001b[0m\u001b[1;33m,\u001b[0m \u001b[0mgrad_outputs_\u001b[0m\u001b[1;33m,\u001b[0m \u001b[0mretain_graph\u001b[0m\u001b[1;33m,\u001b[0m \u001b[0mcreate_graph\u001b[0m\u001b[1;33m,\u001b[0m\u001b[1;33m\u001b[0m\u001b[1;33m\u001b[0m\u001b[0m\n\u001b[1;32m--> 228\u001b[1;33m         inputs, allow_unused, accumulate_grad=False)\n\u001b[0m\u001b[0;32m    229\u001b[0m \u001b[1;33m\u001b[0m\u001b[0m\n\u001b[0;32m    230\u001b[0m \u001b[1;33m\u001b[0m\u001b[0m\n",
      "\u001b[1;31mRuntimeError\u001b[0m: one of the variables needed for gradient computation has been modified by an inplace operation: [torch.FloatTensor [2, 2]], which is output 0 of TBackward, is at version 2; expected version 1 instead. Hint: enable anomaly detection to find the operation that failed to compute its gradient, with torch.autograd.set_detect_anomaly(True)."
     ]
    }
   ],
   "source": [
    "optimizer_with_modifier = optim.SGD(model_with_modifier.parameters(), lr=0.01)\n",
    "optimizer_without_modifier = optim.SGD(model_without_modifier.parameters(), lr=0.01)"
   ]
  },
  {
   "cell_type": "code",
   "execution_count": null,
   "id": "eaa93c94",
   "metadata": {},
   "outputs": [],
   "source": [
    "learning_rate = 0.01\n",
    "with torch.no_grad():\n",
    "    for param, grad in zip(model.parameters(), ce_gradient):\n",
    "        param -= learning_rate * grad\n",
    "        print(param)"
   ]
  }
 ],
 "metadata": {
  "kernelspec": {
   "display_name": "Python 3 (ipykernel)",
   "language": "python",
   "name": "python3"
  },
  "language_info": {
   "codemirror_mode": {
    "name": "ipython",
    "version": 3
   },
   "file_extension": ".py",
   "mimetype": "text/x-python",
   "name": "python",
   "nbconvert_exporter": "python",
   "pygments_lexer": "ipython3",
   "version": "3.7.10"
  }
 },
 "nbformat": 4,
 "nbformat_minor": 5
}
