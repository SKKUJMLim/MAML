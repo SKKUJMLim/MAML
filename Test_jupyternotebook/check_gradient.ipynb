{
 "cells": [
  {
   "cell_type": "markdown",
   "id": "b209e912",
   "metadata": {},
   "source": [
    "# (목적)Gradient를 확인한다\n",
    "## 전체 Gradient에 3을 곱한것과 parameter 별로 gradient에 3을 곱한 것이 차이가 나는지 확인"
   ]
  },
  {
   "cell_type": "code",
   "execution_count": 55,
   "id": "3d4115e5",
   "metadata": {},
   "outputs": [
    {
     "name": "stdout",
     "output_type": "stream",
     "text": [
      "Cross Entropy Loss Gradient:\n",
      "tensor([[-0.0106, -0.0197],\n",
      "        [-0.0503, -0.0939]])\n",
      "tensor([-0.0105, -0.0500])\n",
      "tensor([[-0.0456,  0.0535],\n",
      "        [ 0.0456, -0.0535]])\n",
      "tensor([-0.0711,  0.0711])\n"
     ]
    }
   ],
   "source": [
    "import torch\n",
    "import torch.nn as nn\n",
    "\n",
    "import torch.nn.functional as F\n",
    "\n",
    "# 예제 데이터 생성\n",
    "X = torch.randn(100, 2)\n",
    "y = torch.randint(0, 2, (100,))\n",
    "\n",
    "# 모델 정의\n",
    "class ClassificationModel(nn.Module):\n",
    "    def __init__(self):\n",
    "        super(ClassificationModel, self).__init__()\n",
    "        self.fc1 = nn.Linear(2, 2)\n",
    "        self.fc2 = nn.Linear(2, 2)\n",
    "    \n",
    "    def forward(self, x):\n",
    "        x = self.fc1(x)\n",
    "        x = self.fc2(x)\n",
    "        return x\n",
    "\n",
    "model = ClassificationModel()\n",
    "\n",
    "# Cross Entropy Loss와 KL Divergence Loss 정의\n",
    "cross_entropy_loss = nn.CrossEntropyLoss()\n",
    "kl_divergence_loss = nn.KLDivLoss(reduction='batchmean')\n",
    "\n",
    "# Forward Pass\n",
    "outputs = model(X)\n",
    "\n",
    "# Cross Entropy Loss 계산\n",
    "ce_loss = F.cross_entropy(outputs, y)\n",
    "\n",
    "# KL Divergence Loss 계산\n",
    "p = torch.tensor([0.1, 0.2])  # 예시 분포\n",
    "kl_loss = kl_divergence_loss(torch.log(outputs), p)\n",
    "# kl_loss = ce_loss\n",
    "\n",
    "# Gradient 계산 (torch.autograd.grad 사용)\n",
    "ce_gradient = torch.autograd.grad(ce_loss, model.parameters(), retain_graph=True)\n",
    "kl_gradient = torch.autograd.grad(kl_loss, model.parameters(), retain_graph=True)\n",
    "\n",
    "# Gradient 확인\n",
    "print(\"Cross Entropy Loss Gradient:\")\n",
    "for grad_param in ce_gradient:\n",
    "    print(grad_param)\n",
    "\n",
    "# print(\"\\nKL Divergence Loss Gradient:\")\n",
    "# for grad_param in kl_gradient:\n",
    "#     print(grad_param)"
   ]
  },
  {
   "cell_type": "code",
   "execution_count": 56,
   "id": "6dd2a023",
   "metadata": {},
   "outputs": [
    {
     "name": "stdout",
     "output_type": "stream",
     "text": [
      "Cross Entropy Loss Gradient:\n",
      "tensor([[-0.0211, -0.0394],\n",
      "        [-0.1007, -0.1877]])\n",
      "tensor([-0.0210, -0.1000])\n",
      "tensor([[-0.0912,  0.1069],\n",
      "        [ 0.0912, -0.1069]])\n",
      "tensor([-0.1422,  0.1422])\n"
     ]
    }
   ],
   "source": [
    "ce_loss *= 2\n",
    "ce_gradient = torch.autograd.grad(ce_loss, model.parameters(), retain_graph=True)\n",
    "\n",
    "# Gradient 확인\n",
    "print(\"Cross Entropy Loss Gradient:\")\n",
    "for grad_param in ce_gradient:\n",
    "    print(grad_param)"
   ]
  },
  {
   "cell_type": "code",
   "execution_count": 57,
   "id": "3bb44854",
   "metadata": {},
   "outputs": [
    {
     "data": {
      "text/plain": [
       "tensor(nan, grad_fn=<DivBackward0>)"
      ]
     },
     "execution_count": 57,
     "metadata": {},
     "output_type": "execute_result"
    }
   ],
   "source": [
    "kl_loss"
   ]
  },
  {
   "cell_type": "code",
   "execution_count": 58,
   "id": "5698603e",
   "metadata": {},
   "outputs": [
    {
     "name": "stdout",
     "output_type": "stream",
     "text": [
      "(tensor([[ 0.2023, -0.0481],\n",
      "        [ 0.6727, -0.4599]]), tensor([0.3982, 1.4024]), tensor([[-0.5114,  0.4607],\n",
      "        [ 0.4840, -0.3643]]), tensor([ 1.4619, -2.1532]))\n"
     ]
    }
   ],
   "source": [
    "total_loss = 1 * ce_loss +  2* kl_loss\n",
    "total_loss\n",
    "total_gradient = torch.autograd.grad(total_loss, model.parameters(), retain_graph=True)\n",
    "print(total_gradient)"
   ]
  },
  {
   "cell_type": "code",
   "execution_count": 59,
   "id": "42595cdd",
   "metadata": {},
   "outputs": [
    {
     "name": "stdout",
     "output_type": "stream",
     "text": [
      "tensor([[ 0.2023, -0.0481],\n",
      "        [ 0.6728, -0.4599]])\n",
      "tensor([0.3982, 1.4024])\n",
      "tensor([[-0.5114,  0.4607],\n",
      "        [ 0.4840, -0.3643]])\n",
      "tensor([ 1.4619, -2.1532])\n"
     ]
    }
   ],
   "source": [
    "names_grads_copy = {}\n",
    "\n",
    "for param_name, ce_grad, kl_grad in zip(model.parameters(), ce_gradient, kl_gradient):\n",
    "    \n",
    "    #kl_grad = None\n",
    "    \n",
    "    if not kl_grad == None:\n",
    "        names_grads_copy[param_name] = torch.tensor(1) * ce_grad + torch.tensor(2) *  kl_grad\n",
    "    else:\n",
    "        names_grads_copy[param_name] = torch.tensor(1) * ce_grad \n",
    "    \n",
    "for key, value in names_grads_copy.items():\n",
    "    print(value)"
   ]
  },
  {
   "cell_type": "markdown",
   "id": "9fc7b737",
   "metadata": {},
   "source": [
    "## 1. Gradient를 추가적으로 구해도 retain_graph=True를 설정하면, 값이 변하지 않는다"
   ]
  },
  {
   "cell_type": "code",
   "execution_count": 60,
   "id": "77c1fe23",
   "metadata": {},
   "outputs": [
    {
     "name": "stdout",
     "output_type": "stream",
     "text": [
      "tensor([[-0.0211, -0.0394],\n",
      "        [-0.1007, -0.1877]])\n",
      "tensor([-0.0210, -0.1000])\n",
      "tensor([[-0.0912,  0.1069],\n",
      "        [ 0.0912, -0.1069]])\n",
      "tensor([-0.1422,  0.1422])\n"
     ]
    }
   ],
   "source": [
    "ce_gradient = torch.autograd.grad(ce_loss, model.parameters(), retain_graph=True)\n",
    "for grad_param in ce_gradient:\n",
    "    print(grad_param)"
   ]
  },
  {
   "cell_type": "markdown",
   "id": "8fb38c70",
   "metadata": {},
   "source": [
    "# 2. 전체 gradient에 3을 곱한다\n",
    "## 1) 안된다"
   ]
  },
  {
   "cell_type": "code",
   "execution_count": 61,
   "id": "3bdede2c",
   "metadata": {},
   "outputs": [
    {
     "name": "stdout",
     "output_type": "stream",
     "text": [
      "tensor([[-0.0211, -0.0394],\n",
      "        [-0.1007, -0.1877]])\n",
      "tensor([-0.0210, -0.1000])\n",
      "tensor([[-0.0912,  0.1069],\n",
      "        [ 0.0912, -0.1069]])\n",
      "tensor([-0.1422,  0.1422])\n",
      "tensor([[-0.0211, -0.0394],\n",
      "        [-0.1007, -0.1877]])\n",
      "tensor([-0.0210, -0.1000])\n",
      "tensor([[-0.0912,  0.1069],\n",
      "        [ 0.0912, -0.1069]])\n",
      "tensor([-0.1422,  0.1422])\n",
      "tensor([[-0.0211, -0.0394],\n",
      "        [-0.1007, -0.1877]])\n",
      "tensor([-0.0210, -0.1000])\n",
      "tensor([[-0.0912,  0.1069],\n",
      "        [ 0.0912, -0.1069]])\n",
      "tensor([-0.1422,  0.1422])\n"
     ]
    }
   ],
   "source": [
    "ce_gradient =  torch.tensor(3) * torch.autograd.grad(ce_loss, model.parameters(), retain_graph=True)\n",
    "for grad_param in ce_gradient:\n",
    "    print(grad_param)"
   ]
  },
  {
   "cell_type": "markdown",
   "id": "f48521e1",
   "metadata": {},
   "source": [
    "## 2) 덧셈 조차 하면 안된다"
   ]
  },
  {
   "cell_type": "code",
   "execution_count": 62,
   "id": "31ef3c09",
   "metadata": {},
   "outputs": [
    {
     "data": {
      "text/plain": [
       "(tensor([[-0.0211, -0.0394],\n",
       "         [-0.1007, -0.1877]]),\n",
       " tensor([-0.0210, -0.1000]),\n",
       " tensor([[-0.0912,  0.1069],\n",
       "         [ 0.0912, -0.1069]]),\n",
       " tensor([-0.1422,  0.1422]),\n",
       " tensor([[-0.0211, -0.0394],\n",
       "         [-0.1007, -0.1877]]),\n",
       " tensor([-0.0210, -0.1000]),\n",
       " tensor([[-0.0912,  0.1069],\n",
       "         [ 0.0912, -0.1069]]),\n",
       " tensor([-0.1422,  0.1422]),\n",
       " tensor([[-0.0211, -0.0394],\n",
       "         [-0.1007, -0.1877]]),\n",
       " tensor([-0.0210, -0.1000]),\n",
       " tensor([[-0.0912,  0.1069],\n",
       "         [ 0.0912, -0.1069]]),\n",
       " tensor([-0.1422,  0.1422]),\n",
       " tensor([[ 0.1117, -0.0044],\n",
       "         [ 0.3867, -0.1361]]),\n",
       " tensor([0.2096, 0.7512]),\n",
       " tensor([[-0.2101,  0.1769],\n",
       "         [ 0.1964, -0.1287]]),\n",
       " tensor([ 0.8020, -1.1477]))"
      ]
     },
     "execution_count": 62,
     "metadata": {},
     "output_type": "execute_result"
    }
   ],
   "source": [
    "total_gradient = ce_gradient + kl_gradient\n",
    "total_gradient"
   ]
  },
  {
   "cell_type": "markdown",
   "id": "98262982",
   "metadata": {},
   "source": [
    "## 3) loss에 3을 곱해줘야 내가 원하는 값을 얻을 수 있다"
   ]
  },
  {
   "cell_type": "code",
   "execution_count": 63,
   "id": "a85ef497",
   "metadata": {},
   "outputs": [
    {
     "name": "stdout",
     "output_type": "stream",
     "text": [
      "tensor([[-0.0634, -0.1181],\n",
      "        [-0.3020, -0.5632]])\n",
      "tensor([-0.0629, -0.2999])\n",
      "tensor([[-0.2736,  0.3208],\n",
      "        [ 0.2736, -0.3208]])\n",
      "tensor([-0.4267,  0.4267])\n"
     ]
    }
   ],
   "source": [
    "ce_gradient =  torch.autograd.grad(torch.tensor(3) * ce_loss, model.parameters(), retain_graph=True)\n",
    "for grad_param in ce_gradient:\n",
    "    print(grad_param)"
   ]
  },
  {
   "cell_type": "markdown",
   "id": "3f6815cd",
   "metadata": {},
   "source": [
    "# 3. 각 parameter 별로 3을 곱해준다"
   ]
  },
  {
   "cell_type": "code",
   "execution_count": 64,
   "id": "5dab046a",
   "metadata": {},
   "outputs": [
    {
     "name": "stdout",
     "output_type": "stream",
     "text": [
      "Cross Entropy Loss Gradient:\n",
      "tensor([[-0.0634, -0.1181],\n",
      "        [-0.3020, -0.5632]])\n",
      "tensor([-0.0629, -0.2999])\n",
      "tensor([[-0.2736,  0.3208],\n",
      "        [ 0.2736, -0.3208]])\n",
      "tensor([-0.4267,  0.4267])\n"
     ]
    }
   ],
   "source": [
    "# Gradient 확인\n",
    "print(\"Cross Entropy Loss Gradient:\")\n",
    "ce_gradient = torch.autograd.grad(ce_loss, model.parameters(), retain_graph=True)\n",
    "for grad_param in ce_gradient:\n",
    "    print(torch.tensor(3) * grad_param)"
   ]
  },
  {
   "cell_type": "markdown",
   "id": "096327dc",
   "metadata": {},
   "source": [
    "## 4. weight에 2를 곱하고 gradient를 구하면 값이 달라진다"
   ]
  },
  {
   "cell_type": "code",
   "execution_count": 65,
   "id": "fbc6b756",
   "metadata": {},
   "outputs": [
    {
     "name": "stdout",
     "output_type": "stream",
     "text": [
      "tensor([[-0.0211, -0.0394],\n",
      "        [-0.1007, -0.1877]])\n",
      "tensor([-0.0210, -0.1000])\n",
      "tensor([[-0.0912,  0.1069],\n",
      "        [ 0.0912, -0.1069]])\n",
      "tensor([-0.1422,  0.1422])\n"
     ]
    }
   ],
   "source": [
    "# 각 레이어의 가중치에 2를 곱함\n",
    "for param in model.parameters():\n",
    "    param.data = param.data * 2\n",
    "\n",
    "ce_gradient = torch.autograd.grad(ce_loss, model.parameters(), retain_graph=True)\n",
    "for grad_param in ce_gradient:\n",
    "    print(grad_param)"
   ]
  },
  {
   "cell_type": "markdown",
   "id": "8a3effb1",
   "metadata": {},
   "source": [
    "# 5. 각 parameter 별로 3을 더해준다"
   ]
  },
  {
   "cell_type": "code",
   "execution_count": 66,
   "id": "748e11fe",
   "metadata": {},
   "outputs": [
    {
     "name": "stdout",
     "output_type": "stream",
     "text": [
      "Cross Entropy Loss Gradient:\n",
      "tensor([[-0.0211, -0.0394],\n",
      "        [-0.1007, -0.1877]])\n",
      "tensor([-0.0210, -0.1000])\n",
      "tensor([[-0.0912,  0.1069],\n",
      "        [ 0.0912, -0.1069]])\n",
      "tensor([-0.1422,  0.1422])\n"
     ]
    }
   ],
   "source": [
    "# Gradient 확인\n",
    "print(\"Cross Entropy Loss Gradient:\")\n",
    "ce_gradient = torch.autograd.grad(ce_loss, model.parameters(), retain_graph=True)\n",
    "for grad_param in ce_gradient:\n",
    "    print(grad_param)"
   ]
  },
  {
   "cell_type": "code",
   "execution_count": 67,
   "id": "17e6215f",
   "metadata": {},
   "outputs": [
    {
     "name": "stdout",
     "output_type": "stream",
     "text": [
      "Cross Entropy Loss Gradient:\n",
      "tensor([[2.9789, 2.9606],\n",
      "        [2.8993, 2.8123]])\n",
      "tensor([2.9790, 2.9000])\n",
      "tensor([[2.9088, 3.1069],\n",
      "        [3.0912, 2.8931]])\n",
      "tensor([2.8578, 3.1422])\n"
     ]
    }
   ],
   "source": [
    "# Gradient 확인\n",
    "print(\"Cross Entropy Loss Gradient:\")\n",
    "ce_gradient = torch.autograd.grad(ce_loss, model.parameters(), retain_graph=True)\n",
    "for grad_param in ce_gradient:\n",
    "    print(torch.tensor(3) + grad_param)"
   ]
  }
 ],
 "metadata": {
  "kernelspec": {
   "display_name": "Python 3 (ipykernel)",
   "language": "python",
   "name": "python3"
  },
  "language_info": {
   "codemirror_mode": {
    "name": "ipython",
    "version": 3
   },
   "file_extension": ".py",
   "mimetype": "text/x-python",
   "name": "python",
   "nbconvert_exporter": "python",
   "pygments_lexer": "ipython3",
   "version": "3.7.10"
  }
 },
 "nbformat": 4,
 "nbformat_minor": 5
}
