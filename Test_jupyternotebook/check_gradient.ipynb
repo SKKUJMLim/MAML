{
 "cells": [
  {
   "cell_type": "markdown",
   "id": "b209e912",
   "metadata": {},
   "source": [
    "# (목적)Gradient를 확인한다\n",
    "## 전체 Gradient에 3을 곱한것과 parameter 별로 gradient에 3을 곱한 것이 차이가 나는지 확인"
   ]
  },
  {
   "cell_type": "code",
   "execution_count": 1,
   "id": "3d4115e5",
   "metadata": {},
   "outputs": [
    {
     "name": "stdout",
     "output_type": "stream",
     "text": [
      "Cross Entropy Loss Gradient:\n",
      "tensor([[ 0.0557, -0.0430],\n",
      "        [-0.1193,  0.0920]])\n",
      "tensor([-0.0010,  0.0022])\n",
      "tensor([[-0.0689,  0.1304],\n",
      "        [ 0.0689, -0.1304]])\n",
      "tensor([ 0.0022, -0.0022])\n"
     ]
    }
   ],
   "source": [
    "import torch\n",
    "import torch.nn as nn\n",
    "\n",
    "import torch.nn.functional as F\n",
    "\n",
    "# 예제 데이터 생성\n",
    "X = torch.randn(100, 2)\n",
    "y = torch.randint(0, 2, (100,))\n",
    "\n",
    "# 모델 정의\n",
    "class ClassificationModel(nn.Module):\n",
    "    def __init__(self):\n",
    "        super(ClassificationModel, self).__init__()\n",
    "        self.fc1 = nn.Linear(2, 2)\n",
    "        self.fc2 = nn.Linear(2, 2)\n",
    "    \n",
    "    def forward(self, x):\n",
    "        x = self.fc1(x)\n",
    "        x = self.fc2(x)\n",
    "        return x\n",
    "\n",
    "model = ClassificationModel()\n",
    "\n",
    "# Cross Entropy Loss와 KL Divergence Loss 정의\n",
    "cross_entropy_loss = nn.CrossEntropyLoss()\n",
    "kl_divergence_loss = nn.KLDivLoss(reduction='batchmean')\n",
    "\n",
    "# Forward Pass\n",
    "outputs = model(X)\n",
    "\n",
    "# Cross Entropy Loss 계산\n",
    "ce_loss = F.cross_entropy(outputs, y)\n",
    "\n",
    "# KL Divergence Loss 계산\n",
    "p = torch.tensor([0.1, 0.2])  # 예시 분포\n",
    "kl_loss = kl_divergence_loss(torch.log(outputs), p)\n",
    "# kl_loss = ce_loss\n",
    "\n",
    "# Gradient 계산 (torch.autograd.grad 사용)\n",
    "ce_gradient = torch.autograd.grad(ce_loss, model.parameters(), retain_graph=True)\n",
    "kl_gradient = torch.autograd.grad(kl_loss, model.parameters(), retain_graph=True)\n",
    "\n",
    "# Gradient 확인\n",
    "print(\"Cross Entropy Loss Gradient:\")\n",
    "for grad_param in ce_gradient:\n",
    "    print(grad_param)\n",
    "\n",
    "# print(\"\\nKL Divergence Loss Gradient:\")\n",
    "# for grad_param in kl_gradient:\n",
    "#     print(grad_param)"
   ]
  },
  {
   "cell_type": "code",
   "execution_count": 2,
   "id": "6dd2a023",
   "metadata": {},
   "outputs": [
    {
     "name": "stdout",
     "output_type": "stream",
     "text": [
      "Cross Entropy Loss Gradient:\n",
      "tensor([[ 0.1115, -0.0859],\n",
      "        [-0.2387,  0.1840]])\n",
      "tensor([-0.0020,  0.0043])\n",
      "tensor([[-0.1377,  0.2607],\n",
      "        [ 0.1377, -0.2607]])\n",
      "tensor([ 0.0044, -0.0044])\n"
     ]
    }
   ],
   "source": [
    "ce_loss *= 2\n",
    "ce_gradient = torch.autograd.grad(ce_loss, model.parameters(), retain_graph=True)\n",
    "\n",
    "# Gradient 확인\n",
    "print(\"Cross Entropy Loss Gradient:\")\n",
    "for grad_param in ce_gradient:\n",
    "    print(grad_param)"
   ]
  },
  {
   "cell_type": "code",
   "execution_count": 3,
   "id": "3bb44854",
   "metadata": {},
   "outputs": [
    {
     "data": {
      "text/plain": [
       "tensor(nan, grad_fn=<DivBackward0>)"
      ]
     },
     "execution_count": 3,
     "metadata": {},
     "output_type": "execute_result"
    }
   ],
   "source": [
    "kl_loss"
   ]
  },
  {
   "cell_type": "code",
   "execution_count": 4,
   "id": "5698603e",
   "metadata": {},
   "outputs": [
    {
     "name": "stdout",
     "output_type": "stream",
     "text": [
      "(tensor([[-0.2446,  0.1243],\n",
      "        [ 0.5039, -0.1083]]), tensor([-0.8359,  1.1386]), tensor([[ 0.2636, -0.2024],\n",
      "        [-1.3605,  0.4303]]), tensor([ 0.2386, -1.7379]))\n"
     ]
    }
   ],
   "source": [
    "total_loss = 1 * ce_loss +  2* kl_loss\n",
    "total_loss\n",
    "total_gradient = torch.autograd.grad(total_loss, model.parameters(), retain_graph=True)\n",
    "print(total_gradient)"
   ]
  },
  {
   "cell_type": "code",
   "execution_count": 5,
   "id": "42595cdd",
   "metadata": {},
   "outputs": [
    {
     "name": "stdout",
     "output_type": "stream",
     "text": [
      "tensor([[-0.2446,  0.1243],\n",
      "        [ 0.5039, -0.1083]])\n",
      "tensor([-0.8359,  1.1386])\n",
      "tensor([[ 0.2636, -0.2024],\n",
      "        [-1.3605,  0.4303]])\n",
      "tensor([ 0.2386, -1.7379])\n"
     ]
    }
   ],
   "source": [
    "names_grads_copy = {}\n",
    "\n",
    "for param_name, ce_grad, kl_grad in zip(model.parameters(), ce_gradient, kl_gradient):\n",
    "    \n",
    "    #kl_grad = None\n",
    "    \n",
    "    if not kl_grad == None:\n",
    "        names_grads_copy[param_name] = torch.tensor(1) * ce_grad + torch.tensor(2) *  kl_grad\n",
    "    else:\n",
    "        names_grads_copy[param_name] = torch.tensor(1) * ce_grad \n",
    "    \n",
    "for key, value in names_grads_copy.items():\n",
    "    print(value)"
   ]
  },
  {
   "cell_type": "markdown",
   "id": "9fc7b737",
   "metadata": {},
   "source": [
    "## 1. Gradient를 추가적으로 구해도 retain_graph=True를 설정하면, 값이 변하지 않는다"
   ]
  },
  {
   "cell_type": "code",
   "execution_count": 6,
   "id": "77c1fe23",
   "metadata": {},
   "outputs": [
    {
     "name": "stdout",
     "output_type": "stream",
     "text": [
      "tensor([[ 0.1115, -0.0859],\n",
      "        [-0.2387,  0.1840]])\n",
      "tensor([-0.0020,  0.0043])\n",
      "tensor([[-0.1377,  0.2607],\n",
      "        [ 0.1377, -0.2607]])\n",
      "tensor([ 0.0044, -0.0044])\n"
     ]
    }
   ],
   "source": [
    "ce_gradient = torch.autograd.grad(ce_loss, model.parameters(), retain_graph=True)\n",
    "for grad_param in ce_gradient:\n",
    "    print(grad_param)"
   ]
  },
  {
   "cell_type": "markdown",
   "id": "8fb38c70",
   "metadata": {},
   "source": [
    "# 2. 전체 gradient에 3을 곱한다\n",
    "## 1) 안된다"
   ]
  },
  {
   "cell_type": "code",
   "execution_count": 7,
   "id": "3bdede2c",
   "metadata": {},
   "outputs": [
    {
     "name": "stdout",
     "output_type": "stream",
     "text": [
      "tensor([[ 0.1115, -0.0859],\n",
      "        [-0.2387,  0.1840]])\n",
      "tensor([-0.0020,  0.0043])\n",
      "tensor([[-0.1377,  0.2607],\n",
      "        [ 0.1377, -0.2607]])\n",
      "tensor([ 0.0044, -0.0044])\n",
      "tensor([[ 0.1115, -0.0859],\n",
      "        [-0.2387,  0.1840]])\n",
      "tensor([-0.0020,  0.0043])\n",
      "tensor([[-0.1377,  0.2607],\n",
      "        [ 0.1377, -0.2607]])\n",
      "tensor([ 0.0044, -0.0044])\n",
      "tensor([[ 0.1115, -0.0859],\n",
      "        [-0.2387,  0.1840]])\n",
      "tensor([-0.0020,  0.0043])\n",
      "tensor([[-0.1377,  0.2607],\n",
      "        [ 0.1377, -0.2607]])\n",
      "tensor([ 0.0044, -0.0044])\n"
     ]
    }
   ],
   "source": [
    "ce_gradient =  torch.tensor(3) * torch.autograd.grad(ce_loss, model.parameters(), retain_graph=True)\n",
    "for grad_param in ce_gradient:\n",
    "    print(grad_param)"
   ]
  },
  {
   "cell_type": "markdown",
   "id": "f48521e1",
   "metadata": {},
   "source": [
    "## 2) 덧셈 조차 하면 안된다"
   ]
  },
  {
   "cell_type": "code",
   "execution_count": 8,
   "id": "31ef3c09",
   "metadata": {},
   "outputs": [
    {
     "data": {
      "text/plain": [
       "(tensor([[ 0.1115, -0.0859],\n",
       "         [-0.2387,  0.1840]]),\n",
       " tensor([-0.0020,  0.0043]),\n",
       " tensor([[-0.1377,  0.2607],\n",
       "         [ 0.1377, -0.2607]]),\n",
       " tensor([ 0.0044, -0.0044]),\n",
       " tensor([[ 0.1115, -0.0859],\n",
       "         [-0.2387,  0.1840]]),\n",
       " tensor([-0.0020,  0.0043]),\n",
       " tensor([[-0.1377,  0.2607],\n",
       "         [ 0.1377, -0.2607]]),\n",
       " tensor([ 0.0044, -0.0044]),\n",
       " tensor([[ 0.1115, -0.0859],\n",
       "         [-0.2387,  0.1840]]),\n",
       " tensor([-0.0020,  0.0043]),\n",
       " tensor([[-0.1377,  0.2607],\n",
       "         [ 0.1377, -0.2607]]),\n",
       " tensor([ 0.0044, -0.0044]),\n",
       " tensor([[-0.1780,  0.1051],\n",
       "         [ 0.3713, -0.1461]]),\n",
       " tensor([-0.4169,  0.5672]),\n",
       " tensor([[ 0.2006, -0.2316],\n",
       "         [-0.7491,  0.3455]]),\n",
       " tensor([ 0.1171, -0.8668]))"
      ]
     },
     "execution_count": 8,
     "metadata": {},
     "output_type": "execute_result"
    }
   ],
   "source": [
    "total_gradient = ce_gradient + kl_gradient\n",
    "total_gradient"
   ]
  },
  {
   "cell_type": "markdown",
   "id": "98262982",
   "metadata": {},
   "source": [
    "## 3) loss에 3을 곱해줘야 내가 원하는 값을 얻을 수 있다"
   ]
  },
  {
   "cell_type": "code",
   "execution_count": 9,
   "id": "a85ef497",
   "metadata": {},
   "outputs": [
    {
     "name": "stdout",
     "output_type": "stream",
     "text": [
      "tensor([[ 0.3345, -0.2578],\n",
      "        [-0.7161,  0.5520]])\n",
      "tensor([-0.0061,  0.0130])\n",
      "tensor([[-0.4132,  0.7822],\n",
      "        [ 0.4132, -0.7822]])\n",
      "tensor([ 0.0132, -0.0132])\n"
     ]
    }
   ],
   "source": [
    "ce_gradient =  torch.autograd.grad(torch.tensor(3) * ce_loss, model.parameters(), retain_graph=True)\n",
    "for grad_param in ce_gradient:\n",
    "    print(grad_param)"
   ]
  },
  {
   "cell_type": "markdown",
   "id": "3f6815cd",
   "metadata": {},
   "source": [
    "# 3. 각 parameter 별로 3을 곱해준다"
   ]
  },
  {
   "cell_type": "code",
   "execution_count": 10,
   "id": "5dab046a",
   "metadata": {},
   "outputs": [
    {
     "name": "stdout",
     "output_type": "stream",
     "text": [
      "Cross Entropy Loss Gradient:\n",
      "tensor([[ 0.3345, -0.2578],\n",
      "        [-0.7161,  0.5520]])\n",
      "tensor([-0.0061,  0.0130])\n",
      "tensor([[-0.4132,  0.7822],\n",
      "        [ 0.4132, -0.7822]])\n",
      "tensor([ 0.0132, -0.0132])\n"
     ]
    }
   ],
   "source": [
    "# Gradient 확인\n",
    "print(\"Cross Entropy Loss Gradient:\")\n",
    "ce_gradient = torch.autograd.grad(ce_loss, model.parameters(), retain_graph=True)\n",
    "for grad_param in ce_gradient:\n",
    "    print(torch.tensor(3) * grad_param)"
   ]
  },
  {
   "cell_type": "markdown",
   "id": "096327dc",
   "metadata": {},
   "source": [
    "## 4. weight에 2를 곱하고 gradient를 구하면 값이 달라진다"
   ]
  },
  {
   "cell_type": "code",
   "execution_count": 21,
   "id": "fbc6b756",
   "metadata": {},
   "outputs": [
    {
     "name": "stdout",
     "output_type": "stream",
     "text": [
      "tensor([[ 0.1115, -0.0859],\n",
      "        [-0.2387,  0.1840]])\n",
      "tensor([-0.0020,  0.0043])\n",
      "tensor([[-0.1377,  0.2607],\n",
      "        [ 0.1377, -0.2607]])\n",
      "tensor([ 0.0044, -0.0044])\n"
     ]
    }
   ],
   "source": [
    "# 각 레이어의 가중치에 2를 곱함\n",
    "for param in model.parameters():\n",
    "    param.data = param.data * 2\n",
    "\n",
    "ce_gradient = torch.autograd.grad(ce_loss, model.parameters(), retain_graph=True)\n",
    "for grad_param in ce_gradient:\n",
    "    print(grad_param)"
   ]
  },
  {
   "cell_type": "code",
   "execution_count": 24,
   "id": "bea29473",
   "metadata": {},
   "outputs": [
    {
     "ename": "RuntimeError",
     "evalue": "One of the differentiated Tensors appears to not have been used in the graph. Set allow_unused=True if this is the desired behavior.",
     "output_type": "error",
     "traceback": [
      "\u001b[1;31m---------------------------------------------------------------------------\u001b[0m",
      "\u001b[1;31mRuntimeError\u001b[0m                              Traceback (most recent call last)",
      "\u001b[1;32m~\\AppData\\Local\\Temp\\ipykernel_29376\\3482318061.py\u001b[0m in \u001b[0;36m<module>\u001b[1;34m\u001b[0m\n\u001b[0;32m      1\u001b[0m \u001b[0mce_loss\u001b[0m \u001b[1;33m=\u001b[0m \u001b[0mtorch\u001b[0m\u001b[1;33m.\u001b[0m\u001b[0mtensor\u001b[0m\u001b[1;33m(\u001b[0m\u001b[1;36m0.1\u001b[0m\u001b[1;33m,\u001b[0m \u001b[0mrequires_grad\u001b[0m\u001b[1;33m=\u001b[0m\u001b[1;32mTrue\u001b[0m\u001b[1;33m)\u001b[0m\u001b[1;33m\u001b[0m\u001b[1;33m\u001b[0m\u001b[0m\n\u001b[1;32m----> 2\u001b[1;33m \u001b[0mce_gradient\u001b[0m \u001b[1;33m=\u001b[0m \u001b[0mtorch\u001b[0m\u001b[1;33m.\u001b[0m\u001b[0mautograd\u001b[0m\u001b[1;33m.\u001b[0m\u001b[0mgrad\u001b[0m\u001b[1;33m(\u001b[0m\u001b[0mce_loss\u001b[0m\u001b[1;33m,\u001b[0m \u001b[0mmodel\u001b[0m\u001b[1;33m.\u001b[0m\u001b[0mparameters\u001b[0m\u001b[1;33m(\u001b[0m\u001b[1;33m)\u001b[0m\u001b[1;33m,\u001b[0m \u001b[0mretain_graph\u001b[0m\u001b[1;33m=\u001b[0m\u001b[1;32mTrue\u001b[0m\u001b[1;33m)\u001b[0m\u001b[1;33m\u001b[0m\u001b[1;33m\u001b[0m\u001b[0m\n\u001b[0m\u001b[0;32m      3\u001b[0m \u001b[1;33m\u001b[0m\u001b[0m\n\u001b[0;32m      4\u001b[0m \u001b[0mprint\u001b[0m\u001b[1;33m(\u001b[0m\u001b[0mce_gradient\u001b[0m\u001b[1;33m)\u001b[0m\u001b[1;33m\u001b[0m\u001b[1;33m\u001b[0m\u001b[0m\n\u001b[0;32m      5\u001b[0m \u001b[1;33m\u001b[0m\u001b[0m\n",
      "\u001b[1;32m~\\anaconda3\\envs\\maml\\lib\\site-packages\\torch\\autograd\\__init__.py\u001b[0m in \u001b[0;36mgrad\u001b[1;34m(outputs, inputs, grad_outputs, retain_graph, create_graph, only_inputs, allow_unused, is_grads_batched)\u001b[0m\n\u001b[0;32m    300\u001b[0m         return Variable._execution_engine.run_backward(  # Calls into the C++ engine to run the backward pass\n\u001b[0;32m    301\u001b[0m             \u001b[0mt_outputs\u001b[0m\u001b[1;33m,\u001b[0m \u001b[0mgrad_outputs_\u001b[0m\u001b[1;33m,\u001b[0m \u001b[0mretain_graph\u001b[0m\u001b[1;33m,\u001b[0m \u001b[0mcreate_graph\u001b[0m\u001b[1;33m,\u001b[0m \u001b[0mt_inputs\u001b[0m\u001b[1;33m,\u001b[0m\u001b[1;33m\u001b[0m\u001b[1;33m\u001b[0m\u001b[0m\n\u001b[1;32m--> 302\u001b[1;33m             allow_unused, accumulate_grad=False)  # Calls into the C++ engine to run the backward pass\n\u001b[0m\u001b[0;32m    303\u001b[0m \u001b[1;33m\u001b[0m\u001b[0m\n\u001b[0;32m    304\u001b[0m \u001b[1;33m\u001b[0m\u001b[0m\n",
      "\u001b[1;31mRuntimeError\u001b[0m: One of the differentiated Tensors appears to not have been used in the graph. Set allow_unused=True if this is the desired behavior."
     ]
    }
   ],
   "source": [
    "ce_loss = torch.tensor(0.1, requires_grad=True)\n",
    "ce_gradient = torch.autograd.grad(ce_loss, model.parameters(), retain_graph=True)\n",
    "\n",
    "print(ce_gradient)\n",
    "\n",
    "for grad_param in ce_gradient:\n",
    "    print(grad_param)"
   ]
  }
 ],
 "metadata": {
  "kernelspec": {
   "display_name": "Python 3 (ipykernel)",
   "language": "python",
   "name": "python3"
  },
  "language_info": {
   "codemirror_mode": {
    "name": "ipython",
    "version": 3
   },
   "file_extension": ".py",
   "mimetype": "text/x-python",
   "name": "python",
   "nbconvert_exporter": "python",
   "pygments_lexer": "ipython3",
   "version": "3.7.16"
  }
 },
 "nbformat": 4,
 "nbformat_minor": 5
}
