{
 "cells": [
  {
   "cell_type": "markdown",
   "id": "b209e912",
   "metadata": {},
   "source": [
    "# (목적)Gradient를 확인한다\n",
    "## 전체 Gradient에 3을 곱한것과 parameter 별로 gradient에 3을 곱한 것이 차이가 나는지 확인"
   ]
  },
  {
   "cell_type": "code",
   "execution_count": 16,
   "id": "3d4115e5",
   "metadata": {},
   "outputs": [
    {
     "name": "stdout",
     "output_type": "stream",
     "text": [
      "Cross Entropy Loss Gradient:\n",
      "tensor([[ 0.0327, -0.0238],\n",
      "        [-0.0174,  0.0127]])\n",
      "tensor([-0.0167,  0.0089])\n",
      "tensor([[ 0.0453, -0.0398],\n",
      "        [-0.0453,  0.0398]])\n",
      "tensor([-0.0326,  0.0326])\n"
     ]
    }
   ],
   "source": [
    "import torch\n",
    "import torch.nn as nn\n",
    "\n",
    "import torch.nn.functional as F\n",
    "\n",
    "# 예제 데이터 생성\n",
    "X = torch.randn(100, 2)\n",
    "y = torch.randint(0, 2, (100,))\n",
    "\n",
    "# 모델 정의\n",
    "class ClassificationModel(nn.Module):\n",
    "    def __init__(self):\n",
    "        super(ClassificationModel, self).__init__()\n",
    "        self.fc1 = nn.Linear(2, 2)\n",
    "        self.fc2 = nn.Linear(2, 2)\n",
    "    \n",
    "    def forward(self, x):\n",
    "        x = self.fc1(x)\n",
    "        x = self.fc2(x)\n",
    "        return x\n",
    "\n",
    "model = ClassificationModel() # without gradient modifier\n",
    "model_with_modifier = ClassificationModel()\n",
    "\n",
    "# Cross Entropy Loss와 KL Divergence Loss 정의\n",
    "cross_entropy_loss = nn.CrossEntropyLoss()\n",
    "kl_divergence_loss = nn.KLDivLoss(reduction='batchmean')\n",
    "\n",
    "# Forward Pass\n",
    "outputs = model(X)\n",
    "output_with_modifier = model_with_modifier(X)\n",
    "\n",
    "# Cross Entropy Loss 계산\n",
    "ce_loss = F.cross_entropy(outputs, y)\n",
    "\n",
    "# KL Divergence Loss 계산\n",
    "p = torch.tensor([0.1, 0.2])  # 예시 분포\n",
    "kl_loss = kl_divergence_loss(torch.log(outputs), p)\n",
    "# kl_loss = ce_loss\n",
    "\n",
    "# Gradient 계산 (torch.autograd.grad 사용)\n",
    "ce_gradient = torch.autograd.grad(ce_loss, model.parameters(), retain_graph=True)\n",
    "kl_gradient = torch.autograd.grad(kl_loss, model.parameters(), retain_graph=True)\n",
    "\n",
    "# Gradient 확인\n",
    "print(\"Cross Entropy Loss Gradient:\")\n",
    "for grad_param in ce_gradient:\n",
    "    print(grad_param)\n",
    "\n",
    "# print(\"\\nKL Divergence Loss Gradient:\")\n",
    "# for grad_param in kl_gradient:\n",
    "#     print(grad_param)"
   ]
  },
  {
   "cell_type": "code",
   "execution_count": 17,
   "id": "6dd2a023",
   "metadata": {},
   "outputs": [
    {
     "name": "stdout",
     "output_type": "stream",
     "text": [
      "Cross Entropy Loss Gradient:\n",
      "tensor([[ 0.0655, -0.0477],\n",
      "        [-0.0348,  0.0253]])\n",
      "tensor([-0.0334,  0.0178])\n",
      "tensor([[ 0.0906, -0.0796],\n",
      "        [-0.0906,  0.0796]])\n",
      "tensor([-0.0653,  0.0653])\n"
     ]
    }
   ],
   "source": [
    "ce_loss *= 2\n",
    "ce_gradient = torch.autograd.grad(ce_loss, model.parameters(), retain_graph=True)\n",
    "\n",
    "# Gradient 확인\n",
    "print(\"Cross Entropy Loss Gradient:\")\n",
    "for grad_param in ce_gradient:\n",
    "    print(grad_param)"
   ]
  },
  {
   "cell_type": "code",
   "execution_count": 18,
   "id": "3bb44854",
   "metadata": {},
   "outputs": [
    {
     "data": {
      "text/plain": [
       "tensor(nan, grad_fn=<DivBackward0>)"
      ]
     },
     "execution_count": 18,
     "metadata": {},
     "output_type": "execute_result"
    }
   ],
   "source": [
    "kl_loss"
   ]
  },
  {
   "cell_type": "code",
   "execution_count": 19,
   "id": "5698603e",
   "metadata": {},
   "outputs": [
    {
     "name": "stdout",
     "output_type": "stream",
     "text": [
      "(tensor([[-1.7330, -2.9492],\n",
      "        [-4.5699, -5.9226]]), tensor([-1.3262, -4.2677]), tensor([[ 0.0880, -0.6988],\n",
      "        [-0.8494, -0.1448]]), tensor([-7.1931, -1.8057]))\n"
     ]
    }
   ],
   "source": [
    "total_loss = 1 * ce_loss +  2* kl_loss\n",
    "total_loss\n",
    "total_gradient = torch.autograd.grad(total_loss, model.parameters(), retain_graph=True)\n",
    "print(total_gradient)"
   ]
  },
  {
   "cell_type": "code",
   "execution_count": 20,
   "id": "42595cdd",
   "metadata": {},
   "outputs": [
    {
     "name": "stdout",
     "output_type": "stream",
     "text": [
      "tensor([[-1.7330, -2.9492],\n",
      "        [-4.5699, -5.9226]])\n",
      "tensor([-1.3262, -4.2677])\n",
      "tensor([[ 0.0880, -0.6988],\n",
      "        [-0.8494, -0.1448]])\n",
      "tensor([-7.1931, -1.8057])\n"
     ]
    }
   ],
   "source": [
    "names_grads_copy = {}\n",
    "\n",
    "for param_name, ce_grad, kl_grad in zip(model.parameters(), ce_gradient, kl_gradient):\n",
    "    \n",
    "    #kl_grad = None\n",
    "    \n",
    "    if not kl_grad == None:\n",
    "        names_grads_copy[param_name] = torch.tensor(1) * ce_grad + torch.tensor(2) *  kl_grad\n",
    "    else:\n",
    "        names_grads_copy[param_name] = torch.tensor(1) * ce_grad \n",
    "    \n",
    "for key, value in names_grads_copy.items():\n",
    "    print(value)"
   ]
  },
  {
   "cell_type": "markdown",
   "id": "9fc7b737",
   "metadata": {},
   "source": [
    "## 1. Gradient를 추가적으로 구해도 retain_graph=True를 설정하면, 값이 변하지 않는다"
   ]
  },
  {
   "cell_type": "code",
   "execution_count": 21,
   "id": "77c1fe23",
   "metadata": {},
   "outputs": [
    {
     "name": "stdout",
     "output_type": "stream",
     "text": [
      "tensor([[ 0.0655, -0.0477],\n",
      "        [-0.0348,  0.0253]])\n",
      "tensor([-0.0334,  0.0178])\n",
      "tensor([[ 0.0906, -0.0796],\n",
      "        [-0.0906,  0.0796]])\n",
      "tensor([-0.0653,  0.0653])\n"
     ]
    }
   ],
   "source": [
    "ce_gradient = torch.autograd.grad(ce_loss, model.parameters(), retain_graph=True)\n",
    "for grad_param in ce_gradient:\n",
    "    print(grad_param)"
   ]
  },
  {
   "cell_type": "markdown",
   "id": "8fb38c70",
   "metadata": {},
   "source": [
    "# 2. 전체 gradient에 3을 곱한다\n",
    "## 1) 안된다"
   ]
  },
  {
   "cell_type": "code",
   "execution_count": 22,
   "id": "3bdede2c",
   "metadata": {},
   "outputs": [
    {
     "name": "stdout",
     "output_type": "stream",
     "text": [
      "tensor([[ 0.0655, -0.0477],\n",
      "        [-0.0348,  0.0253]])\n",
      "tensor([-0.0334,  0.0178])\n",
      "tensor([[ 0.0906, -0.0796],\n",
      "        [-0.0906,  0.0796]])\n",
      "tensor([-0.0653,  0.0653])\n",
      "tensor([[ 0.0655, -0.0477],\n",
      "        [-0.0348,  0.0253]])\n",
      "tensor([-0.0334,  0.0178])\n",
      "tensor([[ 0.0906, -0.0796],\n",
      "        [-0.0906,  0.0796]])\n",
      "tensor([-0.0653,  0.0653])\n",
      "tensor([[ 0.0655, -0.0477],\n",
      "        [-0.0348,  0.0253]])\n",
      "tensor([-0.0334,  0.0178])\n",
      "tensor([[ 0.0906, -0.0796],\n",
      "        [-0.0906,  0.0796]])\n",
      "tensor([-0.0653,  0.0653])\n"
     ]
    }
   ],
   "source": [
    "ce_gradient =  torch.tensor(3) * torch.autograd.grad(ce_loss, model.parameters(), retain_graph=True)\n",
    "for grad_param in ce_gradient:\n",
    "    print(grad_param)"
   ]
  },
  {
   "cell_type": "markdown",
   "id": "f48521e1",
   "metadata": {},
   "source": [
    "## 2) 덧셈 조차 하면 안된다"
   ]
  },
  {
   "cell_type": "code",
   "execution_count": 23,
   "id": "31ef3c09",
   "metadata": {},
   "outputs": [
    {
     "data": {
      "text/plain": [
       "(tensor([[ 0.0655, -0.0477],\n",
       "         [-0.0348,  0.0253]]),\n",
       " tensor([-0.0334,  0.0178]),\n",
       " tensor([[ 0.0906, -0.0796],\n",
       "         [-0.0906,  0.0796]]),\n",
       " tensor([-0.0653,  0.0653]),\n",
       " tensor([[ 0.0655, -0.0477],\n",
       "         [-0.0348,  0.0253]]),\n",
       " tensor([-0.0334,  0.0178]),\n",
       " tensor([[ 0.0906, -0.0796],\n",
       "         [-0.0906,  0.0796]]),\n",
       " tensor([-0.0653,  0.0653]),\n",
       " tensor([[ 0.0655, -0.0477],\n",
       "         [-0.0348,  0.0253]]),\n",
       " tensor([-0.0334,  0.0178]),\n",
       " tensor([[ 0.0906, -0.0796],\n",
       "         [-0.0906,  0.0796]]),\n",
       " tensor([-0.0653,  0.0653]),\n",
       " tensor([[-0.8993, -1.4507],\n",
       "         [-2.2676, -2.9740]]),\n",
       " tensor([-0.6464, -2.1427]),\n",
       " tensor([[-0.0013, -0.3096],\n",
       "         [-0.3794, -0.1122]]),\n",
       " tensor([-3.5639, -0.9355]))"
      ]
     },
     "execution_count": 23,
     "metadata": {},
     "output_type": "execute_result"
    }
   ],
   "source": [
    "total_gradient = ce_gradient + kl_gradient\n",
    "total_gradient"
   ]
  },
  {
   "cell_type": "markdown",
   "id": "98262982",
   "metadata": {},
   "source": [
    "## 3) loss에 3을 곱해줘야 내가 원하는 값을 얻을 수 있다"
   ]
  },
  {
   "cell_type": "code",
   "execution_count": 24,
   "id": "a85ef497",
   "metadata": {},
   "outputs": [
    {
     "name": "stdout",
     "output_type": "stream",
     "text": [
      "tensor([[ 0.1964, -0.1430],\n",
      "        [-0.1044,  0.0760]])\n",
      "tensor([-0.1002,  0.0533])\n",
      "tensor([[ 0.2717, -0.2389],\n",
      "        [-0.2717,  0.2389]])\n",
      "tensor([-0.1958,  0.1958])\n"
     ]
    }
   ],
   "source": [
    "ce_gradient =  torch.autograd.grad(torch.tensor(3) * ce_loss, model.parameters(), retain_graph=True)\n",
    "for grad_param in ce_gradient:\n",
    "    print(grad_param)"
   ]
  },
  {
   "cell_type": "markdown",
   "id": "3f6815cd",
   "metadata": {},
   "source": [
    "# 3. 각 parameter 별로 3을 곱해준다"
   ]
  },
  {
   "cell_type": "code",
   "execution_count": 25,
   "id": "5dab046a",
   "metadata": {},
   "outputs": [
    {
     "name": "stdout",
     "output_type": "stream",
     "text": [
      "Cross Entropy Loss Gradient:\n",
      "tensor([[ 0.1964, -0.1430],\n",
      "        [-0.1044,  0.0760]])\n",
      "tensor([-0.1002,  0.0533])\n",
      "tensor([[ 0.2717, -0.2389],\n",
      "        [-0.2717,  0.2389]])\n",
      "tensor([-0.1958,  0.1958])\n"
     ]
    }
   ],
   "source": [
    "# Gradient 확인\n",
    "print(\"Cross Entropy Loss Gradient:\")\n",
    "ce_gradient = torch.autograd.grad(ce_loss, model.parameters(), retain_graph=True)\n",
    "for grad_param in ce_gradient:\n",
    "    print(torch.tensor(3) * grad_param)"
   ]
  },
  {
   "cell_type": "markdown",
   "id": "096327dc",
   "metadata": {},
   "source": [
    "## 4. weight에 2를 곱하고 gradient를 구하면 값이 달라진다"
   ]
  },
  {
   "cell_type": "code",
   "execution_count": 26,
   "id": "fbc6b756",
   "metadata": {},
   "outputs": [
    {
     "name": "stdout",
     "output_type": "stream",
     "text": [
      "tensor([[ 0.0655, -0.0477],\n",
      "        [-0.0348,  0.0253]])\n",
      "tensor([-0.0334,  0.0178])\n",
      "tensor([[ 0.0906, -0.0796],\n",
      "        [-0.0906,  0.0796]])\n",
      "tensor([-0.0653,  0.0653])\n"
     ]
    }
   ],
   "source": [
    "# 각 레이어의 가중치에 2를 곱함\n",
    "for param in model.parameters():\n",
    "    param.data = param.data * 2\n",
    "\n",
    "ce_gradient = torch.autograd.grad(ce_loss, model.parameters(), retain_graph=True)\n",
    "for grad_param in ce_gradient:\n",
    "    print(grad_param)"
   ]
  },
  {
   "cell_type": "markdown",
   "id": "8a3effb1",
   "metadata": {},
   "source": [
    "# 5. 각 parameter 별로 3을 더해준다"
   ]
  },
  {
   "cell_type": "code",
   "execution_count": 27,
   "id": "748e11fe",
   "metadata": {},
   "outputs": [
    {
     "name": "stdout",
     "output_type": "stream",
     "text": [
      "Cross Entropy Loss Gradient:\n",
      "tensor([[ 0.0655, -0.0477],\n",
      "        [-0.0348,  0.0253]])\n",
      "tensor([-0.0334,  0.0178])\n",
      "tensor([[ 0.0906, -0.0796],\n",
      "        [-0.0906,  0.0796]])\n",
      "tensor([-0.0653,  0.0653])\n"
     ]
    }
   ],
   "source": [
    "# Gradient 확인\n",
    "print(\"Cross Entropy Loss Gradient:\")\n",
    "ce_gradient = torch.autograd.grad(ce_loss, model.parameters(), retain_graph=True)\n",
    "for grad_param in ce_gradient:\n",
    "    print(grad_param)"
   ]
  },
  {
   "cell_type": "code",
   "execution_count": 28,
   "id": "17e6215f",
   "metadata": {},
   "outputs": [
    {
     "name": "stdout",
     "output_type": "stream",
     "text": [
      "Cross Entropy Loss Gradient:\n",
      "tensor([[3.0655, 2.9523],\n",
      "        [2.9652, 3.0253]])\n",
      "tensor([2.9666, 3.0178])\n",
      "tensor([[3.0906, 2.9204],\n",
      "        [2.9094, 3.0796]])\n",
      "tensor([2.9348, 3.0652])\n"
     ]
    }
   ],
   "source": [
    "# Gradient 확인\n",
    "print(\"Cross Entropy Loss Gradient:\")\n",
    "ce_gradient = torch.autograd.grad(ce_loss, model.parameters(), retain_graph=True)\n",
    "for grad_param in ce_gradient:\n",
    "    print(torch.tensor(3) + grad_param)"
   ]
  },
  {
   "cell_type": "markdown",
   "id": "6248c442",
   "metadata": {},
   "source": [
    "## 6. Gradient를 조작했을 떄 뭐가 달라지나?"
   ]
  },
  {
   "cell_type": "code",
   "execution_count": 29,
   "id": "86dcf456",
   "metadata": {},
   "outputs": [
    {
     "name": "stdout",
     "output_type": "stream",
     "text": [
      "Parameter containing:\n",
      "tensor([[ 0.9868, -1.0277],\n",
      "        [-0.7411,  0.2353]], requires_grad=True)\n",
      "Parameter containing:\n",
      "tensor([0.6279, 0.6512], requires_grad=True)\n",
      "Parameter containing:\n",
      "tensor([[ 0.4993,  0.8401],\n",
      "        [-0.5226,  1.3826]], requires_grad=True)\n",
      "Parameter containing:\n",
      "tensor([-0.0163,  0.4733], requires_grad=True)\n"
     ]
    }
   ],
   "source": [
    "learning_rate = 0.01\n",
    "with torch.no_grad():\n",
    "    for param, grad in zip(model.parameters(), ce_gradient):\n",
    "        param -= learning_rate * grad\n",
    "        print(param)"
   ]
  },
  {
   "cell_type": "code",
   "execution_count": 30,
   "id": "eaa93c94",
   "metadata": {},
   "outputs": [],
   "source": [
    "# learning_rate = 0.01\n",
    "# with torch.no_grad():\n",
    "#     for param, grad in zip(model.parameters(), ce_gradient):\n",
    "#         param -= learning_rate * grad\n",
    "#         print(param)"
   ]
  },
  {
   "cell_type": "code",
   "execution_count": null,
   "id": "d47cdf3b",
   "metadata": {},
   "outputs": [],
   "source": []
  }
 ],
 "metadata": {
  "kernelspec": {
   "display_name": "Python 3 (ipykernel)",
   "language": "python",
   "name": "python3"
  },
  "language_info": {
   "codemirror_mode": {
    "name": "ipython",
    "version": 3
   },
   "file_extension": ".py",
   "mimetype": "text/x-python",
   "name": "python",
   "nbconvert_exporter": "python",
   "pygments_lexer": "ipython3",
   "version": "3.7.16"
  }
 },
 "nbformat": 4,
 "nbformat_minor": 5
}
