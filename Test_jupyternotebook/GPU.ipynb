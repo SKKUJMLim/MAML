{
 "cells": [
  {
   "cell_type": "code",
   "execution_count": 20,
   "id": "a99fa4ae",
   "metadata": {},
   "outputs": [],
   "source": [
    "import pandas as pd\n",
    "import matplotlib.pyplot as plt\n",
    "\n",
    "import torch\n",
    "import numpy as np\n",
    "\n",
    "from brokenaxes import brokenaxes\n",
    "\n",
    "import os\n",
    "os.environ['KMP_DUPLICATE_LIB_OK']='True'"
   ]
  },
  {
   "cell_type": "code",
   "execution_count": 21,
   "id": "bece01bc",
   "metadata": {},
   "outputs": [],
   "source": [
    "# CSV 파일에 접근\n",
    "\n",
    "# 특정 행(row_limit)까지만 선택\n",
    "row_limit = 201  # epoch 100\n",
    "\n",
    "maml_info = pd.read_csv('../MAML_5way_5shot/logs/summary_statistics.csv')\n",
    "meta_gna_info = pd.read_csv('../MAML+Arbiter_5way_5shot/logs/summary_statistics.csv')\n",
    "\n",
    "\n",
    "maml_info = maml_info.iloc[:row_limit]\n",
    "meta_gna_info  = meta_gna_info .iloc[:row_limit]"
   ]
  },
  {
   "cell_type": "code",
   "execution_count": 22,
   "id": "f687ecff",
   "metadata": {},
   "outputs": [],
   "source": [
    "maml_epoch_run_time_mean = maml_info['epoch_run_time'].mean()\n",
    "meta_gna_epoch_run_time_mean = meta_gna_info['epoch_run_time'].mean()"
   ]
  },
  {
   "cell_type": "code",
   "execution_count": 23,
   "id": "8a5c8ce4",
   "metadata": {},
   "outputs": [],
   "source": [
    "maml_epoch_run_time_sum = maml_info['epoch_run_time'].sum()\n",
    "meta_gna_epoch_run_time_sum = meta_gna_info['epoch_run_time'].sum()"
   ]
  },
  {
   "cell_type": "code",
   "execution_count": 24,
   "id": "efa264d1",
   "metadata": {},
   "outputs": [
    {
     "name": "stdout",
     "output_type": "stream",
     "text": [
      "MAML Runtime Averate ==  234.99525128364564\n",
      "Meta-GNA Runtime Averate ==  290.7534250688553\n"
     ]
    }
   ],
   "source": [
    "print(\"MAML Runtime Averate == \", maml_epoch_run_time_mean)\n",
    "print(\"Meta-GNA Runtime Averate == \", meta_gna_epoch_run_time_mean)"
   ]
  },
  {
   "cell_type": "code",
   "execution_count": 25,
   "id": "807cb056",
   "metadata": {},
   "outputs": [
    {
     "name": "stdout",
     "output_type": "stream",
     "text": [
      "MAML Runtime sum ==  23499.525128364563\n",
      "Meta-GNA Runtime sum ==  29075.34250688553\n"
     ]
    }
   ],
   "source": [
    "print(\"MAML Runtime sum == \", maml_epoch_run_time_sum)\n",
    "print(\"Meta-GNA Runtime sum == \", meta_gna_epoch_run_time_sum)"
   ]
  }
 ],
 "metadata": {
  "kernelspec": {
   "display_name": "Python 3 (ipykernel)",
   "language": "python",
   "name": "python3"
  },
  "language_info": {
   "codemirror_mode": {
    "name": "ipython",
    "version": 3
   },
   "file_extension": ".py",
   "mimetype": "text/x-python",
   "name": "python",
   "nbconvert_exporter": "python",
   "pygments_lexer": "ipython3",
   "version": "3.7.16"
  }
 },
 "nbformat": 4,
 "nbformat_minor": 5
}
