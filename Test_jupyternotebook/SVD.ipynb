{
 "cells": [
  {
   "cell_type": "code",
   "execution_count": 133,
   "id": "cda16bea",
   "metadata": {},
   "outputs": [
    {
     "name": "stdout",
     "output_type": "stream",
     "text": [
      "The autoreload extension is already loaded. To reload it, use:\n",
      "  %reload_ext autoreload\n"
     ]
    }
   ],
   "source": [
    "%load_ext autoreload\n",
    "%autoreload 2\n",
    "\n",
    "import sys, os\n",
    "\n",
    "module_path = os.path.abspath(os.path.join('..'))\n",
    "if module_path not in sys.path:\n",
    "    sys.path.append(module_path)\n",
    "\n",
    "from meta_neural_network_architectures import VGGReLUNormNetwork, ResNet12\n",
    "from prompters import padding\n",
    "from utils.parser_utils import get_args\n",
    "\n",
    "import easydict\n",
    "\n",
    "import torch\n",
    "import torch.nn as nn\n",
    "import numpy as np\n",
    "\n",
    "import torch.backends.cudnn as cudnn\n",
    "import torchvision.models as models\n",
    "import torchvision.transforms as transforms\n",
    "from torch.utils.data import DataLoader\n",
    "from torchvision.datasets import CIFAR100\n",
    "import torch.nn.functional as F\n",
    "import matplotlib.pyplot as plt\n",
    "import torch.optim as optim\n",
    "\n",
    "from loss import *"
   ]
  },
  {
   "cell_type": "markdown",
   "id": "0d31a6c5",
   "metadata": {},
   "source": [
    "## 1. u, s, v = torch.svd(param, some=False)를 수행할 때, \n",
    "## s는 행렬이 아닌 값의 형태로 나온다. 그러므로 torch.diag로 행렬화를 시켜야한다"
   ]
  },
  {
   "cell_type": "code",
   "execution_count": 134,
   "id": "609950c9",
   "metadata": {},
   "outputs": [
    {
     "name": "stdout",
     "output_type": "stream",
     "text": [
      "원본 행렬:\n",
      "tensor([[0.6536, 0.7572, 0.2157],\n",
      "        [0.0278, 0.0617, 0.9267],\n",
      "        [0.8567, 0.4592, 0.6669]])\n",
      "U 행렬:\n",
      "tensor([[-0.5719,  0.5223, -0.6325],\n",
      "        [-0.3768, -0.8522, -0.3631],\n",
      "        [-0.7287,  0.0307,  0.6842]])\n",
      "특이값(Singular values):\n",
      "tensor([1.6004, 0.8227, 0.2485])\n",
      "V 전치 행렬:\n",
      "tensor([[-0.6302,  0.4180,  0.6543],\n",
      "        [-0.4942,  0.4340, -0.7533],\n",
      "        [-0.5989, -0.7980, -0.0669]])\n"
     ]
    }
   ],
   "source": [
    "random_matrix = torch.rand(3, 3)\n",
    "print(\"원본 행렬:\")\n",
    "print(random_matrix)\n",
    "\n",
    "# 특이값 분해 수행\n",
    "u, s, v = torch.svd(random_matrix)\n",
    "\n",
    "print(\"U 행렬:\")\n",
    "print(u)\n",
    "print(\"특이값(Singular values):\")\n",
    "print(s)\n",
    "print(\"V 전치 행렬:\")\n",
    "print(v)"
   ]
  },
  {
   "cell_type": "markdown",
   "id": "80aa9f03",
   "metadata": {},
   "source": [
    "### SVD(Singular Value Decomposition)는 정확한 복원이 아닌 근사적인 복원이다.. \n",
    "### SVD는 정보 손실이 발생할 수 있는 근사적인 방법이기 때문이므로.."
   ]
  },
  {
   "cell_type": "code",
   "execution_count": 135,
   "id": "d667f97e",
   "metadata": {},
   "outputs": [
    {
     "name": "stdout",
     "output_type": "stream",
     "text": [
      "random_matrix와 restored_matrix가 동일한가요?: False\n",
      "====================\n",
      "원본 행렬:\n",
      "tensor([[0.6536, 0.7572, 0.2157],\n",
      "        [0.0278, 0.0617, 0.9267],\n",
      "        [0.8567, 0.4592, 0.6669]])\n",
      "복원 행렬:\n",
      "tensor([[ 0.4586, -0.0707, -0.9121],\n",
      "        [ 0.7805, -0.4844,  0.1396],\n",
      "        [ 0.6206, -0.6123, -0.7934]])\n",
      "원본 행렬과 복원된 행렬 간의 차이:\n",
      "tensor([[0.1950, 0.8279, 1.1278],\n",
      "        [0.7527, 0.5460, 0.7870],\n",
      "        [0.2361, 1.0714, 1.4603]])\n"
     ]
    }
   ],
   "source": [
    "# 대각 성분에 특이값을 가지는 대각 행렬 S를 대각행렬로 변환\n",
    "S_diag = torch.diag(s)\n",
    "restored_matrix = torch.matmul(torch.matmul(u, S_diag), v)\n",
    "\n",
    "# random_matrix와 restored_matrix가 동일한지 확인\n",
    "are_equal = torch.equal(random_matrix, restored_matrix)\n",
    "print(\"random_matrix와 restored_matrix가 동일한가요?:\", are_equal)\n",
    "\n",
    "print(\"=\"*20)\n",
    "\n",
    "print(\"원본 행렬:\")\n",
    "print(random_matrix)\n",
    "\n",
    "print(\"복원 행렬:\")\n",
    "print(restored_matrix)\n",
    "\n",
    "# 복원된 행렬과 원본 행렬 간의 차이 계산\n",
    "difference = torch.abs(random_matrix - restored_matrix)\n",
    "print(\"원본 행렬과 복원된 행렬 간의 차이:\")\n",
    "print(difference)"
   ]
  },
  {
   "cell_type": "markdown",
   "id": "5748321f",
   "metadata": {},
   "source": [
    "## 2. 3차원 행렬에 대한 SVD"
   ]
  },
  {
   "cell_type": "code",
   "execution_count": 141,
   "id": "d8cdc9ce",
   "metadata": {},
   "outputs": [
    {
     "name": "stdout",
     "output_type": "stream",
     "text": [
      "원본 행렬:\n",
      "tensor([[[0.7391, 0.6721, 0.9166],\n",
      "         [0.4057, 0.8779, 0.2081],\n",
      "         [0.1456, 0.2239, 0.0986]],\n",
      "\n",
      "        [[0.9078, 0.4208, 0.7160],\n",
      "         [0.2967, 0.3532, 0.7350],\n",
      "         [0.4817, 0.6726, 0.2587]]])\n",
      "특이값:\n",
      "tensor([[1.6273, 0.4997, 0.0133],\n",
      "        [1.6523, 0.4307, 0.3205]])\n",
      "특이값을 대각행렬로 변환:\n",
      "tensor([[[1.6273, 0.0000, 0.0000],\n",
      "         [0.0000, 0.4997, 0.0000],\n",
      "         [0.0000, 0.0000, 0.0133]],\n",
      "\n",
      "        [[1.6523, 0.0000, 0.0000],\n",
      "         [0.0000, 0.4307, 0.0000],\n",
      "         [0.0000, 0.0000, 0.3205]]])\n",
      "복원된 원본 행렬:\n",
      "tensor([[[ 0.5038, -0.4153, -1.1882],\n",
      "         [ 0.7400,  0.1343, -0.6427],\n",
      "         [ 0.1804,  0.0094, -0.2201]],\n",
      "\n",
      "        [[ 0.9209, -0.1319,  0.8053],\n",
      "         [ 0.4957, -0.4788,  0.5274],\n",
      "         [ 0.2579, -0.0136,  0.8275]]])\n",
      "원본 행렬과 복원된 행렬 간의 차이:\n",
      "tensor([[[0.2352, 1.0874, 2.1049],\n",
      "         [0.3343, 0.7436, 0.8508],\n",
      "         [0.0348, 0.2145, 0.3187]],\n",
      "\n",
      "        [[0.0130, 0.5528, 0.0893],\n",
      "         [0.1989, 0.8321, 0.2077],\n",
      "         [0.2238, 0.6862, 0.5687]]])\n"
     ]
    }
   ],
   "source": [
    "# 원본 행렬 생성 (3D 텐서, shape: (2, 3, 3))\n",
    "original_matrix = torch.rand(2, 3, 3)\n",
    "print(\"원본 행렬:\")\n",
    "print(original_matrix)\n",
    "\n",
    "# 각 차원에 대해 SVD 수행\n",
    "U, S, Vt = torch.svd(original_matrix)\n",
    "\n",
    "print(\"특이값:\")\n",
    "print(S)\n",
    "\n",
    "# 대각 성분에 특이값을 가지는 대각 행렬로 변환\n",
    "S_diag = torch.zeros(2, 3, 3)  # 대각 행렬 초기화\n",
    "S_diag[:, :3, :3] = torch.diag_embed(S)  # 대각 성분에 특이값 할당\n",
    "\n",
    "print(\"특이값을 대각행렬로 변환:\")\n",
    "print(S_diag)\n",
    "\n",
    "# 원본 행렬 복원\n",
    "restored_matrix = torch.matmul(torch.matmul(U, S_diag), Vt)\n",
    "\n",
    "print(\"복원된 원본 행렬:\")\n",
    "print(restored_matrix)\n",
    "\n",
    "# 복원된 행렬과 원본 행렬 간의 차이 계산\n",
    "difference = torch.abs(original_matrix - restored_matrix)\n",
    "print(\"원본 행렬과 복원된 행렬 간의 차이:\")\n",
    "print(difference)"
   ]
  },
  {
   "cell_type": "markdown",
   "id": "b1b930f6",
   "metadata": {},
   "source": [
    "## 2. 4차원 행렬에 대한 SVD"
   ]
  },
  {
   "cell_type": "code",
   "execution_count": 146,
   "id": "aaec2d5f",
   "metadata": {},
   "outputs": [
    {
     "name": "stdout",
     "output_type": "stream",
     "text": [
      "원본 텐서:\n",
      "torch.Size([48, 48, 3, 3])\n",
      "복원된 원본 텐서:\n",
      "torch.Size([48, 48, 3, 3])\n",
      "원본 텐서와 복원된 텐서 간의 차이:\n",
      "tensor(1.0729e-06)\n"
     ]
    }
   ],
   "source": [
    "# 원본 텐서 생성 (4D 텐서, shape: (48, 48, 3, 3))\n",
    "original_tensor = torch.rand(48, 48, 3, 3)\n",
    "print(\"원본 텐서:\")\n",
    "print(original_tensor.shape)\n",
    "\n",
    "# 각 차원에 대해 SVD 수행\n",
    "U, S, Vt = torch.svd(original_tensor.view(-1, 3, 3))  # 텐서를 2D로 변환하여 SVD 수행\n",
    "\n",
    "# 대각 성분에 특이값을 가지는 대각 행렬로 변환\n",
    "S_diag = torch.diag_embed(S)  # 대각 성분에 특이값 할당\n",
    "\n",
    "# 원본 텐서 복원 (4D로 변환)\n",
    "restored_tensor = torch.matmul(torch.matmul(U, S_diag), Vt.transpose(1, 2)).view(48, 48, 3, 3)\n",
    "\n",
    "print(\"복원된 원본 텐서:\")\n",
    "print(restored_tensor.shape)\n",
    "\n",
    "# 복원된 텐서와 원본 텐서 간의 차이 계산\n",
    "difference = torch.abs(original_tensor - restored_tensor)\n",
    "print(\"원본 텐서와 복원된 텐서 간의 차이:\")\n",
    "print(difference.max())  # 차이의 최댓값 출력"
   ]
  }
 ],
 "metadata": {
  "kernelspec": {
   "display_name": "Python 3 (ipykernel)",
   "language": "python",
   "name": "python3"
  },
  "language_info": {
   "codemirror_mode": {
    "name": "ipython",
    "version": 3
   },
   "file_extension": ".py",
   "mimetype": "text/x-python",
   "name": "python",
   "nbconvert_exporter": "python",
   "pygments_lexer": "ipython3",
   "version": "3.7.10"
  }
 },
 "nbformat": 4,
 "nbformat_minor": 5
}
