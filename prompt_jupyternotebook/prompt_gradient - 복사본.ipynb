{
 "cells": [
  {
   "cell_type": "code",
   "execution_count": 50,
   "metadata": {
    "id": "8Bk4lX3o_Frs"
   },
   "outputs": [
    {
     "name": "stdout",
     "output_type": "stream",
     "text": [
      "The autoreload extension is already loaded. To reload it, use:\n",
      "  %reload_ext autoreload\n"
     ]
    }
   ],
   "source": [
    "%load_ext autoreload\n",
    "%autoreload 2\n",
    "\n",
    "import torch\n",
    "import torch.nn as nn\n",
    "import numpy as np\n",
    "\n",
    "import torch\n",
    "import torch.backends.cudnn as cudnn\n",
    "import torchvision.models as models\n",
    "import torchvision.transforms as transforms\n",
    "from torch.utils.data import DataLoader\n",
    "from torchvision.datasets import CIFAR100\n",
    "import torch.nn.functional as F\n",
    "import matplotlib.pyplot as plt\n",
    "\n",
    "\n",
    "\n",
    "class PadPrompter(nn.Module):\n",
    "    def __init__(self):\n",
    "        super(PadPrompter, self).__init__()\n",
    "\n",
    "        self.pad_size = 5\n",
    "        self.w = 84\n",
    "\n",
    "        self.base_size = self.w - self.pad_size * 2\n",
    "        self.pad_dict = nn.ParameterDict()\n",
    "\n",
    "        self.build_network()\n",
    "\n",
    "    def build_network(self):\n",
    "\n",
    "        self.pad_dict['pad_up'] = nn.Parameter(torch.empty([3, self.pad_size, self.w]))\n",
    "        self.pad_dict['pad_down'] = nn.Parameter(torch.empty([3, self.pad_size, self.w]))\n",
    "        self.pad_dict['pad_left'] = nn.Parameter(torch.empty([3, self.w - self.pad_size * 2, self.pad_size]))\n",
    "        self.pad_dict['pad_right'] = nn.Parameter(torch.empty([3, self.w - self.pad_size * 2, self.pad_size]))\n",
    "\n",
    "        # for name, param in self.named_parameters():\n",
    "        #     print(\"param.shape == \", param.shape)\n",
    "\n",
    "        # 추가하면 안됨\n",
    "        # for name, param in self.named_parameters():\n",
    "        #     print(\"build_network == \", name)\n",
    "        #     nn.init.xavier_uniform_(param)\n",
    "\n",
    "    def forward(self, x, params=None):\n",
    "\n",
    "        # print(\"x.shape == \", x.shape)\n",
    "\n",
    "        if params is not None:\n",
    "\n",
    "            param_dict = extract_top_level_dict(current_dict=params)\n",
    "            pad_up = param_dict['pad_up']\n",
    "            pad_down = param_dict['pad_down']\n",
    "            pad_left = param_dict['pad_left']\n",
    "            pad_right = param_dict['pad_right']\n",
    "\n",
    "\n",
    "        base = torch.zeros(1, 3, self.base_size, self.base_size)\n",
    "        prompt = torch.cat([pad_left, base, pad_right], dim=3)\n",
    "        prompt = torch.cat([pad_up, prompt, pad_down], dim=2)\n",
    "        prompt = torch.cat(x.size(0) * [prompt])\n",
    "\n",
    "\n",
    "        return x + prompt\n",
    "                            \n",
    "                            \n",
    "def refine_classname(class_names):\n",
    "    for i, class_name in enumerate(class_names):\n",
    "        class_names[i] = class_name.lower().replace('_', ' ').replace('-', ' ')\n",
    "    return class_names\n",
    "\n",
    "\n",
    "def get_inner_loop_parameter_dict(params):\n",
    "\n",
    "    param_dict = dict()\n",
    "\n",
    "    for name, param in params:\n",
    "        if param.requires_grad:\n",
    "            if \"norm_layer\" not in name:\n",
    "                param_dict[name] = param\n",
    "\n",
    "    return param_dict\n",
    "\n",
    "\n",
    "def extract_top_level_dict(current_dict):\n",
    "    \"\"\"\n",
    "    Builds a graph dictionary from the passed depth_keys, value pair. Useful for dynamically passing external params\n",
    "    :param depth_keys: A list of strings making up the name of a variable. Used to make a graph for that params tree.\n",
    "    :param value: Param value\n",
    "    :param key_exists: If none then assume new dict, else load existing dict and add new key->value pairs to it.\n",
    "    :return: A dictionary graph of the params already added to the graph.\n",
    "    \"\"\"\n",
    "\n",
    "    # print(\"current_dict == \", current_dict)\n",
    "\n",
    "    output_dict = dict()\n",
    "    for key in current_dict.keys():\n",
    "        name = key.replace(\"layer_dict.\", \"\")\n",
    "        name = name.replace(\"layer_dict.\", \"\")\n",
    "        name = name.replace(\"block_dict.\", \"\")\n",
    "        name = name.replace(\"pad_dict.\", \"\")\n",
    "        name = name.replace(\"module-\", \"\")\n",
    "\n",
    "        # print(\"extract_top_level_dict  name == \", name)\n",
    "\n",
    "        top_level = name.split(\".\")[0]\n",
    "        sub_level = \".\".join(name.split(\".\")[1:])\n",
    "\n",
    "        if top_level not in output_dict:\n",
    "            if sub_level == \"\":\n",
    "                output_dict[top_level] = current_dict[key]\n",
    "            else:\n",
    "                output_dict[top_level] = {sub_level: current_dict[key]}\n",
    "        else:\n",
    "            new_item = {key: value for key, value in output_dict[top_level].items()}\n",
    "            new_item[sub_level] = current_dict[key]\n",
    "            output_dict[top_level] = new_item\n",
    "\n",
    "    # print(\"extract_top_level_dict === \", current_dict.keys(), output_dict.keys())\n",
    "\n",
    "    # current_dict = {\"layer_dict.step3.linear1.weights'\" : 1, 'layer_dict.step3.linear1.bias': 2}\n",
    "    # output_dict = {'step3': {\"linear1.weights'\": 1, 'linear1.bias': 2}}\n",
    "    # step1, step2.. 등등으로 나누는데.. 이걸 왜 하는 걸까..?\n",
    "\n",
    "    return output_dict"
   ]
  },
  {
   "cell_type": "code",
   "execution_count": 51,
   "metadata": {
    "colab": {
     "base_uri": "https://localhost:8080/"
    },
    "id": "r9PElWYWGZ7F",
    "outputId": "7d5a1cd5-188d-45c7-eea1-a4e9840a033d"
   },
   "outputs": [
    {
     "name": "stdout",
     "output_type": "stream",
     "text": [
      "Files already downloaded and verified\n",
      "Files already downloaded and verified\n"
     ]
    }
   ],
   "source": [
    "prompt = PadPrompter()\n",
    "\n",
    "preprocess = transforms.Compose([\n",
    "    transforms.Resize(84),\n",
    "    transforms.CenterCrop(84),\n",
    "    transforms.ToTensor()\n",
    "])\n",
    "\n",
    "train_dataset = CIFAR100(\"./data\", transform=preprocess,\n",
    "                          download=True, train=True)\n",
    "\n",
    "val_dataset = CIFAR100(\"./data\", transform=preprocess,\n",
    "                        download=True, train=False)\n",
    "\n",
    "train_loader = DataLoader(train_dataset,\n",
    "                          batch_size=25, pin_memory=True,\n",
    "                          num_workers=16, shuffle=True)\n",
    "\n",
    "class_names = train_dataset.classes\n",
    "class_names = refine_classname(class_names)\n",
    "indices = list(range(len(class_names)))"
   ]
  },
  {
   "cell_type": "code",
   "execution_count": 52,
   "metadata": {
    "colab": {
     "base_uri": "https://localhost:8080/"
    },
    "id": "lXvteVwGHsz9",
    "outputId": "0e304704-2ebb-4fe3-8818-9fbc69bd577e"
   },
   "outputs": [],
   "source": [
    "images, target = next(iter(train_loader))"
   ]
  },
  {
   "cell_type": "code",
   "execution_count": 53,
   "metadata": {},
   "outputs": [
    {
     "name": "stdout",
     "output_type": "stream",
     "text": [
      "dict_keys(['pad_dict.pad_up', 'pad_dict.pad_down', 'pad_dict.pad_left', 'pad_dict.pad_right'])\n"
     ]
    }
   ],
   "source": [
    "names_prompt_weights_copy = get_inner_loop_parameter_dict(prompt.named_parameters())\n",
    "\n",
    "names_prompt_weights_copy = {\n",
    "                name.replace('module.', ''): value.unsqueeze(0).repeat(\n",
    "                    [1] + [1 for i in range(len(value.shape))]) for\n",
    "                name, value in names_prompt_weights_copy.items()}\n",
    "\n",
    "print(names_prompt_weights_copy.keys())"
   ]
  },
  {
   "cell_type": "code",
   "execution_count": 54,
   "metadata": {
    "colab": {
     "base_uri": "https://localhost:8080/"
    },
    "id": "PItTLquRKyA3",
    "outputId": "9e7a3651-9f25-4050-fff3-56dba6b92bb3"
   },
   "outputs": [
    {
     "data": {
      "text/plain": [
       "(None, None, None, None)"
      ]
     },
     "execution_count": 54,
     "metadata": {},
     "output_type": "execute_result"
    }
   ],
   "source": [
    "loss = torch.tensor(1.9680).requires_grad_()\n",
    "\n",
    "grads = torch.autograd.grad(loss, names_prompt_weights_copy.values(),create_graph=True, allow_unused=True)\n",
    "\n",
    "grads"
   ]
  },
  {
   "cell_type": "code",
   "execution_count": 57,
   "metadata": {
    "colab": {
     "base_uri": "https://localhost:8080/"
    },
    "id": "IP124ddyQN_1",
    "outputId": "d24ac7a9-54fd-43c5-e77f-144c41802207"
   },
   "outputs": [
    {
     "data": {
      "text/plain": [
       "(tensor([[[nan, nan, nan,  ..., nan, nan, nan],\n",
       "          [nan, nan, nan,  ..., nan, nan, nan],\n",
       "          [nan, nan, nan,  ..., nan, nan, nan],\n",
       "          [nan, nan, nan,  ..., nan, nan, nan],\n",
       "          [nan, nan, nan,  ..., nan, nan, nan]],\n",
       " \n",
       "         [[nan, nan, nan,  ..., nan, nan, nan],\n",
       "          [nan, nan, nan,  ..., nan, nan, nan],\n",
       "          [nan, nan, nan,  ..., nan, nan, nan],\n",
       "          [nan, nan, nan,  ..., nan, nan, nan],\n",
       "          [nan, nan, nan,  ..., nan, nan, nan]],\n",
       " \n",
       "         [[nan, nan, nan,  ..., nan, nan, nan],\n",
       "          [nan, nan, nan,  ..., nan, nan, nan],\n",
       "          [nan, nan, nan,  ..., nan, nan, nan],\n",
       "          [nan, nan, nan,  ..., nan, nan, nan],\n",
       "          [nan, nan, nan,  ..., nan, nan, nan]]], grad_fn=<SqueezeBackward1>),\n",
       " tensor([[[nan, nan, nan,  ..., nan, nan, nan],\n",
       "          [nan, nan, nan,  ..., nan, nan, nan],\n",
       "          [nan, nan, nan,  ..., nan, nan, nan],\n",
       "          [nan, nan, nan,  ..., nan, nan, nan],\n",
       "          [nan, nan, nan,  ..., nan, nan, nan]],\n",
       " \n",
       "         [[nan, nan, nan,  ..., nan, nan, nan],\n",
       "          [nan, nan, nan,  ..., nan, nan, nan],\n",
       "          [nan, nan, nan,  ..., nan, nan, nan],\n",
       "          [nan, nan, nan,  ..., nan, nan, nan],\n",
       "          [nan, nan, nan,  ..., nan, nan, nan]],\n",
       " \n",
       "         [[nan, nan, nan,  ..., nan, nan, nan],\n",
       "          [nan, nan, nan,  ..., nan, nan, nan],\n",
       "          [nan, nan, nan,  ..., nan, nan, nan],\n",
       "          [nan, nan, nan,  ..., nan, nan, nan],\n",
       "          [nan, nan, nan,  ..., nan, nan, nan]]], grad_fn=<SqueezeBackward1>),\n",
       " tensor([[[nan, nan, nan, nan, nan],\n",
       "          [nan, nan, nan, nan, nan],\n",
       "          [nan, nan, nan, nan, nan],\n",
       "          ...,\n",
       "          [nan, nan, nan, nan, nan],\n",
       "          [nan, nan, nan, nan, nan],\n",
       "          [nan, nan, nan, nan, nan]],\n",
       " \n",
       "         [[nan, nan, nan, nan, nan],\n",
       "          [nan, nan, nan, nan, nan],\n",
       "          [nan, nan, nan, nan, nan],\n",
       "          ...,\n",
       "          [nan, nan, nan, nan, nan],\n",
       "          [nan, nan, nan, nan, nan],\n",
       "          [nan, nan, nan, nan, nan]],\n",
       " \n",
       "         [[nan, nan, nan, nan, nan],\n",
       "          [nan, nan, nan, nan, nan],\n",
       "          [nan, nan, nan, nan, nan],\n",
       "          ...,\n",
       "          [nan, nan, nan, nan, nan],\n",
       "          [nan, nan, nan, nan, nan],\n",
       "          [nan, nan, nan, nan, nan]]], grad_fn=<SqueezeBackward1>),\n",
       " tensor([[[nan, nan, nan, nan, nan],\n",
       "          [nan, nan, nan, nan, nan],\n",
       "          [nan, nan, nan, nan, nan],\n",
       "          ...,\n",
       "          [nan, nan, nan, nan, nan],\n",
       "          [nan, nan, nan, nan, nan],\n",
       "          [nan, nan, nan, nan, nan]],\n",
       " \n",
       "         [[nan, nan, nan, nan, nan],\n",
       "          [nan, nan, nan, nan, nan],\n",
       "          [nan, nan, nan, nan, nan],\n",
       "          ...,\n",
       "          [nan, nan, nan, nan, nan],\n",
       "          [nan, nan, nan, nan, nan],\n",
       "          [nan, nan, nan, nan, nan]],\n",
       " \n",
       "         [[nan, nan, nan, nan, nan],\n",
       "          [nan, nan, nan, nan, nan],\n",
       "          [nan, nan, nan, nan, nan],\n",
       "          ...,\n",
       "          [nan, nan, nan, nan, nan],\n",
       "          [nan, nan, nan, nan, nan],\n",
       "          [nan, nan, nan, nan, nan]]], grad_fn=<SqueezeBackward1>))"
      ]
     },
     "execution_count": 57,
     "metadata": {},
     "output_type": "execute_result"
    }
   ],
   "source": [
    "# X = torch.rand(25, 3, 84, 84, requires_grad=False)\n",
    "# y = torch.randint(0, 5, (25,), dtype=torch.long)\n",
    "\n",
    "\n",
    "# CNN 모델 정의\n",
    "class CNN(nn.Module):\n",
    "    def __init__(self):\n",
    "        super(CNN, self).__init__()\n",
    "        self.conv1 = nn.Conv2d(3, 16, kernel_size=3, padding=1)\n",
    "        self.relu = nn.ReLU()\n",
    "        self.fc = nn.Linear(16 * 84 * 84, 5)\n",
    "\n",
    "    def forward(self, x):\n",
    "        x = self.relu(self.conv1(x))\n",
    "        x = x.view(x.size(0), -1)  # Flatten\n",
    "        x = self.fc(x)\n",
    "        return x\n",
    "\n",
    "    \n",
    "model = CNN()\n",
    "\n",
    "for name, param in model.named_parameters():\n",
    "    if param.requires_grad:\n",
    "        param.requires_grad = False\n",
    "\n",
    "criterion = nn.CrossEntropyLoss()\n",
    "\n",
    "prompted_images = prompt.forward(x=images, params=names_prompt_weights_copy)\n",
    "outputs = model.forward(prompted_images)\n",
    "loss= F.cross_entropy(outputs, y)\n",
    "\n",
    "#grads = torch.autograd.grad(loss, names_prompt_weights_copy.values(),create_graph=True, allow_unused=True)\n",
    "grads = torch.autograd.grad(loss, prompt.parameters(),create_graph=True, allow_unused=True)\n",
    "grads"
   ]
  },
  {
   "cell_type": "code",
   "execution_count": 58,
   "metadata": {},
   "outputs": [
    {
     "name": "stderr",
     "output_type": "stream",
     "text": [
      "Clipping input data to the valid range for imshow with RGB data ([0..1] for floats or [0..255] for integers).\n"
     ]
    },
    {
     "data": {
      "image/png": "[encoded data removed]",
      "text/plain": [
       "<Figure size 640x480 with 1 Axes>"
      ]
     },
     "metadata": {},
     "output_type": "display_data"
    }
   ],
   "source": [
    "numpy_data = prompted_images[0].detach().numpy()\n",
    "\n",
    "plt.imshow(numpy_data.T, cmap=\"gray\")\n",
    "plt.show()"
   ]
  },
  {
   "cell_type": "code",
   "execution_count": null,
   "metadata": {},
   "outputs": [],
   "source": []
  }
 ],
 "metadata": {
  "colab": {
   "provenance": []
  },
  "kernelspec": {
   "display_name": "Python 3 (ipykernel)",
   "language": "python",
   "name": "python3"
  },
  "language_info": {
   "codemirror_mode": {
    "name": "ipython",
    "version": 3
   },
   "file_extension": ".py",
   "mimetype": "text/x-python",
   "name": "python",
   "nbconvert_exporter": "python",
   "pygments_lexer": "ipython3",
   "version": "3.7.16"
  }
 },
 "nbformat": 4,
 "nbformat_minor": 1
}
