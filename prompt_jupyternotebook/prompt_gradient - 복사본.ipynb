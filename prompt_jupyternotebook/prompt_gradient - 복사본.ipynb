{
 "cells": [
  {
   "cell_type": "code",
   "execution_count": 120,
   "metadata": {
    "id": "8Bk4lX3o_Frs"
   },
   "outputs": [
    {
     "name": "stdout",
     "output_type": "stream",
     "text": [
      "The autoreload extension is already loaded. To reload it, use:\n",
      "  %reload_ext autoreload\n"
     ]
    }
   ],
   "source": [
    "%load_ext autoreload\n",
    "%autoreload 2\n",
    "\n",
    "import sys, os\n",
    "\n",
    "module_path = os.path.abspath(os.path.join('..'))\n",
    "if module_path not in sys.path:\n",
    "    sys.path.append(module_path)\n",
    "\n",
    "from meta_neural_network_architectures import VGGReLUNormNetwork, ResNet12\n",
    "from prompters import padding\n",
    "from utils.parser_utils import get_args\n",
    "\n",
    "import easydict\n",
    "\n",
    "import torch\n",
    "import torch.nn as nn\n",
    "import numpy as np\n",
    "\n",
    "import torch.backends.cudnn as cudnn\n",
    "import torchvision.models as models\n",
    "import torchvision.transforms as transforms\n",
    "from torch.utils.data import DataLoader\n",
    "from torchvision.datasets import CIFAR100\n",
    "import torch.nn.functional as F\n",
    "import matplotlib.pyplot as plt"
   ]
  },
  {
   "cell_type": "code",
   "execution_count": 121,
   "metadata": {},
   "outputs": [],
   "source": [
    "os.environ['DATASET_DIR'] = os.path.join(os.getcwd(), \"datasets\")\n",
    "\n",
    "args = easydict.EasyDict(\n",
    "{\n",
    "  \"batch_size\":2,\n",
    "  \"image_height\":84,\n",
    "  \"image_width\":84,\n",
    "  \"image_channels\":3,\n",
    "  \"gpu_to_use\":0,\n",
    "  \"num_dataprovider_workers\":4,\n",
    "  \"max_models_to_save\":5,\n",
    "  \"dataset_name\":\"mini_imagenet_full_size\",\n",
    "  \"dataset_path\":\"mini_imagenet_full_size\",\n",
    "  \"reset_stored_paths\":False,\n",
    "  \"experiment_name\":\"alfa+maml\",\n",
    "  \"train_seed\": 0, \"val_seed\": 0,\n",
    "  \"indexes_of_folders_indicating_class\": [-3, -2],\n",
    "  \"sets_are_pre_split\": True,\n",
    "  \"train_val_test_split\": [0.64, 0.16, 0.20],\n",
    "  \"evaluate_on_test_set_only\": False,\n",
    "\n",
    "  \"total_epochs\": 100,\n",
    "  \"total_iter_per_epoch\":500, \"continue_from_epoch\": -2,\n",
    "  \"num_evaluation_tasks\":600,\n",
    "  \"multi_step_loss_num_epochs\": 15,\n",
    "  \"minimum_per_task_contribution\": 0.01,\n",
    "  \"learnable_per_layer_per_step_inner_loop_learning_rate\": False,\n",
    "  \"enable_inner_loop_optimizable_bn_params\": False,\n",
    "  \"evalute_on_test_set_only\": False,\n",
    "\n",
    "  \"max_pooling\": True,\n",
    "  \"per_step_bn_statistics\": False,\n",
    "  \"learnable_batch_norm_momentum\": False,\n",
    "  \"load_into_memory\": False,\n",
    "  \"init_inner_loop_learning_rate\": 0.01,\n",
    "  \"init_inner_loop_weight_decay\": 0.0005,\n",
    "  \"learnable_bn_gamma\": True,\n",
    "  \"learnable_bn_beta\": True,\n",
    "\n",
    "  \"dropout_rate_value\":0.0,\n",
    "  \"min_learning_rate\":0.001,\n",
    "  \"meta_learning_rate\":0.001,   \"total_epochs_before_pause\": 100,\n",
    "  \"first_order_to_second_order_epoch\":-1,\n",
    "  \"weight_decay\": 0.0,\n",
    "\n",
    "  \"norm_layer\":\"batch_norm\",\n",
    "  \"cnn_num_filters\":48,\n",
    "  \"num_stages\":4,\n",
    "  \"conv_padding\": True,\n",
    "  \"number_of_training_steps_per_iter\":5,\n",
    "  \"number_of_evaluation_steps_per_iter\":5,\n",
    "  \"cnn_blocks_per_stage\":1,\n",
    "  \"num_classes_per_set\":5,\n",
    "  \"num_samples_per_class\":5,\n",
    "  \"num_target_samples\": 15,\n",
    "    \"samples_per_iter\" : 1,\n",
    "\n",
    "  \"second_order\": True,\n",
    "  \"use_multi_step_loss_optimization\":False,\n",
    "  \"attenuate\": False,\n",
    "  \"alfa\": True,\n",
    "  \"random_init\": False,\n",
    "  \"backbone\": \"4-CONV\"\n",
    "}\n",
    ")\n",
    "\n",
    "device = torch.cuda.current_device()\n",
    "args.im_shape = (2, 3, args.image_height, args.image_width)\n",
    "\n",
    "args.use_cuda = torch.cuda.is_available()\n",
    "args.seed = 104\n",
    "args.reverse_channels=False\n",
    "args.labels_as_int=False\n",
    "args.reset_stored_filepaths=False\n",
    "args.num_of_gpus=1"
   ]
  },
  {
   "cell_type": "code",
   "execution_count": 122,
   "metadata": {},
   "outputs": [
    {
     "name": "stdout",
     "output_type": "stream",
     "text": [
      "Using max pooling\n",
      "No inner loop params\n",
      "torch.Size([2, 48, 84, 84])\n",
      "No inner loop params\n",
      "No inner loop params\n",
      "torch.Size([2, 48, 42, 42])\n",
      "No inner loop params\n",
      "No inner loop params\n",
      "torch.Size([2, 48, 21, 21])\n",
      "No inner loop params\n",
      "No inner loop params\n",
      "torch.Size([2, 48, 10, 10])\n",
      "No inner loop params\n",
      "(VGGReLUNormNetwork) meta network params\n",
      "layer_dict.conv0.conv.weight torch.Size([48, 3, 3, 3])\n",
      "layer_dict.conv0.conv.bias torch.Size([48])\n",
      "layer_dict.conv0.norm_layer.running_mean torch.Size([48])\n",
      "layer_dict.conv0.norm_layer.running_var torch.Size([48])\n",
      "layer_dict.conv0.norm_layer.bias torch.Size([48])\n",
      "layer_dict.conv0.norm_layer.weight torch.Size([48])\n",
      "layer_dict.conv1.conv.weight torch.Size([48, 48, 3, 3])\n",
      "layer_dict.conv1.conv.bias torch.Size([48])\n",
      "layer_dict.conv1.norm_layer.running_mean torch.Size([48])\n",
      "layer_dict.conv1.norm_layer.running_var torch.Size([48])\n",
      "layer_dict.conv1.norm_layer.bias torch.Size([48])\n",
      "layer_dict.conv1.norm_layer.weight torch.Size([48])\n",
      "layer_dict.conv2.conv.weight torch.Size([48, 48, 3, 3])\n",
      "layer_dict.conv2.conv.bias torch.Size([48])\n",
      "layer_dict.conv2.norm_layer.running_mean torch.Size([48])\n",
      "layer_dict.conv2.norm_layer.running_var torch.Size([48])\n",
      "layer_dict.conv2.norm_layer.bias torch.Size([48])\n",
      "layer_dict.conv2.norm_layer.weight torch.Size([48])\n",
      "layer_dict.conv3.conv.weight torch.Size([48, 48, 3, 3])\n",
      "layer_dict.conv3.conv.bias torch.Size([48])\n",
      "layer_dict.conv3.norm_layer.running_mean torch.Size([48])\n",
      "layer_dict.conv3.norm_layer.running_var torch.Size([48])\n",
      "layer_dict.conv3.norm_layer.bias torch.Size([48])\n",
      "layer_dict.conv3.norm_layer.weight torch.Size([48])\n",
      "layer_dict.linear.weights torch.Size([5, 1200])\n",
      "layer_dict.linear.bias torch.Size([5])\n"
     ]
    }
   ],
   "source": [
    "classifier = VGGReLUNormNetwork(im_shape=args.im_shape, num_output_classes=\n",
    "                                                 args.num_classes_per_set,\n",
    "                                                 args=args, device=device, meta_classifier=True).to(device=device)\n",
    "\n",
    "\n",
    "prompt = padding(args=args, prompt_size=10, image_size=args.im_shape).to(device=device)"
   ]
  },
  {
   "cell_type": "code",
   "execution_count": 123,
   "metadata": {
    "colab": {
     "base_uri": "https://localhost:8080/"
    },
    "id": "r9PElWYWGZ7F",
    "outputId": "7d5a1cd5-188d-45c7-eea1-a4e9840a033d"
   },
   "outputs": [
    {
     "name": "stdout",
     "output_type": "stream",
     "text": [
      "Files already downloaded and verified\n",
      "Files already downloaded and verified\n"
     ]
    }
   ],
   "source": [
    "preprocess = transforms.Compose([\n",
    "    transforms.Resize(84),\n",
    "    transforms.ToTensor()\n",
    "])\n",
    "\n",
    "train_dataset = CIFAR100(\"./data\", transform=preprocess,\n",
    "                          download=True, train=True)\n",
    "\n",
    "val_dataset = CIFAR100(\"./data\", transform=preprocess,\n",
    "                        download=True, train=False)\n",
    "\n",
    "train_loader = DataLoader(train_dataset,\n",
    "                          batch_size=25, pin_memory=True,\n",
    "                          num_workers=16, shuffle=True)\n",
    "\n",
    "class_names = train_dataset.classes\n",
    "class_names = refine_classname(class_names)\n",
    "indices = list(range(len(class_names)))"
   ]
  },
  {
   "cell_type": "code",
   "execution_count": 124,
   "metadata": {
    "colab": {
     "base_uri": "https://localhost:8080/"
    },
    "id": "lXvteVwGHsz9",
    "outputId": "0e304704-2ebb-4fe3-8818-9fbc69bd577e"
   },
   "outputs": [],
   "source": [
    "images, target = next(iter(train_loader))\n",
    "images = images.to(device)\n",
    "target = target.to(device)"
   ]
  },
  {
   "cell_type": "code",
   "execution_count": 125,
   "metadata": {},
   "outputs": [
    {
     "name": "stdout",
     "output_type": "stream",
     "text": [
      "dict_keys(['pad_dict.pad_up', 'pad_dict.pad_down', 'pad_dict.pad_left', 'pad_dict.pad_right'])\n",
      "torch.Size([3, 10, 84])\n",
      "dict_keys(['pad_dict.pad_up', 'pad_dict.pad_down', 'pad_dict.pad_left', 'pad_dict.pad_right'])\n",
      "torch.Size([1, 3, 10, 84])\n",
      "torch.Size([1, 3, 10, 84])\n",
      "torch.Size([1, 3, 64, 10])\n",
      "torch.Size([1, 3, 64, 10])\n"
     ]
    }
   ],
   "source": [
    "names_prompt_weights_copy = get_inner_loop_parameter_dict(prompt.named_parameters())\n",
    "names_weights_copy = get_inner_loop_parameter_dict(classifier.named_parameters())\n",
    "\n",
    "print(names_prompt_weights_copy.keys())\n",
    "print(names_prompt_weights_copy['pad_dict.pad_up'].shape)\n",
    "\n",
    "names_prompt_weights_copy = {\n",
    "                name.replace('module.', ''): value.unsqueeze(0).repeat(\n",
    "                    [1] + [1 for i in range(len(value.shape))]) for\n",
    "                name, value in names_prompt_weights_copy.items()}\n",
    "\n",
    "names_weights_copy = {\n",
    "                name.replace('module.', ''): value.unsqueeze(0).repeat(\n",
    "                    [1] + [1 for i in range(len(value.shape))]) for\n",
    "                name, value in names_weights_copy.items()}\n",
    "\n",
    "print(names_prompt_weights_copy.keys())\n",
    "\n",
    "print(names_prompt_weights_copy['pad_dict.pad_up'].shape)\n",
    "print(names_prompt_weights_copy['pad_dict.pad_down'].shape)\n",
    "print(names_prompt_weights_copy['pad_dict.pad_left'].shape)\n",
    "print(names_prompt_weights_copy['pad_dict.pad_right'].shape)"
   ]
  },
  {
   "cell_type": "code",
   "execution_count": 135,
   "metadata": {
    "colab": {
     "base_uri": "https://localhost:8080/"
    },
    "id": "IP124ddyQN_1",
    "outputId": "d24ac7a9-54fd-43c5-e77f-144c41802207"
   },
   "outputs": [
    {
     "name": "stdout",
     "output_type": "stream",
     "text": [
      "images.shape ==  torch.Size([25, 3, 84, 84])\n",
      "x.size(0) ==  25\n",
      "prompted_images.shape ==  torch.Size([25, 3, 84, 84])\n"
     ]
    }
   ],
   "source": [
    "print(\"images.shape == \",images.shape)\n",
    "\n",
    "prompted_images = prompt.forward(x=images, params=names_prompt_weights_copy)\n",
    "\n",
    "print(\"prompted_images.shape == \",prompted_images.shape)\n",
    "\n",
    "image_preds = classifier.forward(images, params=names_weights_copy,num_step=4)\n",
    "prompt_preds = classifier.forward(prompted_images, params=names_weights_copy,num_step=4)"
   ]
  },
  {
   "cell_type": "code",
   "execution_count": 136,
   "metadata": {},
   "outputs": [
    {
     "data": {
      "text/plain": [
       "tensor([36, 38, 69, 50, 45, 93, 75,  6, 11, 17,  0,  4, 57,  0, 37,  0, 92, 53,\n",
       "        25, 96, 66, 75, 68, 28, 96], device='cuda:0')"
      ]
     },
     "execution_count": 136,
     "metadata": {},
     "output_type": "execute_result"
    }
   ],
   "source": [
    "target"
   ]
  },
  {
   "cell_type": "code",
   "execution_count": 127,
   "metadata": {},
   "outputs": [
    {
     "name": "stderr",
     "output_type": "stream",
     "text": [
      "Clipping input data to the valid range for imshow with RGB data ([0..1] for floats or [0..255] for integers).\n"
     ]
    },
    {
     "data": {
      "image/png": "[encoded data removed]",
      "text/plain": [
       "<Figure size 640x480 with 1 Axes>"
      ]
     },
     "metadata": {},
     "output_type": "display_data"
    }
   ],
   "source": [
    "numpy_data = prompted_images[0].cpu().detach().numpy()\n",
    "\n",
    "plt.imshow(numpy_data.T, cmap=\"gray\")\n",
    "plt.show()"
   ]
  },
  {
   "cell_type": "code",
   "execution_count": 130,
   "metadata": {},
   "outputs": [
    {
     "name": "stdout",
     "output_type": "stream",
     "text": [
      "image_outputs ==  tensor([[ 6.8277e-01, -2.4222e-01, -8.1851e-02, -1.9244e+00,  2.7417e+00],\n",
      "        [ 1.8633e+00,  2.1654e+00, -8.7527e-01, -9.0401e-01,  2.3057e+00],\n",
      "        [ 3.4417e-01,  1.6594e+00, -7.0226e-01, -1.0637e+00,  2.1766e+00],\n",
      "        [ 4.0041e-01,  1.7877e+00, -9.9221e-01, -2.2200e+00,  4.9583e-01],\n",
      "        [-1.2720e+00,  3.0906e+00,  2.2784e+00, -2.6626e+00, -1.0357e+00],\n",
      "        [ 8.3926e-01,  1.9918e+00, -1.5992e-01, -3.0281e-02,  1.4270e+00],\n",
      "        [ 1.7785e+00,  1.7078e+00, -6.5790e-01, -6.7562e-01,  1.6994e+00],\n",
      "        [ 7.3743e-01,  2.2190e+00,  9.7482e-01, -1.3522e+00,  1.0420e-01],\n",
      "        [ 2.6042e+00,  1.4425e+00,  1.6215e-01, -2.2852e+00,  1.8636e+00],\n",
      "        [ 7.2777e-01,  6.7427e-01, -1.9469e+00, -1.4871e+00,  2.2762e+00],\n",
      "        [ 7.0562e-01,  2.3526e+00, -5.0364e-01, -1.9210e+00,  1.0945e+00],\n",
      "        [-1.8785e-01,  8.7917e-01, -6.5264e-01, -2.9594e+00,  9.8517e-01],\n",
      "        [ 1.3934e+00,  1.2361e-01, -3.6421e-01, -1.1818e+00,  2.0401e+00],\n",
      "        [-1.0243e+00,  8.5912e-01, -1.2124e+00, -3.9989e+00, -3.2166e-01],\n",
      "        [ 1.1204e+00,  8.2361e-01,  1.0635e+00, -1.2600e+00,  6.4851e-01],\n",
      "        [ 1.6850e-01, -2.6006e+00,  9.1372e-01, -2.0163e+00,  1.8112e+00],\n",
      "        [ 5.5763e-01,  1.3930e+00,  8.6128e-01, -2.3083e+00,  1.1203e+00],\n",
      "        [-3.0237e-03,  2.3669e+00, -2.2337e-02, -5.2084e+00,  7.0313e-01],\n",
      "        [ 1.0251e+00,  2.1712e+00, -1.2621e+00, -1.3774e+00,  2.2685e+00],\n",
      "        [ 6.9216e-01,  1.1676e+00,  5.1536e-01, -2.0903e+00,  1.3714e+00],\n",
      "        [ 5.1376e-01,  2.5093e+00,  1.7776e+00, -3.7016e+00,  8.3885e-02],\n",
      "        [ 2.5513e+00,  5.9826e-01,  1.2845e+00, -1.8845e+00,  1.0791e+00],\n",
      "        [-1.5245e-01,  1.9531e+00, -3.6778e-01, -1.7682e+00,  1.3394e+00],\n",
      "        [ 6.6280e-01,  1.0732e+00, -4.1064e-01, -1.9137e-01,  1.3057e+00],\n",
      "        [ 5.7406e-01,  1.3394e+00, -7.5608e-01, -2.7143e-01,  1.0046e+00]],\n",
      "       device='cuda:0', grad_fn=<AddmmBackward0>)\n",
      "prompt_outputs ==  tensor([[ 1.6616,  1.8007,  2.2135, -2.8971,  0.6806],\n",
      "        [ 1.5902,  2.1029,  1.7556, -3.3380,  0.9954],\n",
      "        [ 1.3914,  1.7379,  2.1278, -2.5414,  1.2464],\n",
      "        [ 0.7034,  2.0332,  2.7377, -2.7496,  0.6821],\n",
      "        [ 1.0899,  2.0958,  1.5979, -2.8220,  0.4284],\n",
      "        [ 1.8946,  2.2002,  2.0387, -2.7436,  1.0447],\n",
      "        [ 1.9496,  2.6611,  2.3785, -3.1478,  0.4080],\n",
      "        [ 2.1229,  2.4426,  2.2170, -3.4273,  0.4661],\n",
      "        [ 1.2066,  2.4215,  1.6428, -2.9951,  0.5641],\n",
      "        [ 1.6695,  1.6247,  1.8271, -3.0669,  1.0635],\n",
      "        [ 1.8798,  2.6870,  1.4706, -3.2593,  0.4374],\n",
      "        [ 1.2776,  2.3413,  2.4722, -3.1056,  0.3406],\n",
      "        [ 0.6601,  0.8093,  1.9662, -2.6782,  1.3337],\n",
      "        [ 1.1955,  2.0936,  0.9578, -2.8358,  0.1181],\n",
      "        [ 1.6020,  0.5204,  1.8078, -2.7510,  0.7631],\n",
      "        [ 0.3577,  0.7529,  2.0021, -2.2871,  0.9280],\n",
      "        [ 1.4922,  3.3381,  2.2906, -3.1498,  0.0783],\n",
      "        [ 0.8505,  2.6202,  1.2815, -3.0187,  0.6385],\n",
      "        [ 1.6758,  1.8664,  2.3614, -2.9947,  1.1261],\n",
      "        [ 1.6388,  2.1014,  2.1677, -3.1747,  0.9056],\n",
      "        [ 1.5715,  2.3188,  1.5873, -2.8556,  0.7081],\n",
      "        [ 2.6956,  2.1195,  2.4876, -3.2021,  0.1152],\n",
      "        [ 1.3437,  1.7625,  1.4523, -2.7292,  0.2128],\n",
      "        [ 0.8466,  1.6408,  2.4121, -2.4563,  1.2059],\n",
      "        [ 1.1463,  2.0451,  1.8700, -2.8074,  0.7356]], device='cuda:0',\n",
      "       grad_fn=<AddmmBackward0>)\n"
     ]
    }
   ],
   "source": [
    "print(\"image_preds == \", image_preds)\n",
    "print(\"prompt_preds == \", prompt_preds)"
   ]
  }
 ],
 "metadata": {
  "colab": {
   "provenance": []
  },
  "kernelspec": {
   "display_name": "Python 3 (ipykernel)",
   "language": "python",
   "name": "python3"
  },
  "language_info": {
   "codemirror_mode": {
    "name": "ipython",
    "version": 3
   },
   "file_extension": ".py",
   "mimetype": "text/x-python",
   "name": "python",
   "nbconvert_exporter": "python",
   "pygments_lexer": "ipython3",
   "version": "3.7.16"
  }
 },
 "nbformat": 4,
 "nbformat_minor": 1
}
