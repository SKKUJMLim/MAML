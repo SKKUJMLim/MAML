{
 "cells": [
  {
   "cell_type": "code",
   "execution_count": 23,
   "metadata": {
    "id": "8Bk4lX3o_Frs"
   },
   "outputs": [
    {
     "name": "stdout",
     "output_type": "stream",
     "text": [
      "The autoreload extension is already loaded. To reload it, use:\n",
      "  %reload_ext autoreload\n"
     ]
    }
   ],
   "source": [
    "%load_ext autoreload\n",
    "%autoreload 2\n",
    "\n",
    "import sys, os\n",
    "\n",
    "module_path = os.path.abspath(os.path.join('..'))\n",
    "if module_path not in sys.path:\n",
    "    sys.path.append(module_path)\n",
    "\n",
    "from meta_neural_network_architectures import VGGReLUNormNetwork, ResNet12\n",
    "from prompters import padding\n",
    "from utils.parser_utils import get_args\n",
    "\n",
    "import easydict\n",
    "\n",
    "import torch\n",
    "import torch.nn as nn\n",
    "import numpy as np\n",
    "\n",
    "import torch.backends.cudnn as cudnn\n",
    "import torchvision.models as models\n",
    "import torchvision.transforms as transforms\n",
    "from torch.utils.data import DataLoader\n",
    "from torchvision.datasets import CIFAR100\n",
    "import torch.nn.functional as F\n",
    "import matplotlib.pyplot as plt"
   ]
  },
  {
   "cell_type": "code",
   "execution_count": 24,
   "metadata": {},
   "outputs": [],
   "source": [
    "os.environ['DATASET_DIR'] = os.path.join(os.getcwd(), \"datasets\")\n",
    "\n",
    "args = easydict.EasyDict(\n",
    "{\n",
    "  \"batch_size\":2,\n",
    "  \"image_height\":84,\n",
    "  \"image_width\":84,\n",
    "  \"image_channels\":3,\n",
    "  \"gpu_to_use\":0,\n",
    "  \"num_dataprovider_workers\":4,\n",
    "  \"max_models_to_save\":5,\n",
    "  \"dataset_name\":\"mini_imagenet_full_size\",\n",
    "  \"dataset_path\":\"mini_imagenet_full_size\",\n",
    "  \"reset_stored_paths\":False,\n",
    "  \"experiment_name\":\"alfa+maml\",\n",
    "  \"train_seed\": 0, \"val_seed\": 0,\n",
    "  \"indexes_of_folders_indicating_class\": [-3, -2],\n",
    "  \"sets_are_pre_split\": True,\n",
    "  \"train_val_test_split\": [0.64, 0.16, 0.20],\n",
    "  \"evaluate_on_test_set_only\": False,\n",
    "\n",
    "  \"total_epochs\": 100,\n",
    "  \"total_iter_per_epoch\":500, \"continue_from_epoch\": -2,\n",
    "  \"num_evaluation_tasks\":600,\n",
    "  \"multi_step_loss_num_epochs\": 15,\n",
    "  \"minimum_per_task_contribution\": 0.01,\n",
    "  \"learnable_per_layer_per_step_inner_loop_learning_rate\": False,\n",
    "  \"enable_inner_loop_optimizable_bn_params\": False,\n",
    "  \"evalute_on_test_set_only\": False,\n",
    "\n",
    "  \"max_pooling\": True,\n",
    "  \"per_step_bn_statistics\": False,\n",
    "  \"learnable_batch_norm_momentum\": False,\n",
    "  \"load_into_memory\": False,\n",
    "  \"init_inner_loop_learning_rate\": 0.01,\n",
    "  \"init_inner_loop_weight_decay\": 0.0005,\n",
    "  \"learnable_bn_gamma\": True,\n",
    "  \"learnable_bn_beta\": True,\n",
    "\n",
    "  \"dropout_rate_value\":0.0,\n",
    "  \"min_learning_rate\":0.001,\n",
    "  \"meta_learning_rate\":0.001,   \"total_epochs_before_pause\": 100,\n",
    "  \"first_order_to_second_order_epoch\":-1,\n",
    "  \"weight_decay\": 0.0,\n",
    "\n",
    "  \"norm_layer\":\"batch_norm\",\n",
    "  \"cnn_num_filters\":48,\n",
    "  \"num_stages\":4,\n",
    "  \"conv_padding\": True,\n",
    "  \"number_of_training_steps_per_iter\":5,\n",
    "  \"number_of_evaluation_steps_per_iter\":5,\n",
    "  \"cnn_blocks_per_stage\":1,\n",
    "  \"num_classes_per_set\":5,\n",
    "  \"num_samples_per_class\":5,\n",
    "  \"num_target_samples\": 15,\n",
    "    \"samples_per_iter\" : 1,\n",
    "\n",
    "  \"second_order\": True,\n",
    "  \"use_multi_step_loss_optimization\":False,\n",
    "  \"attenuate\": False,\n",
    "  \"alfa\": True,\n",
    "  \"random_init\": False,\n",
    "  \"backbone\": \"4-CONV\"\n",
    "}\n",
    ")\n",
    "\n",
    "device = torch.cuda.current_device()\n",
    "args.im_shape = (2, 3, args.image_height, args.image_width)\n",
    "\n",
    "args.use_cuda = torch.cuda.is_available()\n",
    "args.seed = 104\n",
    "args.reverse_channels=False\n",
    "args.labels_as_int=False\n",
    "args.reset_stored_filepaths=False\n",
    "args.num_of_gpus=1\n",
    "\n",
    "def get_inner_loop_parameter_dict(params):\n",
    "\n",
    "    param_dict = dict()\n",
    "    for name, param in params:\n",
    "        if param.requires_grad:\n",
    "            param_dict[name] = param.to(device=device)\n",
    "\n",
    "    return param_dict"
   ]
  },
  {
   "cell_type": "code",
   "execution_count": 25,
   "metadata": {},
   "outputs": [
    {
     "name": "stdout",
     "output_type": "stream",
     "text": [
      "Using max pooling\n",
      "No inner loop params\n",
      "torch.Size([2, 48, 84, 84])\n",
      "No inner loop params\n",
      "No inner loop params\n",
      "torch.Size([2, 48, 42, 42])\n",
      "No inner loop params\n",
      "No inner loop params\n",
      "torch.Size([2, 48, 21, 21])\n",
      "No inner loop params\n",
      "No inner loop params\n",
      "torch.Size([2, 48, 10, 10])\n",
      "No inner loop params\n",
      "(VGGReLUNormNetwork) meta network params\n",
      "layer_dict.conv0.conv.weight torch.Size([48, 3, 3, 3])\n",
      "layer_dict.conv0.conv.bias torch.Size([48])\n",
      "layer_dict.conv0.norm_layer.running_mean torch.Size([48])\n",
      "layer_dict.conv0.norm_layer.running_var torch.Size([48])\n",
      "layer_dict.conv0.norm_layer.bias torch.Size([48])\n",
      "layer_dict.conv0.norm_layer.weight torch.Size([48])\n",
      "layer_dict.conv1.conv.weight torch.Size([48, 48, 3, 3])\n",
      "layer_dict.conv1.conv.bias torch.Size([48])\n",
      "layer_dict.conv1.norm_layer.running_mean torch.Size([48])\n",
      "layer_dict.conv1.norm_layer.running_var torch.Size([48])\n",
      "layer_dict.conv1.norm_layer.bias torch.Size([48])\n",
      "layer_dict.conv1.norm_layer.weight torch.Size([48])\n",
      "layer_dict.conv2.conv.weight torch.Size([48, 48, 3, 3])\n",
      "layer_dict.conv2.conv.bias torch.Size([48])\n",
      "layer_dict.conv2.norm_layer.running_mean torch.Size([48])\n",
      "layer_dict.conv2.norm_layer.running_var torch.Size([48])\n",
      "layer_dict.conv2.norm_layer.bias torch.Size([48])\n",
      "layer_dict.conv2.norm_layer.weight torch.Size([48])\n",
      "layer_dict.conv3.conv.weight torch.Size([48, 48, 3, 3])\n",
      "layer_dict.conv3.conv.bias torch.Size([48])\n",
      "layer_dict.conv3.norm_layer.running_mean torch.Size([48])\n",
      "layer_dict.conv3.norm_layer.running_var torch.Size([48])\n",
      "layer_dict.conv3.norm_layer.bias torch.Size([48])\n",
      "layer_dict.conv3.norm_layer.weight torch.Size([48])\n",
      "layer_dict.linear.weights torch.Size([5, 1200])\n",
      "layer_dict.linear.bias torch.Size([5])\n"
     ]
    }
   ],
   "source": [
    "classifier = VGGReLUNormNetwork(im_shape=args.im_shape, num_output_classes=\n",
    "                                                 args.num_classes_per_set,\n",
    "                                                 args=args, device=device, meta_classifier=True).to(device=device)\n",
    "\n",
    "\n",
    "prompt = padding(args=args, prompt_size=10, image_size=args.im_shape).to(device=device)"
   ]
  },
  {
   "cell_type": "code",
   "execution_count": 26,
   "metadata": {
    "colab": {
     "base_uri": "https://localhost:8080/"
    },
    "id": "r9PElWYWGZ7F",
    "outputId": "7d5a1cd5-188d-45c7-eea1-a4e9840a033d"
   },
   "outputs": [
    {
     "name": "stdout",
     "output_type": "stream",
     "text": [
      "Files already downloaded and verified\n",
      "Files already downloaded and verified\n"
     ]
    }
   ],
   "source": [
    "preprocess = transforms.Compose([\n",
    "    transforms.Resize(84),\n",
    "    transforms.ToTensor()\n",
    "])\n",
    "\n",
    "train_dataset = CIFAR100(\"./data\", transform=preprocess,\n",
    "                          download=True, train=True)\n",
    "\n",
    "val_dataset = CIFAR100(\"./data\", transform=preprocess,\n",
    "                        download=True, train=False)\n",
    "\n",
    "train_loader = DataLoader(train_dataset,\n",
    "                          batch_size=25, pin_memory=True,\n",
    "                          num_workers=16, shuffle=True)\n",
    "\n",
    "class_names = train_dataset.classes"
   ]
  },
  {
   "cell_type": "code",
   "execution_count": 27,
   "metadata": {
    "colab": {
     "base_uri": "https://localhost:8080/"
    },
    "id": "lXvteVwGHsz9",
    "outputId": "0e304704-2ebb-4fe3-8818-9fbc69bd577e"
   },
   "outputs": [],
   "source": [
    "images, target = next(iter(train_loader))\n",
    "images = images.to(device)\n",
    "target = target.to(device)"
   ]
  },
  {
   "cell_type": "code",
   "execution_count": 28,
   "metadata": {},
   "outputs": [
    {
     "name": "stdout",
     "output_type": "stream",
     "text": [
      "dict_keys(['pad_dict.pad_up', 'pad_dict.pad_down', 'pad_dict.pad_left', 'pad_dict.pad_right'])\n",
      "torch.Size([3, 10, 84])\n",
      "dict_keys(['pad_dict.pad_up', 'pad_dict.pad_down', 'pad_dict.pad_left', 'pad_dict.pad_right'])\n",
      "torch.Size([1, 3, 10, 84])\n",
      "torch.Size([1, 3, 10, 84])\n",
      "torch.Size([1, 3, 64, 10])\n",
      "torch.Size([1, 3, 64, 10])\n"
     ]
    }
   ],
   "source": [
    "names_prompt_weights_copy = get_inner_loop_parameter_dict(prompt.named_parameters())\n",
    "names_weights_copy = get_inner_loop_parameter_dict(classifier.named_parameters())\n",
    "\n",
    "print(names_prompt_weights_copy.keys())\n",
    "print(names_prompt_weights_copy['pad_dict.pad_up'].shape)\n",
    "\n",
    "names_prompt_weights_copy = {\n",
    "                name.replace('module.', ''): value.unsqueeze(0).repeat(\n",
    "                    [1] + [1 for i in range(len(value.shape))]) for\n",
    "                name, value in names_prompt_weights_copy.items()}\n",
    "\n",
    "names_weights_copy = {\n",
    "                name.replace('module.', ''): value.unsqueeze(0).repeat(\n",
    "                    [1] + [1 for i in range(len(value.shape))]) for\n",
    "                name, value in names_weights_copy.items()}\n",
    "\n",
    "print(names_prompt_weights_copy.keys())\n",
    "\n",
    "print(names_prompt_weights_copy['pad_dict.pad_up'].shape)\n",
    "print(names_prompt_weights_copy['pad_dict.pad_down'].shape)\n",
    "print(names_prompt_weights_copy['pad_dict.pad_left'].shape)\n",
    "print(names_prompt_weights_copy['pad_dict.pad_right'].shape)"
   ]
  },
  {
   "cell_type": "code",
   "execution_count": 29,
   "metadata": {
    "colab": {
     "base_uri": "https://localhost:8080/"
    },
    "id": "IP124ddyQN_1",
    "outputId": "d24ac7a9-54fd-43c5-e77f-144c41802207"
   },
   "outputs": [
    {
     "name": "stdout",
     "output_type": "stream",
     "text": [
      "images.shape ==  torch.Size([25, 3, 84, 84])\n",
      "prompted_images.shape ==  torch.Size([25, 3, 84, 84])\n"
     ]
    }
   ],
   "source": [
    "print(\"images.shape == \",images.shape)\n",
    "\n",
    "prompted_images = prompt.forward(x=images, params=names_prompt_weights_copy)\n",
    "\n",
    "print(\"prompted_images.shape == \",prompted_images.shape)\n",
    "\n",
    "image_preds = classifier.forward(images, params=names_weights_copy,num_step=4)\n",
    "prompt_preds = classifier.forward(prompted_images, params=names_weights_copy,num_step=4)"
   ]
  },
  {
   "cell_type": "code",
   "execution_count": 30,
   "metadata": {},
   "outputs": [
    {
     "data": {
      "text/plain": [
       "tensor([86, 10, 92,  6,  9, 23, 54, 53, 78, 18, 57, 11, 45, 67, 40, 42, 95,  3,\n",
       "        50, 87, 30, 87, 39, 31, 69], device='cuda:0')"
      ]
     },
     "execution_count": 30,
     "metadata": {},
     "output_type": "execute_result"
    }
   ],
   "source": [
    "target"
   ]
  },
  {
   "cell_type": "code",
   "execution_count": 31,
   "metadata": {},
   "outputs": [
    {
     "name": "stderr",
     "output_type": "stream",
     "text": [
      "Clipping input data to the valid range for imshow with RGB data ([0..1] for floats or [0..255] for integers).\n"
     ]
    },
    {
     "data": {
      "image/png": "[encoded data removed]",
      "text/plain": [
       "<Figure size 640x480 with 1 Axes>"
      ]
     },
     "metadata": {},
     "output_type": "display_data"
    }
   ],
   "source": [
    "numpy_data = prompted_images[0].cpu().detach().numpy()\n",
    "\n",
    "plt.imshow(numpy_data.T, cmap=\"gray\")\n",
    "plt.show()"
   ]
  },
  {
   "cell_type": "code",
   "execution_count": 32,
   "metadata": {},
   "outputs": [
    {
     "name": "stdout",
     "output_type": "stream",
     "text": [
      "image_preds ==  tensor([[-2.4191, -1.8120,  1.0506,  0.6149,  0.0979],\n",
      "        [-0.6942, -1.3251,  0.8221,  1.5478, -0.3270],\n",
      "        [ 1.2000, -1.2420,  1.7988,  0.3921,  1.1354],\n",
      "        [ 1.1042,  0.0233,  1.5148,  1.0245, -0.1710],\n",
      "        [ 1.7633, -1.2622,  1.7470,  0.7574, -0.5718],\n",
      "        [ 0.2832, -0.4278,  0.1314,  0.1585,  0.3401],\n",
      "        [-0.1132, -1.7632,  0.1921,  0.9193, -0.1926],\n",
      "        [ 0.8875, -0.9736,  1.9524, -0.2551,  0.5114],\n",
      "        [ 0.0661, -0.5666,  2.0225,  0.1082,  0.0536],\n",
      "        [-0.4935, -0.5499, -0.1526, -0.7107, -1.7389],\n",
      "        [-0.4832, -0.1254,  2.5912,  0.3493,  0.2510],\n",
      "        [-0.7407, -0.3082, -0.3248, -0.7097, -0.2728],\n",
      "        [ 0.8583, -2.7482, -0.8760,  1.2321,  0.1712],\n",
      "        [-0.2142, -1.6593, -0.4795,  0.3036, -2.2058],\n",
      "        [-0.4187, -0.9868, -0.0970,  0.0853,  0.1122],\n",
      "        [ 1.9608,  0.1885, -1.2654,  0.4584, -0.4603],\n",
      "        [ 0.2831, -0.8993,  2.0705, -0.8726, -0.3555],\n",
      "        [-1.4633, -1.0811,  1.8622,  0.0569, -2.8876],\n",
      "        [ 0.5063, -1.0983,  0.4013, -0.0178,  0.2373],\n",
      "        [ 0.2166, -0.4458, -0.9618,  1.4609,  0.1359],\n",
      "        [-0.2980, -1.7062, -0.7221,  0.2635, -2.4366],\n",
      "        [ 1.5481, -0.2884,  2.3743,  0.0658,  0.7129],\n",
      "        [ 1.6703, -0.0862,  3.4986,  1.3547, -0.0925],\n",
      "        [-0.2485, -0.0415,  0.8982,  0.4422,  0.3919],\n",
      "        [ 1.6433, -1.2453, -0.0124,  1.5614,  0.0657]], device='cuda:0',\n",
      "       grad_fn=<AddmmBackward0>)\n",
      "prompt_preds ==  tensor([[ 1.2035, -2.3264, -1.0280,  2.0405, -0.9408],\n",
      "        [ 2.5805, -1.7241, -0.8404,  3.0424, -1.1555],\n",
      "        [ 2.4315, -1.3571, -0.7638,  3.2361, -0.5417],\n",
      "        [ 2.6425, -1.5412, -0.5381,  3.2278, -1.3554],\n",
      "        [ 1.6589, -1.5850, -0.7474,  1.6637, -0.8365],\n",
      "        [ 2.6303, -1.5801, -0.7916,  1.9851, -0.4849],\n",
      "        [ 1.9012, -1.5861, -1.0026,  1.8561, -0.6451],\n",
      "        [ 2.1999, -1.5375, -0.1774,  2.9268, -0.2951],\n",
      "        [ 2.6091, -1.5795, -0.4893,  2.7474, -0.7893],\n",
      "        [ 2.3550, -1.4200, -0.9667,  2.1359, -1.0239],\n",
      "        [ 1.8900, -1.7272, -0.9167,  2.2121, -0.2078],\n",
      "        [ 2.5829, -0.8746, -1.0827,  2.6666, -0.8586],\n",
      "        [ 2.5465, -2.1141, -0.9507,  2.3642, -1.5264],\n",
      "        [ 2.2669, -2.0279, -1.4246,  2.1707, -1.4289],\n",
      "        [ 1.8856, -1.6835, -0.9851,  2.1144, -0.4379],\n",
      "        [ 2.6548, -1.9232, -0.7416,  3.2360, -0.8357],\n",
      "        [ 2.6000, -2.0718, -0.5712,  2.3055, -0.6000],\n",
      "        [ 2.5105, -1.6221, -0.6761,  2.1691, -1.0414],\n",
      "        [ 1.5151, -2.1592, -0.9311,  1.6887, -0.5776],\n",
      "        [ 1.8245, -1.3178, -1.0784,  2.5363, -0.5301],\n",
      "        [ 2.5205, -1.9657, -1.0047,  1.9977, -1.5760],\n",
      "        [ 2.5460, -1.6457, -0.2879,  3.1998, -0.5590],\n",
      "        [ 1.7437, -2.0203, -0.6718,  2.5282, -1.0252],\n",
      "        [ 2.2438, -1.5987, -0.5878,  2.7459, -0.5307],\n",
      "        [ 1.9626, -1.6175, -0.7701,  2.1168, -1.0567]], device='cuda:0',\n",
      "       grad_fn=<AddmmBackward0>)\n"
     ]
    }
   ],
   "source": [
    "print(\"image_preds == \", image_preds)\n",
    "print(\"prompt_preds == \", prompt_preds)"
   ]
  }
 ],
 "metadata": {
  "colab": {
   "provenance": []
  },
  "kernelspec": {
   "display_name": "Python 3 (ipykernel)",
   "language": "python",
   "name": "python3"
  },
  "language_info": {
   "codemirror_mode": {
    "name": "ipython",
    "version": 3
   },
   "file_extension": ".py",
   "mimetype": "text/x-python",
   "name": "python",
   "nbconvert_exporter": "python",
   "pygments_lexer": "ipython3",
   "version": "3.7.10"
  }
 },
 "nbformat": 4,
 "nbformat_minor": 1
}
