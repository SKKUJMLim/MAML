{
 "cells": [
  {
   "cell_type": "code",
   "execution_count": 100,
   "metadata": {
    "id": "8Bk4lX3o_Frs"
   },
   "outputs": [],
   "source": [
    "import torch\n",
    "import torch.nn as nn\n",
    "import numpy as np\n",
    "\n",
    "import torch\n",
    "import torch.backends.cudnn as cudnn\n",
    "import torchvision.models as models\n",
    "import torchvision.transforms as transforms\n",
    "from torch.utils.data import DataLoader\n",
    "from torchvision.datasets import CIFAR100\n",
    "import torch.nn.functional as F\n",
    "import matplotlib.pyplot as plt\n",
    "\n",
    "\n",
    "class PadPrompter(nn.Module):\n",
    "    def __init__(self):\n",
    "        super(PadPrompter, self).__init__()\n",
    "        pad_size = 5\n",
    "        image_size = 84\n",
    "\n",
    "        self.base_size = image_size - pad_size*2\n",
    "        self.pad_up = nn.Parameter(torch.randn([1, 3, pad_size, image_size]))\n",
    "        self.pad_down = nn.Parameter(torch.randn([1, 3, pad_size, image_size]))\n",
    "        self.pad_left = nn.Parameter(torch.randn([1, 3, image_size - pad_size*2, pad_size]))\n",
    "        self.pad_right = nn.Parameter(torch.randn([1, 3, image_size - pad_size*2, pad_size]))\n",
    "\n",
    "    def forward(self, x):\n",
    "        base = torch.zeros(1, 3, self.base_size, self.base_size)\n",
    "        prompt = torch.cat([self.pad_left, base, self.pad_right], dim=3)\n",
    "        prompt = torch.cat([self.pad_up, prompt, self.pad_down], dim=2)\n",
    "        prompt = torch.cat(x.size(0) * [prompt])\n",
    "\n",
    "        return x + prompt\n",
    "\n",
    "def refine_classname(class_names):\n",
    "    for i, class_name in enumerate(class_names):\n",
    "        class_names[i] = class_name.lower().replace('_', ' ').replace('-', ' ')\n",
    "    return class_names\n",
    "\n",
    "\n",
    "def get_inner_loop_parameter_dict(params):\n",
    "\n",
    "    param_dict = dict()\n",
    "\n",
    "    for name, param in params:\n",
    "        if param.requires_grad:\n",
    "            if \"norm_layer\" not in name:\n",
    "                param_dict[name] = param\n",
    "\n",
    "    return param_dict"
   ]
  },
  {
   "cell_type": "code",
   "execution_count": 101,
   "metadata": {
    "colab": {
     "base_uri": "https://localhost:8080/"
    },
    "id": "r9PElWYWGZ7F",
    "outputId": "7d5a1cd5-188d-45c7-eea1-a4e9840a033d"
   },
   "outputs": [
    {
     "name": "stdout",
     "output_type": "stream",
     "text": [
      "Files already downloaded and verified\n",
      "Files already downloaded and verified\n"
     ]
    }
   ],
   "source": [
    "prompt = PadPrompter()\n",
    "\n",
    "preprocess = transforms.Compose([\n",
    "    transforms.Resize(84),\n",
    "    transforms.ToTensor()\n",
    "])\n",
    "\n",
    "train_dataset = CIFAR100(\"./data\", transform=preprocess,\n",
    "                          download=True, train=True)\n",
    "\n",
    "val_dataset = CIFAR100(\"./data\", transform=preprocess,\n",
    "                        download=True, train=False)\n",
    "\n",
    "train_loader = DataLoader(train_dataset,\n",
    "                          batch_size=32, pin_memory=True,\n",
    "                          num_workers=16, shuffle=True)\n",
    "\n",
    "class_names = train_dataset.classes\n",
    "class_names = refine_classname(class_names)\n",
    "indices = list(range(len(class_names)))"
   ]
  },
  {
   "cell_type": "code",
   "execution_count": 102,
   "metadata": {
    "colab": {
     "base_uri": "https://localhost:8080/"
    },
    "id": "lXvteVwGHsz9",
    "outputId": "0e304704-2ebb-4fe3-8818-9fbc69bd577e"
   },
   "outputs": [
    {
     "name": "stdout",
     "output_type": "stream",
     "text": [
      "dict_keys(['pad_up', 'pad_down', 'pad_left', 'pad_right'])\n"
     ]
    }
   ],
   "source": [
    "images, target = next(iter(train_loader))\n",
    "prompted_images = prompt(images)\n",
    "\n",
    "names_weights_copy = get_inner_loop_parameter_dict(prompt.named_parameters())\n",
    "\n",
    "print(names_weights_copy.keys())\n",
    "#print(names_weights_copy.values())"
   ]
  },
  {
   "cell_type": "code",
   "execution_count": 103,
   "metadata": {
    "colab": {
     "base_uri": "https://localhost:8080/"
    },
    "id": "PItTLquRKyA3",
    "outputId": "9e7a3651-9f25-4050-fff3-56dba6b92bb3"
   },
   "outputs": [
    {
     "data": {
      "text/plain": [
       "(None, None, None, None)"
      ]
     },
     "execution_count": 103,
     "metadata": {},
     "output_type": "execute_result"
    }
   ],
   "source": [
    "loss = torch.tensor(1.9680).requires_grad_()\n",
    "\n",
    "grads = torch.autograd.grad(loss, names_weights_copy.values(),create_graph=True, allow_unused=True)\n",
    "\n",
    "grads"
   ]
  },
  {
   "cell_type": "code",
   "execution_count": 104,
   "metadata": {
    "colab": {
     "base_uri": "https://localhost:8080/"
    },
    "id": "IP124ddyQN_1",
    "outputId": "d24ac7a9-54fd-43c5-e77f-144c41802207"
   },
   "outputs": [
    {
     "data": {
      "text/plain": [
       "(tensor([[[[-1.5524e-04, -7.1356e-05,  2.0811e-04,  ..., -5.7635e-05,\n",
       "            -2.9500e-04,  3.8750e-05],\n",
       "           [ 2.0983e-04, -3.2249e-05,  3.1342e-05,  ..., -1.4362e-04,\n",
       "             3.0468e-04, -1.8460e-04],\n",
       "           [ 2.6205e-04,  3.0193e-04, -7.8872e-05,  ..., -1.3132e-04,\n",
       "            -1.6996e-04,  3.4394e-04],\n",
       "           [ 1.2468e-04, -2.4871e-04, -2.8939e-04,  ...,  8.4199e-05,\n",
       "             1.4529e-04, -7.3534e-05],\n",
       "           [-1.9607e-04, -2.8071e-04,  4.3174e-05,  ..., -1.6229e-04,\n",
       "            -1.2035e-05,  2.7256e-04]],\n",
       " \n",
       "          [[-1.2010e-04, -3.1330e-04,  6.6958e-05,  ...,  1.5999e-04,\n",
       "            -1.5277e-06, -6.1638e-05],\n",
       "           [ 2.0500e-04, -6.8306e-05,  1.5756e-04,  ..., -2.0979e-04,\n",
       "             2.0149e-04,  9.3845e-05],\n",
       "           [ 5.8426e-05,  3.2009e-04,  2.0716e-04,  ...,  2.1147e-05,\n",
       "             4.9094e-05, -1.4855e-04],\n",
       "           [ 4.3769e-05, -1.7694e-05,  2.4613e-04,  ...,  2.4169e-04,\n",
       "            -7.2999e-05,  1.3598e-04],\n",
       "           [ 1.6916e-04,  1.1209e-05,  7.5776e-05,  ..., -1.3132e-04,\n",
       "            -1.7947e-04,  3.0700e-05]],\n",
       " \n",
       "          [[-3.3746e-04, -5.4049e-05,  2.6818e-04,  ...,  1.3350e-04,\n",
       "            -2.2871e-04, -2.7109e-04],\n",
       "           [-1.1871e-04, -2.3891e-04,  5.4120e-05,  ..., -1.3046e-04,\n",
       "            -1.3159e-04, -9.6639e-05],\n",
       "           [ 3.0525e-04, -3.0145e-04, -3.4675e-05,  ...,  5.5416e-05,\n",
       "            -8.8444e-06, -1.0629e-04],\n",
       "           [-1.2792e-04, -1.7606e-04, -7.2516e-05,  ..., -5.0117e-05,\n",
       "            -1.8837e-04,  1.7981e-04],\n",
       "           [ 7.0905e-05, -4.8534e-04,  3.2939e-05,  ..., -2.0993e-04,\n",
       "             5.1671e-05,  2.6269e-05]]]], grad_fn=<SliceBackward0>),\n",
       " tensor([[[[ 3.0834e-04, -1.2980e-04, -5.8514e-05,  ..., -4.5771e-05,\n",
       "            -3.5759e-05, -6.2439e-05],\n",
       "           [ 4.4433e-05,  1.7907e-04,  2.1797e-04,  ..., -1.2227e-04,\n",
       "            -4.0419e-05,  2.3324e-04],\n",
       "           [ 2.5180e-05, -4.5481e-04, -2.1891e-04,  ..., -8.6068e-05,\n",
       "             5.9487e-05,  4.5800e-05],\n",
       "           [-7.8885e-05,  1.3494e-04, -1.2866e-04,  ..., -1.6684e-04,\n",
       "             2.1999e-04,  7.4555e-05],\n",
       "           [ 3.3157e-05,  4.7552e-05,  3.1125e-05,  ...,  1.4023e-04,\n",
       "             1.0485e-04, -4.7948e-05]],\n",
       " \n",
       "          [[ 5.8336e-05,  3.8839e-04,  2.7246e-04,  ..., -1.4898e-04,\n",
       "            -1.4009e-04, -1.3402e-04],\n",
       "           [-1.0370e-04, -9.9378e-05, -4.6615e-05,  ..., -9.3821e-06,\n",
       "             2.6462e-06,  8.0151e-05],\n",
       "           [ 3.7022e-05, -3.4965e-04,  1.8803e-06,  ...,  2.8589e-04,\n",
       "             3.6482e-04,  5.7462e-05],\n",
       "           [-6.6584e-05, -1.7537e-05,  4.5081e-04,  ...,  7.3240e-05,\n",
       "            -1.6277e-05,  4.3147e-05],\n",
       "           [ 1.1191e-04,  7.4481e-05, -8.7444e-05,  ...,  2.3921e-04,\n",
       "            -9.4289e-05,  9.2575e-05]],\n",
       " \n",
       "          [[ 1.2724e-05,  3.7853e-04, -3.2570e-04,  ...,  1.3719e-04,\n",
       "            -9.1172e-05, -1.9931e-05],\n",
       "           [-5.7804e-05,  3.0570e-04, -5.1543e-05,  ...,  2.9243e-04,\n",
       "            -7.5877e-05, -1.1747e-04],\n",
       "           [-2.1836e-04, -4.3098e-05,  1.0421e-04,  ...,  2.2352e-04,\n",
       "             6.2556e-05,  2.7257e-04],\n",
       "           [ 2.7125e-04, -5.0548e-05,  1.6883e-04,  ..., -1.8518e-04,\n",
       "            -2.2343e-04,  1.0651e-04],\n",
       "           [ 3.3590e-05, -1.3558e-04,  1.4336e-05,  ..., -1.4937e-04,\n",
       "            -8.4577e-05,  3.2858e-05]]]], grad_fn=<SliceBackward0>),\n",
       " tensor([[[[-1.0049e-04, -2.0551e-05,  1.0592e-04,  2.0227e-05,  3.4165e-05],\n",
       "           [-2.9478e-04, -2.2437e-05, -9.1909e-05,  7.2199e-05, -3.1474e-04],\n",
       "           [ 2.6358e-04,  3.6506e-05,  1.0186e-04, -2.3109e-04,  9.6294e-05],\n",
       "           ...,\n",
       "           [-2.0391e-04,  4.9672e-04, -4.4436e-04,  9.8670e-05,  1.9368e-04],\n",
       "           [-6.9187e-06, -2.7313e-07,  1.2279e-04, -1.2722e-04, -3.9294e-04],\n",
       "           [-7.6980e-06,  1.8748e-04,  1.4570e-05, -1.1889e-04,  8.5147e-05]],\n",
       " \n",
       "          [[ 1.2264e-04,  9.2627e-05,  1.2938e-05, -3.2360e-04,  1.1497e-04],\n",
       "           [-1.7854e-04, -4.2893e-04,  2.7080e-04,  5.1833e-05,  1.8437e-04],\n",
       "           [ 1.1279e-05,  3.3309e-04, -2.9314e-04, -3.1202e-04, -1.8132e-04],\n",
       "           ...,\n",
       "           [-1.2482e-04, -1.2010e-04,  2.3262e-04,  1.1647e-05, -8.5275e-06],\n",
       "           [ 4.7452e-05, -1.8669e-04, -2.4879e-04, -1.2350e-04, -5.6008e-05],\n",
       "           [ 1.2320e-05, -1.6582e-04, -6.2492e-05,  5.6272e-04, -4.4782e-05]],\n",
       " \n",
       "          [[ 1.0663e-04,  2.6130e-04,  3.9354e-05,  1.4381e-04,  3.1615e-04],\n",
       "           [-1.1371e-04, -2.6180e-05,  1.0999e-04,  3.5089e-05, -1.1157e-04],\n",
       "           [ 1.5716e-04,  1.9208e-04, -6.4587e-06,  2.5100e-04, -8.0113e-06],\n",
       "           ...,\n",
       "           [ 3.3507e-04,  9.5488e-05,  1.1316e-04,  1.0844e-04,  2.4893e-04],\n",
       "           [ 2.4452e-05,  2.8404e-04, -2.7078e-04, -9.8534e-06, -8.2570e-06],\n",
       "           [-1.4952e-04, -1.7418e-04,  1.9591e-04,  1.2460e-04, -3.3354e-04]]]],\n",
       "        grad_fn=<SliceBackward0>),\n",
       " tensor([[[[-1.0635e-04,  7.6183e-05,  3.9700e-04,  4.8386e-05, -4.4905e-05],\n",
       "           [ 1.6309e-04, -2.3575e-05, -1.1337e-04,  3.0214e-05, -1.9703e-05],\n",
       "           [-8.6233e-05, -3.2017e-04,  1.2304e-05,  2.8189e-04, -1.0015e-04],\n",
       "           ...,\n",
       "           [ 1.3625e-04, -7.4820e-05, -6.4995e-05,  7.2401e-05,  2.8845e-04],\n",
       "           [-5.3780e-05,  3.1408e-04,  2.1909e-04, -6.3334e-05,  7.5620e-05],\n",
       "           [ 1.9881e-05, -1.7136e-04,  1.5102e-04, -7.3064e-05, -1.5157e-04]],\n",
       " \n",
       "          [[-1.3399e-04,  5.3575e-05, -7.9404e-05,  2.8007e-04, -3.0867e-04],\n",
       "           [ 1.1523e-04, -3.4368e-04, -1.0728e-04,  2.1384e-04,  1.9527e-04],\n",
       "           [-1.9500e-04,  1.3183e-04, -1.3262e-04,  1.4097e-04, -2.9919e-05],\n",
       "           ...,\n",
       "           [-3.6211e-04, -5.2329e-04, -1.4613e-04, -4.2908e-06,  1.2743e-04],\n",
       "           [ 3.8302e-04, -1.1509e-04,  1.6325e-04, -1.2423e-04,  2.1894e-04],\n",
       "           [ 2.9393e-04, -1.6744e-04,  1.0253e-04,  2.6058e-04, -1.8613e-04]],\n",
       " \n",
       "          [[ 1.5991e-05,  1.8268e-04,  3.9335e-05,  5.5618e-04, -2.5122e-05],\n",
       "           [-1.6262e-04, -3.8552e-05,  4.1897e-04,  2.1201e-04,  7.4826e-05],\n",
       "           [-1.6368e-04, -7.0618e-05, -3.0618e-04,  5.8887e-05, -2.3481e-04],\n",
       "           ...,\n",
       "           [-3.1502e-04,  1.7009e-04,  1.1560e-04,  1.1414e-04,  5.5238e-06],\n",
       "           [-1.5006e-05,  1.3911e-04, -1.8239e-04, -2.2530e-04, -7.8096e-05],\n",
       "           [ 1.5647e-04,  4.2523e-04, -5.8635e-05, -2.7963e-05,  2.1067e-04]]]],\n",
       "        grad_fn=<SliceBackward0>))"
      ]
     },
     "execution_count": 104,
     "metadata": {},
     "output_type": "execute_result"
    }
   ],
   "source": [
    "torch.manual_seed(42)\n",
    "X = torch.rand(25, 3, 84, 84, requires_grad=False)\n",
    "y = torch.randint(0, 5, (25,), dtype=torch.long)\n",
    "\n",
    "\n",
    "# CNN 모델 정의\n",
    "class CNN(nn.Module):\n",
    "    def __init__(self):\n",
    "        super(CNN, self).__init__()\n",
    "        self.conv1 = nn.Conv2d(3, 16, kernel_size=3, padding=1)\n",
    "        self.relu = nn.ReLU()\n",
    "        self.fc = nn.Linear(16 * 84 * 84, 5)\n",
    "\n",
    "    def forward(self, x):\n",
    "        x = self.relu(self.conv1(x))\n",
    "        x = x.view(x.size(0), -1)  # Flatten\n",
    "        x = self.fc(x)\n",
    "        return x\n",
    "\n",
    "    \n",
    "model = CNN()        \n",
    "\n",
    "criterion = nn.CrossEntropyLoss()\n",
    "\n",
    "prompted_images = prompt.forward(X)\n",
    "outputs = model.forward(prompted_images)\n",
    "loss= F.cross_entropy(outputs, y)\n",
    "\n",
    "\n",
    "names_prompt_weights_copy = get_inner_loop_parameter_dict(prompt.named_parameters())\n",
    "names_weights_copy = get_inner_loop_parameter_dict(model.named_parameters())\n",
    "\n",
    "grads = torch.autograd.grad(loss, names_prompt_weights_copy.values(),create_graph=True, allow_unused=True)\n",
    "grads"
   ]
  },
  {
   "cell_type": "code",
   "execution_count": 105,
   "metadata": {},
   "outputs": [
    {
     "name": "stderr",
     "output_type": "stream",
     "text": [
      "Clipping input data to the valid range for imshow with RGB data ([0..1] for floats or [0..255] for integers).\n"
     ]
    },
    {
     "data": {
      "image/png": "[encoded data removed]",
      "text/plain": [
       "<Figure size 640x480 with 1 Axes>"
      ]
     },
     "metadata": {},
     "output_type": "display_data"
    }
   ],
   "source": [
    "numpy_data = prompted_images[0].detach().numpy()\n",
    "\n",
    "plt.imshow(numpy_data.T, cmap=\"gray\")\n",
    "plt.show()"
   ]
  },
  {
   "cell_type": "code",
   "execution_count": null,
   "metadata": {},
   "outputs": [],
   "source": []
  }
 ],
 "metadata": {
  "colab": {
   "provenance": []
  },
  "kernelspec": {
   "display_name": "Python 3 (ipykernel)",
   "language": "python",
   "name": "python3"
  },
  "language_info": {
   "codemirror_mode": {
    "name": "ipython",
    "version": 3
   },
   "file_extension": ".py",
   "mimetype": "text/x-python",
   "name": "python",
   "nbconvert_exporter": "python",
   "pygments_lexer": "ipython3",
   "version": "3.7.16"
  }
 },
 "nbformat": 4,
 "nbformat_minor": 1
}
