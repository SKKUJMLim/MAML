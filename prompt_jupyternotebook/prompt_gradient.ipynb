{
 "cells": [
  {
   "cell_type": "code",
   "execution_count": 24,
   "metadata": {
    "id": "8Bk4lX3o_Frs"
   },
   "outputs": [
    {
     "name": "stdout",
     "output_type": "stream",
     "text": [
      "The autoreload extension is already loaded. To reload it, use:\n",
      "  %reload_ext autoreload\n"
     ]
    }
   ],
   "source": [
    "%load_ext autoreload\n",
    "%autoreload 2\n",
    "\n",
    "import sys, os\n",
    "\n",
    "module_path = os.path.abspath(os.path.join('..'))\n",
    "if module_path not in sys.path:\n",
    "    sys.path.append(module_path)\n",
    "\n",
    "from meta_neural_network_architectures import VGGReLUNormNetwork, ResNet12\n",
    "from prompters import padding\n",
    "from utils.parser_utils import get_args\n",
    "\n",
    "import easydict\n",
    "\n",
    "import torch\n",
    "import torch.nn as nn\n",
    "import numpy as np\n",
    "\n",
    "import torch.backends.cudnn as cudnn\n",
    "import torchvision.models as models\n",
    "import torchvision.transforms as transforms\n",
    "from torch.utils.data import DataLoader\n",
    "from torchvision.datasets import CIFAR100\n",
    "import torch.nn.functional as F\n",
    "import matplotlib.pyplot as plt"
   ]
  },
  {
   "cell_type": "code",
   "execution_count": 25,
   "metadata": {},
   "outputs": [],
   "source": [
    "os.environ['DATASET_DIR'] = os.path.join(os.getcwd(), \"datasets\")\n",
    "\n",
    "args = easydict.EasyDict(\n",
    "{\n",
    "  \"batch_size\":2,\n",
    "  \"image_height\":84,\n",
    "  \"image_width\":84,\n",
    "  \"image_channels\":3,\n",
    "  \"gpu_to_use\":0,\n",
    "  \"num_dataprovider_workers\":4,\n",
    "  \"max_models_to_save\":5,\n",
    "  \"dataset_name\":\"mini_imagenet_full_size\",\n",
    "  \"dataset_path\":\"mini_imagenet_full_size\",\n",
    "  \"reset_stored_paths\":False,\n",
    "  \"experiment_name\":\"alfa+maml\",\n",
    "  \"train_seed\": 0, \"val_seed\": 0,\n",
    "  \"indexes_of_folders_indicating_class\": [-3, -2],\n",
    "  \"sets_are_pre_split\": True,\n",
    "  \"train_val_test_split\": [0.64, 0.16, 0.20],\n",
    "  \"evaluate_on_test_set_only\": False,\n",
    "\n",
    "  \"total_epochs\": 100,\n",
    "  \"total_iter_per_epoch\":500, \"continue_from_epoch\": -2,\n",
    "  \"num_evaluation_tasks\":600,\n",
    "  \"multi_step_loss_num_epochs\": 15,\n",
    "  \"minimum_per_task_contribution\": 0.01,\n",
    "  \"learnable_per_layer_per_step_inner_loop_learning_rate\": False,\n",
    "  \"enable_inner_loop_optimizable_bn_params\": False,\n",
    "  \"evalute_on_test_set_only\": False,\n",
    "\n",
    "  \"max_pooling\": True,\n",
    "  \"per_step_bn_statistics\": False,\n",
    "  \"learnable_batch_norm_momentum\": False,\n",
    "  \"load_into_memory\": False,\n",
    "  \"init_inner_loop_learning_rate\": 0.01,\n",
    "  \"init_inner_loop_weight_decay\": 0.0005,\n",
    "  \"learnable_bn_gamma\": True,\n",
    "  \"learnable_bn_beta\": True,\n",
    "\n",
    "  \"dropout_rate_value\":0.0,\n",
    "  \"min_learning_rate\":0.001,\n",
    "  \"meta_learning_rate\":0.001,   \"total_epochs_before_pause\": 100,\n",
    "  \"first_order_to_second_order_epoch\":-1,\n",
    "  \"weight_decay\": 0.0,\n",
    "\n",
    "  \"norm_layer\":\"batch_norm\",\n",
    "  \"cnn_num_filters\":48,\n",
    "  \"num_stages\":4,\n",
    "  \"conv_padding\": True,\n",
    "  \"number_of_training_steps_per_iter\":5,\n",
    "  \"number_of_evaluation_steps_per_iter\":5,\n",
    "  \"cnn_blocks_per_stage\":1,\n",
    "  \"num_classes_per_set\":5,\n",
    "  \"num_samples_per_class\":5,\n",
    "  \"num_target_samples\": 15,\n",
    "    \"samples_per_iter\" : 1,\n",
    "\n",
    "  \"second_order\": True,\n",
    "  \"use_multi_step_loss_optimization\":False,\n",
    "  \"attenuate\": False,\n",
    "  \"alfa\": True,\n",
    "  \"random_init\": False,\n",
    "  \"backbone\": \"4-CONV\"\n",
    "}\n",
    ")\n",
    "\n",
    "device = torch.cuda.current_device()\n",
    "args.im_shape = (2, 3, args.image_height, args.image_width)\n",
    "\n",
    "args.use_cuda = torch.cuda.is_available()\n",
    "args.seed = 104\n",
    "args.reverse_channels=False\n",
    "args.labels_as_int=False\n",
    "args.reset_stored_filepaths=False\n",
    "args.num_of_gpus=1\n",
    "\n",
    "def get_inner_loop_parameter_dict(params):\n",
    "\n",
    "    param_dict = dict()\n",
    "    for name, param in params:\n",
    "        if param.requires_grad:\n",
    "            param_dict[name] = param.to(device=device)\n",
    "\n",
    "    return param_dict"
   ]
  },
  {
   "cell_type": "code",
   "execution_count": 26,
   "metadata": {},
   "outputs": [
    {
     "name": "stdout",
     "output_type": "stream",
     "text": [
      "Using max pooling\n",
      "No inner loop params\n",
      "torch.Size([2, 48, 84, 84])\n",
      "No inner loop params\n",
      "No inner loop params\n",
      "torch.Size([2, 48, 42, 42])\n",
      "No inner loop params\n",
      "No inner loop params\n",
      "torch.Size([2, 48, 21, 21])\n",
      "No inner loop params\n",
      "No inner loop params\n",
      "torch.Size([2, 48, 10, 10])\n",
      "No inner loop params\n",
      "(VGGReLUNormNetwork) meta network params\n",
      "layer_dict.conv0.conv.weight torch.Size([48, 3, 3, 3])\n",
      "layer_dict.conv0.conv.bias torch.Size([48])\n",
      "layer_dict.conv0.norm_layer.running_mean torch.Size([48])\n",
      "layer_dict.conv0.norm_layer.running_var torch.Size([48])\n",
      "layer_dict.conv0.norm_layer.bias torch.Size([48])\n",
      "layer_dict.conv0.norm_layer.weight torch.Size([48])\n",
      "layer_dict.conv1.conv.weight torch.Size([48, 48, 3, 3])\n",
      "layer_dict.conv1.conv.bias torch.Size([48])\n",
      "layer_dict.conv1.norm_layer.running_mean torch.Size([48])\n",
      "layer_dict.conv1.norm_layer.running_var torch.Size([48])\n",
      "layer_dict.conv1.norm_layer.bias torch.Size([48])\n",
      "layer_dict.conv1.norm_layer.weight torch.Size([48])\n",
      "layer_dict.conv2.conv.weight torch.Size([48, 48, 3, 3])\n",
      "layer_dict.conv2.conv.bias torch.Size([48])\n",
      "layer_dict.conv2.norm_layer.running_mean torch.Size([48])\n",
      "layer_dict.conv2.norm_layer.running_var torch.Size([48])\n",
      "layer_dict.conv2.norm_layer.bias torch.Size([48])\n",
      "layer_dict.conv2.norm_layer.weight torch.Size([48])\n",
      "layer_dict.conv3.conv.weight torch.Size([48, 48, 3, 3])\n",
      "layer_dict.conv3.conv.bias torch.Size([48])\n",
      "layer_dict.conv3.norm_layer.running_mean torch.Size([48])\n",
      "layer_dict.conv3.norm_layer.running_var torch.Size([48])\n",
      "layer_dict.conv3.norm_layer.bias torch.Size([48])\n",
      "layer_dict.conv3.norm_layer.weight torch.Size([48])\n",
      "layer_dict.linear.weights torch.Size([5, 1200])\n",
      "layer_dict.linear.bias torch.Size([5])\n"
     ]
    }
   ],
   "source": [
    "classifier = VGGReLUNormNetwork(im_shape=args.im_shape, num_output_classes=\n",
    "                                                 args.num_classes_per_set,\n",
    "                                                 args=args, device=device, meta_classifier=True).to(device=device)\n",
    "\n",
    "\n",
    "prompt = padding(args=args, prompt_size=10, image_size=args.im_shape).to(device=device)"
   ]
  },
  {
   "cell_type": "code",
   "execution_count": 27,
   "metadata": {
    "colab": {
     "base_uri": "https://localhost:8080/"
    },
    "id": "r9PElWYWGZ7F",
    "outputId": "7d5a1cd5-188d-45c7-eea1-a4e9840a033d"
   },
   "outputs": [
    {
     "name": "stdout",
     "output_type": "stream",
     "text": [
      "Files already downloaded and verified\n",
      "Files already downloaded and verified\n"
     ]
    }
   ],
   "source": [
    "preprocess = transforms.Compose([\n",
    "    transforms.Resize(84),\n",
    "    transforms.ToTensor()\n",
    "])\n",
    "\n",
    "train_dataset = CIFAR100(\"./data\", transform=preprocess,\n",
    "                          download=True, train=True)\n",
    "\n",
    "val_dataset = CIFAR100(\"./data\", transform=preprocess,\n",
    "                        download=True, train=False)\n",
    "\n",
    "train_loader = DataLoader(train_dataset,\n",
    "                          batch_size=25, pin_memory=True,\n",
    "                          num_workers=16, shuffle=True)\n",
    "\n",
    "class_names = train_dataset.classes"
   ]
  },
  {
   "cell_type": "code",
   "execution_count": 28,
   "metadata": {
    "colab": {
     "base_uri": "https://localhost:8080/"
    },
    "id": "lXvteVwGHsz9",
    "outputId": "0e304704-2ebb-4fe3-8818-9fbc69bd577e"
   },
   "outputs": [],
   "source": [
    "images, target = next(iter(train_loader))\n",
    "images = images.to(device)\n",
    "target = target.to(device)"
   ]
  },
  {
   "cell_type": "code",
   "execution_count": 29,
   "metadata": {},
   "outputs": [
    {
     "name": "stdout",
     "output_type": "stream",
     "text": [
      "dict_keys(['pad_dict.pad_up', 'pad_dict.pad_down', 'pad_dict.pad_left', 'pad_dict.pad_right'])\n",
      "torch.Size([3, 10, 84])\n",
      "dict_keys(['pad_dict.pad_up', 'pad_dict.pad_down', 'pad_dict.pad_left', 'pad_dict.pad_right'])\n",
      "torch.Size([1, 3, 10, 84])\n",
      "torch.Size([1, 3, 10, 84])\n",
      "torch.Size([1, 3, 64, 10])\n",
      "torch.Size([1, 3, 64, 10])\n"
     ]
    }
   ],
   "source": [
    "names_prompt_weights_copy = get_inner_loop_parameter_dict(prompt.named_parameters())\n",
    "names_weights_copy = get_inner_loop_parameter_dict(classifier.named_parameters())\n",
    "\n",
    "print(names_prompt_weights_copy.keys())\n",
    "print(names_prompt_weights_copy['pad_dict.pad_up'].shape)\n",
    "\n",
    "names_prompt_weights_copy = {\n",
    "                name.replace('module.', ''): value.unsqueeze(0).repeat(\n",
    "                    [1] + [1 for i in range(len(value.shape))]) for\n",
    "                name, value in names_prompt_weights_copy.items()}\n",
    "\n",
    "names_weights_copy = {\n",
    "                name.replace('module.', ''): value.unsqueeze(0).repeat(\n",
    "                    [1] + [1 for i in range(len(value.shape))]) for\n",
    "                name, value in names_weights_copy.items()}\n",
    "\n",
    "print(names_prompt_weights_copy.keys())\n",
    "\n",
    "print(names_prompt_weights_copy['pad_dict.pad_up'].shape)\n",
    "print(names_prompt_weights_copy['pad_dict.pad_down'].shape)\n",
    "print(names_prompt_weights_copy['pad_dict.pad_left'].shape)\n",
    "print(names_prompt_weights_copy['pad_dict.pad_right'].shape)"
   ]
  },
  {
   "cell_type": "code",
   "execution_count": 30,
   "metadata": {
    "colab": {
     "base_uri": "https://localhost:8080/"
    },
    "id": "IP124ddyQN_1",
    "outputId": "d24ac7a9-54fd-43c5-e77f-144c41802207"
   },
   "outputs": [
    {
     "name": "stdout",
     "output_type": "stream",
     "text": [
      "images.shape ==  torch.Size([25, 3, 84, 84])\n",
      "prompted_images.shape ==  torch.Size([25, 3, 84, 84])\n"
     ]
    }
   ],
   "source": [
    "print(\"images.shape == \",images.shape)\n",
    "\n",
    "prompted_images = prompt.forward(x=images, params=names_prompt_weights_copy)\n",
    "\n",
    "print(\"prompted_images.shape == \",prompted_images.shape)\n",
    "\n",
    "image_preds = classifier.forward(images, params=names_weights_copy,num_step=4)\n",
    "prompt_preds = classifier.forward(prompted_images, params=names_weights_copy,num_step=4)"
   ]
  },
  {
   "cell_type": "code",
   "execution_count": 31,
   "metadata": {},
   "outputs": [
    {
     "data": {
      "text/plain": [
       "tensor([31, 54,  5, 47, 31, 91, 59, 20, 75, 80,  4, 28,  7, 18, 76, 69, 21, 86,\n",
       "        40, 21, 42, 22, 57,  9, 10], device='cuda:0')"
      ]
     },
     "execution_count": 31,
     "metadata": {},
     "output_type": "execute_result"
    }
   ],
   "source": [
    "target"
   ]
  },
  {
   "cell_type": "code",
   "execution_count": 32,
   "metadata": {},
   "outputs": [
    {
     "name": "stderr",
     "output_type": "stream",
     "text": [
      "Clipping input data to the valid range for imshow with RGB data ([0..1] for floats or [0..255] for integers).\n"
     ]
    },
    {
     "data": {
      "image/png": "[encoded data removed]",
      "text/plain": [
       "<Figure size 640x480 with 1 Axes>"
      ]
     },
     "metadata": {},
     "output_type": "display_data"
    }
   ],
   "source": [
    "numpy_data = prompted_images[0].cpu().detach().numpy()\n",
    "\n",
    "plt.imshow(numpy_data.T, cmap=\"gray\")\n",
    "plt.show()"
   ]
  },
  {
   "cell_type": "code",
   "execution_count": 33,
   "metadata": {},
   "outputs": [
    {
     "name": "stdout",
     "output_type": "stream",
     "text": [
      "image_preds ==  tensor([[ 1.9417e+00,  2.4748e-04, -9.6584e-01,  5.1365e-01,  4.5959e-01],\n",
      "        [ 3.4342e+00, -1.1699e+00, -9.4687e-01,  2.8906e-01,  1.1707e+00],\n",
      "        [ 1.4730e+00, -7.7554e-01, -2.4254e+00, -1.0942e+00, -4.2799e-01],\n",
      "        [ 1.9411e+00, -5.6092e-01, -2.7884e+00,  1.2965e-01,  1.7377e+00],\n",
      "        [ 1.8083e+00,  7.7581e-02, -1.8416e+00, -3.6353e-01, -4.0937e-01],\n",
      "        [ 3.5951e+00, -3.0406e-01, -2.0378e+00,  1.5555e-01, -1.1186e+00],\n",
      "        [ 2.7708e+00,  1.5751e+00, -2.9422e+00, -1.4546e+00, -3.3409e+00],\n",
      "        [ 1.1462e+00, -1.7942e+00, -1.1266e+00, -7.7718e-01,  3.0239e+00],\n",
      "        [ 3.4059e+00, -4.3651e-01, -2.8595e+00, -6.0357e-01,  1.4696e+00],\n",
      "        [ 3.3071e+00,  7.1972e-01, -1.0115e+00,  6.8977e-02,  1.2504e+00],\n",
      "        [ 1.5356e+00, -2.6697e-01, -1.7821e+00, -8.0888e-01, -3.3313e-01],\n",
      "        [ 1.4325e+00, -1.5899e+00, -9.0507e-01, -1.1146e+00,  2.3388e+00],\n",
      "        [ 2.9781e+00, -1.1710e+00, -3.0230e+00, -9.0990e-01,  8.1170e-01],\n",
      "        [ 3.2256e+00,  2.5172e+00, -2.6725e+00, -5.3510e-01, -2.0213e-01],\n",
      "        [ 2.9692e+00, -2.5402e-01, -1.3391e+00,  5.6967e-01,  9.9940e-01],\n",
      "        [ 1.9540e+00, -9.9257e-01, -1.4035e+00,  8.8236e-01,  4.7554e-01],\n",
      "        [ 1.9617e+00,  6.9905e-01, -2.5435e+00, -5.4943e-01,  1.5685e+00],\n",
      "        [ 1.0285e+00, -3.3857e+00, -1.4069e+00, -3.5827e-01,  7.4457e-01],\n",
      "        [ 1.7111e+00,  4.6923e-01, -4.5661e-01,  2.1446e-01,  1.8036e+00],\n",
      "        [ 2.3345e+00,  6.7717e-01, -1.7850e+00, -9.4227e-01, -1.9001e-01],\n",
      "        [ 1.6179e+00, -1.1468e+00, -2.5470e+00, -1.5670e+00,  3.0582e-01],\n",
      "        [ 2.0149e+00, -4.7845e-01, -1.8470e+00,  4.4484e-01,  7.4157e-01],\n",
      "        [ 3.0356e+00, -2.0123e+00, -3.3405e+00, -1.2851e+00, -9.8955e-01],\n",
      "        [ 2.9436e+00,  2.3682e-01, -1.5806e+00, -9.1254e-01,  6.0430e-01],\n",
      "        [ 1.9115e+00, -2.4275e+00, -1.9590e+00,  1.2914e+00,  8.1540e-01]],\n",
      "       device='cuda:0', grad_fn=<AddmmBackward>)\n",
      "prompt_preds ==  tensor([[ 2.6863,  0.9174, -3.8329,  0.0122,  0.2632],\n",
      "        [ 2.5827,  1.3227, -2.8996,  0.6657, -0.1908],\n",
      "        [ 1.8559,  0.1894, -4.5441, -0.1448, -0.1304],\n",
      "        [ 1.9099,  0.4566, -4.2008,  0.4101,  0.1892],\n",
      "        [ 1.9794, -0.2370, -4.1220,  0.2405,  0.1890],\n",
      "        [ 2.6921,  1.2553, -3.5512,  0.3422, -0.5065],\n",
      "        [ 3.2602,  1.1638, -3.7382,  0.1115, -0.5099],\n",
      "        [ 2.0505, -0.7686, -4.1970, -0.1530,  0.4933],\n",
      "        [ 2.9032,  0.3369, -3.8016,  0.9420,  0.3362],\n",
      "        [ 2.2336,  1.5962, -2.9827,  0.5747,  0.1266],\n",
      "        [ 2.0524,  0.9079, -3.8507, -0.2144, -0.2559],\n",
      "        [ 2.4384,  0.0784, -3.4007,  0.4947, -0.2002],\n",
      "        [ 2.0361,  0.3472, -3.2367,  0.0808,  0.1089],\n",
      "        [ 2.4306,  1.0511, -3.5403, -0.1207,  0.0802],\n",
      "        [ 2.6808,  1.1685, -2.8807,  0.6465,  0.2479],\n",
      "        [ 2.0678,  0.1408, -3.7220,  0.5045, -0.0726],\n",
      "        [ 2.7323,  0.4902, -3.9741, -1.3525,  0.7462],\n",
      "        [ 1.8308, -0.5316, -4.2375, -0.2835,  0.2118],\n",
      "        [ 2.5340,  1.8863, -3.3160, -0.0861,  0.0689],\n",
      "        [ 2.0747,  0.4091, -3.3532,  0.5604,  0.1354],\n",
      "        [ 2.2138,  0.3208, -3.4928,  0.2105, -0.2863],\n",
      "        [ 2.3362, -0.0185, -4.1958, -0.1305,  0.7005],\n",
      "        [ 2.0082, -1.3045, -4.9558, -0.6161,  0.9263],\n",
      "        [ 2.3598,  1.0445, -3.8247,  0.9882, -0.2378],\n",
      "        [ 2.5156, -0.2614, -4.3215,  0.5480, -0.4148]], device='cuda:0',\n",
      "       grad_fn=<AddmmBackward>)\n"
     ]
    }
   ],
   "source": [
    "print(\"image_preds == \", image_preds)\n",
    "print(\"prompt_preds == \", prompt_preds)"
   ]
  }
 ],
 "metadata": {
  "colab": {
   "provenance": []
  },
  "kernelspec": {
   "display_name": "Python 3 (ipykernel)",
   "language": "python",
   "name": "python3"
  },
  "language_info": {
   "codemirror_mode": {
    "name": "ipython",
    "version": 3
   },
   "file_extension": ".py",
   "mimetype": "text/x-python",
   "name": "python",
   "nbconvert_exporter": "python",
   "pygments_lexer": "ipython3",
   "version": "3.7.16"
  }
 },
 "nbformat": 4,
 "nbformat_minor": 1
}
